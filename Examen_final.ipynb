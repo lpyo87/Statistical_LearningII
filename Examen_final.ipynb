{
 "cells": [
  {
   "cell_type": "markdown",
   "metadata": {},
   "source": [
    "#### Luis Pedro Pérez\n",
    "##### 22008067"
   ]
  },
  {
   "cell_type": "markdown",
   "metadata": {},
   "source": [
    "Se procede a realizar un análisis basado en datos bancarios para seleccionar variables que puedan apoyar a un estudio de marketing"
   ]
  },
  {
   "cell_type": "markdown",
   "metadata": {},
   "source": [
    "Se importa la librería pandas para realizar la carga, manipulación y visualización del dataset"
   ]
  },
  {
   "cell_type": "code",
   "execution_count": 1,
   "metadata": {},
   "outputs": [],
   "source": [
    "import pandas as pd\n",
    "import matplotlib.pyplot as plt\n",
    "import scipy.stats as stats\n",
    "import seaborn as sns"
   ]
  },
  {
   "cell_type": "markdown",
   "metadata": {},
   "source": [
    "Se carga el dataset y se define como data"
   ]
  },
  {
   "cell_type": "code",
   "execution_count": 2,
   "metadata": {},
   "outputs": [],
   "source": [
    "data = pd.read_csv('Semana8/BankChurners.csv')"
   ]
  },
  {
   "cell_type": "markdown",
   "metadata": {},
   "source": [
    "Se utiliza de la librería summarytools el módulo dfSummary para poder visualizar el comportamiento de las variables"
   ]
  },
  {
   "cell_type": "code",
   "execution_count": 3,
   "metadata": {},
   "outputs": [],
   "source": [
    "from summarytools import dfSummary"
   ]
  },
  {
   "cell_type": "markdown",
   "metadata": {},
   "source": [
    "Se describe como se compone el dataset por medio de la función describe()"
   ]
  },
  {
   "cell_type": "code",
   "execution_count": 4,
   "metadata": {},
   "outputs": [
    {
     "data": {
      "text/html": [
       "<div>\n",
       "<style scoped>\n",
       "    .dataframe tbody tr th:only-of-type {\n",
       "        vertical-align: middle;\n",
       "    }\n",
       "\n",
       "    .dataframe tbody tr th {\n",
       "        vertical-align: top;\n",
       "    }\n",
       "\n",
       "    .dataframe thead th {\n",
       "        text-align: right;\n",
       "    }\n",
       "</style>\n",
       "<table border=\"1\" class=\"dataframe\">\n",
       "  <thead>\n",
       "    <tr style=\"text-align: right;\">\n",
       "      <th></th>\n",
       "      <th>CLIENTNUM</th>\n",
       "      <th>Customer_Age</th>\n",
       "      <th>Dependent_count</th>\n",
       "      <th>Months_on_book</th>\n",
       "      <th>Total_Relationship_Count</th>\n",
       "      <th>Months_Inactive_12_mon</th>\n",
       "      <th>Contacts_Count_12_mon</th>\n",
       "      <th>Credit_Limit</th>\n",
       "      <th>Total_Revolving_Bal</th>\n",
       "      <th>Avg_Open_To_Buy</th>\n",
       "      <th>Total_Amt_Chng_Q4_Q1</th>\n",
       "      <th>Total_Trans_Amt</th>\n",
       "      <th>Total_Trans_Ct</th>\n",
       "      <th>Total_Ct_Chng_Q4_Q1</th>\n",
       "      <th>Avg_Utilization_Ratio</th>\n",
       "      <th>Naive_Bayes_Classifier_Attrition_Flag_Card_Category_Contacts_Count_12_mon_Dependent_count_Education_Level_Months_Inactive_12_mon_1</th>\n",
       "      <th>Naive_Bayes_Classifier_Attrition_Flag_Card_Category_Contacts_Count_12_mon_Dependent_count_Education_Level_Months_Inactive_12_mon_2</th>\n",
       "    </tr>\n",
       "  </thead>\n",
       "  <tbody>\n",
       "    <tr>\n",
       "      <th>count</th>\n",
       "      <td>1.012700e+04</td>\n",
       "      <td>10127.000000</td>\n",
       "      <td>10127.000000</td>\n",
       "      <td>10127.000000</td>\n",
       "      <td>10127.000000</td>\n",
       "      <td>10127.000000</td>\n",
       "      <td>10127.000000</td>\n",
       "      <td>10127.000000</td>\n",
       "      <td>10127.000000</td>\n",
       "      <td>10127.000000</td>\n",
       "      <td>10127.000000</td>\n",
       "      <td>10127.000000</td>\n",
       "      <td>10127.000000</td>\n",
       "      <td>10127.000000</td>\n",
       "      <td>10127.000000</td>\n",
       "      <td>10127.000000</td>\n",
       "      <td>10127.000000</td>\n",
       "    </tr>\n",
       "    <tr>\n",
       "      <th>mean</th>\n",
       "      <td>7.391776e+08</td>\n",
       "      <td>46.325960</td>\n",
       "      <td>2.346203</td>\n",
       "      <td>35.928409</td>\n",
       "      <td>3.812580</td>\n",
       "      <td>2.341167</td>\n",
       "      <td>2.455317</td>\n",
       "      <td>8631.953698</td>\n",
       "      <td>1162.814061</td>\n",
       "      <td>7469.139637</td>\n",
       "      <td>0.759941</td>\n",
       "      <td>4404.086304</td>\n",
       "      <td>64.858695</td>\n",
       "      <td>0.712222</td>\n",
       "      <td>0.274894</td>\n",
       "      <td>0.159997</td>\n",
       "      <td>0.840003</td>\n",
       "    </tr>\n",
       "    <tr>\n",
       "      <th>std</th>\n",
       "      <td>3.690378e+07</td>\n",
       "      <td>8.016814</td>\n",
       "      <td>1.298908</td>\n",
       "      <td>7.986416</td>\n",
       "      <td>1.554408</td>\n",
       "      <td>1.010622</td>\n",
       "      <td>1.106225</td>\n",
       "      <td>9088.776650</td>\n",
       "      <td>814.987335</td>\n",
       "      <td>9090.685324</td>\n",
       "      <td>0.219207</td>\n",
       "      <td>3397.129254</td>\n",
       "      <td>23.472570</td>\n",
       "      <td>0.238086</td>\n",
       "      <td>0.275691</td>\n",
       "      <td>0.365301</td>\n",
       "      <td>0.365301</td>\n",
       "    </tr>\n",
       "    <tr>\n",
       "      <th>min</th>\n",
       "      <td>7.080821e+08</td>\n",
       "      <td>26.000000</td>\n",
       "      <td>0.000000</td>\n",
       "      <td>13.000000</td>\n",
       "      <td>1.000000</td>\n",
       "      <td>0.000000</td>\n",
       "      <td>0.000000</td>\n",
       "      <td>1438.300000</td>\n",
       "      <td>0.000000</td>\n",
       "      <td>3.000000</td>\n",
       "      <td>0.000000</td>\n",
       "      <td>510.000000</td>\n",
       "      <td>10.000000</td>\n",
       "      <td>0.000000</td>\n",
       "      <td>0.000000</td>\n",
       "      <td>0.000008</td>\n",
       "      <td>0.000420</td>\n",
       "    </tr>\n",
       "    <tr>\n",
       "      <th>25%</th>\n",
       "      <td>7.130368e+08</td>\n",
       "      <td>41.000000</td>\n",
       "      <td>1.000000</td>\n",
       "      <td>31.000000</td>\n",
       "      <td>3.000000</td>\n",
       "      <td>2.000000</td>\n",
       "      <td>2.000000</td>\n",
       "      <td>2555.000000</td>\n",
       "      <td>359.000000</td>\n",
       "      <td>1324.500000</td>\n",
       "      <td>0.631000</td>\n",
       "      <td>2155.500000</td>\n",
       "      <td>45.000000</td>\n",
       "      <td>0.582000</td>\n",
       "      <td>0.023000</td>\n",
       "      <td>0.000099</td>\n",
       "      <td>0.999660</td>\n",
       "    </tr>\n",
       "    <tr>\n",
       "      <th>50%</th>\n",
       "      <td>7.179264e+08</td>\n",
       "      <td>46.000000</td>\n",
       "      <td>2.000000</td>\n",
       "      <td>36.000000</td>\n",
       "      <td>4.000000</td>\n",
       "      <td>2.000000</td>\n",
       "      <td>2.000000</td>\n",
       "      <td>4549.000000</td>\n",
       "      <td>1276.000000</td>\n",
       "      <td>3474.000000</td>\n",
       "      <td>0.736000</td>\n",
       "      <td>3899.000000</td>\n",
       "      <td>67.000000</td>\n",
       "      <td>0.702000</td>\n",
       "      <td>0.176000</td>\n",
       "      <td>0.000181</td>\n",
       "      <td>0.999820</td>\n",
       "    </tr>\n",
       "    <tr>\n",
       "      <th>75%</th>\n",
       "      <td>7.731435e+08</td>\n",
       "      <td>52.000000</td>\n",
       "      <td>3.000000</td>\n",
       "      <td>40.000000</td>\n",
       "      <td>5.000000</td>\n",
       "      <td>3.000000</td>\n",
       "      <td>3.000000</td>\n",
       "      <td>11067.500000</td>\n",
       "      <td>1784.000000</td>\n",
       "      <td>9859.000000</td>\n",
       "      <td>0.859000</td>\n",
       "      <td>4741.000000</td>\n",
       "      <td>81.000000</td>\n",
       "      <td>0.818000</td>\n",
       "      <td>0.503000</td>\n",
       "      <td>0.000337</td>\n",
       "      <td>0.999900</td>\n",
       "    </tr>\n",
       "    <tr>\n",
       "      <th>max</th>\n",
       "      <td>8.283431e+08</td>\n",
       "      <td>73.000000</td>\n",
       "      <td>5.000000</td>\n",
       "      <td>56.000000</td>\n",
       "      <td>6.000000</td>\n",
       "      <td>6.000000</td>\n",
       "      <td>6.000000</td>\n",
       "      <td>34516.000000</td>\n",
       "      <td>2517.000000</td>\n",
       "      <td>34516.000000</td>\n",
       "      <td>3.397000</td>\n",
       "      <td>18484.000000</td>\n",
       "      <td>139.000000</td>\n",
       "      <td>3.714000</td>\n",
       "      <td>0.999000</td>\n",
       "      <td>0.999580</td>\n",
       "      <td>0.999990</td>\n",
       "    </tr>\n",
       "  </tbody>\n",
       "</table>\n",
       "</div>"
      ],
      "text/plain": [
       "          CLIENTNUM  Customer_Age  Dependent_count  Months_on_book  \\\n",
       "count  1.012700e+04  10127.000000     10127.000000    10127.000000   \n",
       "mean   7.391776e+08     46.325960         2.346203       35.928409   \n",
       "std    3.690378e+07      8.016814         1.298908        7.986416   \n",
       "min    7.080821e+08     26.000000         0.000000       13.000000   \n",
       "25%    7.130368e+08     41.000000         1.000000       31.000000   \n",
       "50%    7.179264e+08     46.000000         2.000000       36.000000   \n",
       "75%    7.731435e+08     52.000000         3.000000       40.000000   \n",
       "max    8.283431e+08     73.000000         5.000000       56.000000   \n",
       "\n",
       "       Total_Relationship_Count  Months_Inactive_12_mon  \\\n",
       "count              10127.000000            10127.000000   \n",
       "mean                   3.812580                2.341167   \n",
       "std                    1.554408                1.010622   \n",
       "min                    1.000000                0.000000   \n",
       "25%                    3.000000                2.000000   \n",
       "50%                    4.000000                2.000000   \n",
       "75%                    5.000000                3.000000   \n",
       "max                    6.000000                6.000000   \n",
       "\n",
       "       Contacts_Count_12_mon  Credit_Limit  Total_Revolving_Bal  \\\n",
       "count           10127.000000  10127.000000         10127.000000   \n",
       "mean                2.455317   8631.953698          1162.814061   \n",
       "std                 1.106225   9088.776650           814.987335   \n",
       "min                 0.000000   1438.300000             0.000000   \n",
       "25%                 2.000000   2555.000000           359.000000   \n",
       "50%                 2.000000   4549.000000          1276.000000   \n",
       "75%                 3.000000  11067.500000          1784.000000   \n",
       "max                 6.000000  34516.000000          2517.000000   \n",
       "\n",
       "       Avg_Open_To_Buy  Total_Amt_Chng_Q4_Q1  Total_Trans_Amt  Total_Trans_Ct  \\\n",
       "count     10127.000000          10127.000000     10127.000000    10127.000000   \n",
       "mean       7469.139637              0.759941      4404.086304       64.858695   \n",
       "std        9090.685324              0.219207      3397.129254       23.472570   \n",
       "min           3.000000              0.000000       510.000000       10.000000   \n",
       "25%        1324.500000              0.631000      2155.500000       45.000000   \n",
       "50%        3474.000000              0.736000      3899.000000       67.000000   \n",
       "75%        9859.000000              0.859000      4741.000000       81.000000   \n",
       "max       34516.000000              3.397000     18484.000000      139.000000   \n",
       "\n",
       "       Total_Ct_Chng_Q4_Q1  Avg_Utilization_Ratio  \\\n",
       "count         10127.000000           10127.000000   \n",
       "mean              0.712222               0.274894   \n",
       "std               0.238086               0.275691   \n",
       "min               0.000000               0.000000   \n",
       "25%               0.582000               0.023000   \n",
       "50%               0.702000               0.176000   \n",
       "75%               0.818000               0.503000   \n",
       "max               3.714000               0.999000   \n",
       "\n",
       "       Naive_Bayes_Classifier_Attrition_Flag_Card_Category_Contacts_Count_12_mon_Dependent_count_Education_Level_Months_Inactive_12_mon_1  \\\n",
       "count                                       10127.000000                                                                                    \n",
       "mean                                            0.159997                                                                                    \n",
       "std                                             0.365301                                                                                    \n",
       "min                                             0.000008                                                                                    \n",
       "25%                                             0.000099                                                                                    \n",
       "50%                                             0.000181                                                                                    \n",
       "75%                                             0.000337                                                                                    \n",
       "max                                             0.999580                                                                                    \n",
       "\n",
       "       Naive_Bayes_Classifier_Attrition_Flag_Card_Category_Contacts_Count_12_mon_Dependent_count_Education_Level_Months_Inactive_12_mon_2  \n",
       "count                                       10127.000000                                                                                   \n",
       "mean                                            0.840003                                                                                   \n",
       "std                                             0.365301                                                                                   \n",
       "min                                             0.000420                                                                                   \n",
       "25%                                             0.999660                                                                                   \n",
       "50%                                             0.999820                                                                                   \n",
       "75%                                             0.999900                                                                                   \n",
       "max                                             0.999990                                                                                   "
      ]
     },
     "execution_count": 4,
     "metadata": {},
     "output_type": "execute_result"
    }
   ],
   "source": [
    "data.describe()"
   ]
  },
  {
   "cell_type": "markdown",
   "metadata": {},
   "source": [
    "Se extrae la forma del dataset"
   ]
  },
  {
   "cell_type": "code",
   "execution_count": 5,
   "metadata": {},
   "outputs": [
    {
     "data": {
      "text/plain": [
       "(10127, 23)"
      ]
     },
     "execution_count": 5,
     "metadata": {},
     "output_type": "execute_result"
    }
   ],
   "source": [
    "# Forma de dataset\n",
    "data.shape"
   ]
  },
  {
   "cell_type": "markdown",
   "metadata": {},
   "source": [
    "Se visualiza la composición y distribución de las columnas del dataset"
   ]
  },
  {
   "cell_type": "code",
   "execution_count": 6,
   "metadata": {},
   "outputs": [
    {
     "data": {
      "text/html": [
       "<style type=\"text/css\">\n",
       "#T_123f4 thead>tr>th {\n",
       "  text-align: left;\n",
       "}\n",
       "#T_123f4_row0_col0, #T_123f4_row1_col0, #T_123f4_row2_col0, #T_123f4_row3_col0, #T_123f4_row4_col0, #T_123f4_row5_col0, #T_123f4_row6_col0, #T_123f4_row7_col0, #T_123f4_row8_col0, #T_123f4_row9_col0, #T_123f4_row10_col0, #T_123f4_row11_col0, #T_123f4_row12_col0, #T_123f4_row13_col0, #T_123f4_row14_col0, #T_123f4_row15_col0, #T_123f4_row16_col0, #T_123f4_row17_col0, #T_123f4_row18_col0, #T_123f4_row19_col0, #T_123f4_row20_col0, #T_123f4_row21_col0, #T_123f4_row22_col0 {\n",
       "  text-align: left;\n",
       "  font-size: 12px;\n",
       "  vertical-align: middle;\n",
       "  width: 5%;\n",
       "  max-width: 50px;\n",
       "  min-width: 20px;\n",
       "}\n",
       "#T_123f4_row0_col1, #T_123f4_row1_col1, #T_123f4_row2_col1, #T_123f4_row3_col1, #T_123f4_row4_col1, #T_123f4_row5_col1, #T_123f4_row6_col1, #T_123f4_row7_col1, #T_123f4_row8_col1, #T_123f4_row9_col1, #T_123f4_row10_col1, #T_123f4_row11_col1, #T_123f4_row12_col1, #T_123f4_row13_col1, #T_123f4_row14_col1, #T_123f4_row15_col1, #T_123f4_row16_col1, #T_123f4_row17_col1, #T_123f4_row18_col1, #T_123f4_row19_col1, #T_123f4_row20_col1, #T_123f4_row21_col1, #T_123f4_row22_col1 {\n",
       "  text-align: left;\n",
       "  font-size: 12px;\n",
       "  vertical-align: middle;\n",
       "  width: 15%;\n",
       "  max-width: 200px;\n",
       "  min-width: 100px;\n",
       "  word-break: break-word;\n",
       "}\n",
       "#T_123f4_row0_col2, #T_123f4_row1_col2, #T_123f4_row2_col2, #T_123f4_row3_col2, #T_123f4_row4_col2, #T_123f4_row5_col2, #T_123f4_row6_col2, #T_123f4_row7_col2, #T_123f4_row8_col2, #T_123f4_row9_col2, #T_123f4_row10_col2, #T_123f4_row11_col2, #T_123f4_row12_col2, #T_123f4_row13_col2, #T_123f4_row14_col2, #T_123f4_row15_col2, #T_123f4_row16_col2, #T_123f4_row17_col2, #T_123f4_row18_col2, #T_123f4_row19_col2, #T_123f4_row20_col2, #T_123f4_row21_col2, #T_123f4_row22_col2 {\n",
       "  text-align: left;\n",
       "  font-size: 12px;\n",
       "  vertical-align: middle;\n",
       "  width: 30%;\n",
       "  min-width: 100px;\n",
       "}\n",
       "#T_123f4_row0_col3, #T_123f4_row1_col3, #T_123f4_row2_col3, #T_123f4_row3_col3, #T_123f4_row4_col3, #T_123f4_row5_col3, #T_123f4_row6_col3, #T_123f4_row7_col3, #T_123f4_row8_col3, #T_123f4_row9_col3, #T_123f4_row10_col3, #T_123f4_row11_col3, #T_123f4_row12_col3, #T_123f4_row13_col3, #T_123f4_row14_col3, #T_123f4_row15_col3, #T_123f4_row16_col3, #T_123f4_row17_col3, #T_123f4_row18_col3, #T_123f4_row19_col3, #T_123f4_row20_col3, #T_123f4_row21_col3, #T_123f4_row22_col3 {\n",
       "  text-align: left;\n",
       "  font-size: 12px;\n",
       "  vertical-align: middle;\n",
       "  width: 25%;\n",
       "  min-width: 100px;\n",
       "}\n",
       "#T_123f4_row0_col4, #T_123f4_row1_col4, #T_123f4_row2_col4, #T_123f4_row3_col4, #T_123f4_row4_col4, #T_123f4_row5_col4, #T_123f4_row6_col4, #T_123f4_row7_col4, #T_123f4_row8_col4, #T_123f4_row9_col4, #T_123f4_row10_col4, #T_123f4_row11_col4, #T_123f4_row12_col4, #T_123f4_row13_col4, #T_123f4_row14_col4, #T_123f4_row15_col4, #T_123f4_row16_col4, #T_123f4_row17_col4, #T_123f4_row18_col4, #T_123f4_row19_col4, #T_123f4_row20_col4, #T_123f4_row21_col4, #T_123f4_row22_col4 {\n",
       "  text-align: left;\n",
       "  font-size: 12px;\n",
       "  vertical-align: middle;\n",
       "  width: 20%;\n",
       "  min-width: 150px;\n",
       "}\n",
       "#T_123f4_row0_col5, #T_123f4_row1_col5, #T_123f4_row2_col5, #T_123f4_row3_col5, #T_123f4_row4_col5, #T_123f4_row5_col5, #T_123f4_row6_col5, #T_123f4_row7_col5, #T_123f4_row8_col5, #T_123f4_row9_col5, #T_123f4_row10_col5, #T_123f4_row11_col5, #T_123f4_row12_col5, #T_123f4_row13_col5, #T_123f4_row14_col5, #T_123f4_row15_col5, #T_123f4_row16_col5, #T_123f4_row17_col5, #T_123f4_row18_col5, #T_123f4_row19_col5, #T_123f4_row20_col5, #T_123f4_row21_col5, #T_123f4_row22_col5 {\n",
       "  text-align: left;\n",
       "  font-size: 12px;\n",
       "  vertical-align: middle;\n",
       "  width: 10%;\n",
       "}\n",
       "</style>\n",
       "<table id=\"T_123f4\">\n",
       "  <caption><strong>Data Frame Summary</strong><br>data<br>Dimensions: 10,127 x 23<br>Duplicates: 0</caption>\n",
       "  <thead>\n",
       "    <tr>\n",
       "      <th id=\"T_123f4_level0_col0\" class=\"col_heading level0 col0\" >No</th>\n",
       "      <th id=\"T_123f4_level0_col1\" class=\"col_heading level0 col1\" >Variable</th>\n",
       "      <th id=\"T_123f4_level0_col2\" class=\"col_heading level0 col2\" >Stats / Values</th>\n",
       "      <th id=\"T_123f4_level0_col3\" class=\"col_heading level0 col3\" >Freqs / (% of Valid)</th>\n",
       "      <th id=\"T_123f4_level0_col4\" class=\"col_heading level0 col4\" >Graph</th>\n",
       "      <th id=\"T_123f4_level0_col5\" class=\"col_heading level0 col5\" >Missing</th>\n",
       "    </tr>\n",
       "  </thead>\n",
       "  <tbody>\n",
       "    <tr>\n",
       "      <td id=\"T_123f4_row0_col0\" class=\"data row0 col0\" >1</td>\n",
       "      <td id=\"T_123f4_row0_col1\" class=\"data row0 col1\" ><strong>CLIENTNUM</strong><br>[int64]</td>\n",
       "      <td id=\"T_123f4_row0_col2\" class=\"data row0 col2\" >Mean (sd) : 739177606.3 (36903783.5)<br>min < med < max:<br>708082083.0 < 717926358.0 < 828343083.0<br>IQR (CV) : 60106762.5 (20.0)</td>\n",
       "      <td id=\"T_123f4_row0_col3\" class=\"data row0 col3\" >10,127 distinct values</td>\n",
       "      <td id=\"T_123f4_row0_col4\" class=\"data row0 col4\" ><img src = \"data:image/png;base64, iVBORw0KGgoAAAANSUhEUgAAAKoAAABGCAYAAABc8A97AAAAOXRFWHRTb2Z0d2FyZQBNYXRwbG90bGliIHZlcnNpb24zLjcuMCwgaHR0cHM6Ly9tYXRwbG90bGliLm9yZy88F64QAAAACXBIWXMAAA9hAAAPYQGoP6dpAAAC40lEQVR4nO3YsW7aUBSA4XMhQdcQ7hUhJVuWbonUASkLD9AxD5tH6MDQtRm6MGWJUBAyjYOFZdyhTdWqCuBrEDnk/2aObVm/uAdMURQCvHW1fT8AsImjdR8wxkQi0gi8/qIoinngLPDHylCNMVG3271xznVCLj6bzabGmFtiRVXrvlEbzrnOYDCYe+/TMheO49gOh8POZDJpiAihopK1R7+IiPc+7fV6zwHXjwJmgP/wYwoqECpUIFSoQKhQgVChAqFCBUKFCoQKFQgVKhAqVCBUqECoUIFQoQKhQgVChQqEChUIFSoQKlQgVKhAqFCBUKECoUIFQoUKhAoVCBUqECpUIFSoQKhQgVChAqFCBUKFCoQKFQgVKhAqVCBUqECoUIFQoQKhQgVChQqEChUIFSoQKlQgVKhAqFCBUKECoUIFQoUKhAoVCBUqECpUIFSoQKhQ4WjfD3CIjDGRiDQCxxdFUcy3+TyHgFC3zBgTdbvdG+dcJ2R+NptNjTG3xPovQt2+hnOuMxgM5t77tMxgHMd2OBx2JpNJQ0QI9S87DTXP82MRccaY0EuoPQa992mv13suO5fnuZN3+s5W2VmoSZIcZ1n26eLiol6v10t9s7x4b8cg7+x1Owt1sVgcWWub/X4/PT8/n5adf4/HIO/sdTvfUVutVtAR+Fu01YdRYl/vrOK/FSK//u5cBs6uXFn4MXVgKvwusKenp5+9963Q+yZJ8vHk5GRUq9WysvPrVhZCPSBVdtwsy6yIXF1fX389Ozublb33/f195+7u7kO/3/9edm3ZZGUh1FdUOAbdcrk83vbzbKLKjvs7tKa1NgtZO6bTaSRSaW1ZubK86VAr/r1VZV8KPgazLLN5nl+lafpFREL3zEpCYnkJ7a3aKNQ4jm3ZCz89PVkRkSRJ7Hg8bpadf3h4aIceY1X3pZdj8PLy8lu73f5RZvbx8dGORqNmHMet8Xi8KDNb9Z1Vmd/nvTfp6yeJ80MUZUbkNQAAAABJRU5ErkJggg==\"></img></td>\n",
       "      <td id=\"T_123f4_row0_col5\" class=\"data row0 col5\" >0<br>(0.0%)</td>\n",
       "    </tr>\n",
       "    <tr>\n",
       "      <td id=\"T_123f4_row1_col0\" class=\"data row1 col0\" >2</td>\n",
       "      <td id=\"T_123f4_row1_col1\" class=\"data row1 col1\" ><strong>Attrition_Flag</strong><br>[object]</td>\n",
       "      <td id=\"T_123f4_row1_col2\" class=\"data row1 col2\" >1. Existing Customer<br>2. Attrited Customer</td>\n",
       "      <td id=\"T_123f4_row1_col3\" class=\"data row1 col3\" >8,500 (83.9%)<br>1,627 (16.1%)</td>\n",
       "      <td id=\"T_123f4_row1_col4\" class=\"data row1 col4\" ><img src = \"data:image/png;base64, iVBORw0KGgoAAAANSUhEUgAAAJsAAAAuCAYAAAA/ZmtKAAAAOXRFWHRTb2Z0d2FyZQBNYXRwbG90bGliIHZlcnNpb24zLjcuMCwgaHR0cHM6Ly9tYXRwbG90bGliLm9yZy88F64QAAAACXBIWXMAAA9hAAAPYQGoP6dpAAABMUlEQVR4nO3bQWrDMBRF0adiQjORMAYvxovoYrsI7cYYa9CETNRByRL+swr3bOAHchNI8Eu9dwEOSdJd0u3qF4LLvXrvj8gD07IsXznnOfIIxtdaO1JK35HBTTnnedu2RynlGXUEYzvP87PWOu/7fpMUF5sklVKe67r+RB3Bv3CPPvARfQB4IzbYEBtsiA02xAYbYoMNscGG2GBDbLAhNtgQG2yIDTbEBhtigw2xwWaS/h6eu/qF4Dqu939qrR211lmGh+cwrtbaIekVeYPBC97CBy+JKR9cXN9s4Z8ajM8y5XPMxDC+8CmfayaG8bmmfPzSBX/qwofYYENssCE22BAbbIgNNsQGG2KDDbHBhthgQ2ywITbYEBtsiA02xAab8CkfM0G8WaZ8jpkYxsfgBTa/Cltq33c4jS0AAAAASUVORK5CYII=\"></img></td>\n",
       "      <td id=\"T_123f4_row1_col5\" class=\"data row1 col5\" >0<br>(0.0%)</td>\n",
       "    </tr>\n",
       "    <tr>\n",
       "      <td id=\"T_123f4_row2_col0\" class=\"data row2 col0\" >3</td>\n",
       "      <td id=\"T_123f4_row2_col1\" class=\"data row2 col1\" ><strong>Customer_Age</strong><br>[int64]</td>\n",
       "      <td id=\"T_123f4_row2_col2\" class=\"data row2 col2\" >Mean (sd) : 46.3 (8.0)<br>min < med < max:<br>26.0 < 46.0 < 73.0<br>IQR (CV) : 11.0 (5.8)</td>\n",
       "      <td id=\"T_123f4_row2_col3\" class=\"data row2 col3\" >45 distinct values</td>\n",
       "      <td id=\"T_123f4_row2_col4\" class=\"data row2 col4\" ><img src = \"data:image/png;base64, iVBORw0KGgoAAAANSUhEUgAAAKoAAABGCAYAAABc8A97AAAAOXRFWHRTb2Z0d2FyZQBNYXRwbG90bGliIHZlcnNpb24zLjcuMCwgaHR0cHM6Ly9tYXRwbG90bGliLm9yZy88F64QAAAACXBIWXMAAA9hAAAPYQGoP6dpAAACj0lEQVR4nO3dPY7aQBiH8f+EDxmQbCEk6LhApBSUHCKHzRFScAJuQIe0QiC862CMU6SKBLvgj915h+fXT9bFI2RPxq9dWZYCfPftqy8AuEf3qy/AV865gaR+xeWnsizfmryeZ0eoVzjnBpPJ5Gccx+Mq6w+Hw84594tYm0Oo1/XjOB4vl8u3JEmyRxbu9/totVqNX15e+pIItSGE+o4kSbLpdPpaYemg8Yt5cjxMwQRChQmEChMIFSYQKkwgVJhAqDCBUGECocIEQoUJ/BdqC4qi6EmKnXNVlnPy6gpCbViapr08z3/M5/NOp9N56ECLxMmrWwi1YafTqRtF0XCxWGSz2Wz3yFpOXt1GqC0ZjUacvGpQsKHWPKEfXy6XXpPXg3qCDLXuCf08z6OiKL5nWfZbUpVfRTQsyFBV44S+JG02m/F6vR6ez+dOGxeHx4UaqqTqJ/R3ux33iZ5hwx8mECpMIFSYQKgwweuHqRp7oeyDBsbbUOvshbIPGh5vQ1WNvVD2QcPjc6iSqu2Fsg8aHh6mYAKhwgRChQmEChMIFSYQKkwgVJhAqDCBUGECocIEQoUJhAoTvD+U8mxqzq2SAp1dRageqTu3Sgp3dhWheqTO3Cop7NlVhOqhGnOrpEBnV/EwBRMIFSYQKkxo9R6V0Y9oSmuhMvoRTWrzF5XRj2hM69tTjH78XKF+kYV91ICE/EUWQg1IyF9kIdQAhfhFFvZRYQKhwgRChQmEChM+fJhi6jN88G6oTH2GLz76RWXqM7xw1z4qU5+fg88vFrLhD0n+v1hIqJDk/4uFhIr/+Ppi4V2h7vf76NF/+Hg8RpKUpmm03W6Hn7ne6t+2et3Sv0aKouiq+j3un7Isb95y/AUcdZM5QwCg9AAAAABJRU5ErkJggg==\"></img></td>\n",
       "      <td id=\"T_123f4_row2_col5\" class=\"data row2 col5\" >0<br>(0.0%)</td>\n",
       "    </tr>\n",
       "    <tr>\n",
       "      <td id=\"T_123f4_row3_col0\" class=\"data row3 col0\" >4</td>\n",
       "      <td id=\"T_123f4_row3_col1\" class=\"data row3 col1\" ><strong>Gender</strong><br>[object]</td>\n",
       "      <td id=\"T_123f4_row3_col2\" class=\"data row3 col2\" >1. F<br>2. M</td>\n",
       "      <td id=\"T_123f4_row3_col3\" class=\"data row3 col3\" >5,358 (52.9%)<br>4,769 (47.1%)</td>\n",
       "      <td id=\"T_123f4_row3_col4\" class=\"data row3 col4\" ><img src = \"data:image/png;base64, iVBORw0KGgoAAAANSUhEUgAAAJsAAAAuCAYAAAA/ZmtKAAAAOXRFWHRTb2Z0d2FyZQBNYXRwbG90bGliIHZlcnNpb24zLjcuMCwgaHR0cHM6Ly9tYXRwbG90bGliLm9yZy88F64QAAAACXBIWXMAAA9hAAAPYQGoP6dpAAABO0lEQVR4nO3bQWrDMBRF0a8iQjORMAYvxovoYrsI7cYYa5CETJRBx8GCiie7vWcFH3MxJPi5UooBCs7MrmZ26X3IH/Aspdx7H3FkfhzHrxDC0PuQs8s5r865b4J7z4cQhnme7zHGR+9jzmrbts+U0rAsy8XMiO0Nb2YWY3xM03TrfczJXXsfcHQfvQ/A/0FskCE2yBAbZIgNMsQGGWKDDLFBhtggQ2yQITbIEBtkiA0yxAYZYoOMN/v5+K/3IWfG86vjc85rSmkwPv77lZzzambP3nccGYOXdhi87HBM+aDCm60Ob60GmPJVYKbXBlO+Hcz02mHKV4df6g3wpy5kiA0yxAYZYoMMsUGG2CBDbJAhNsgQG2SIDTLEBhligwyxQYbYIENskGHKt4Nn0w5TvgrM9Npg8FKHwUsDLwpbat+d/9voAAAAAElFTkSuQmCC\"></img></td>\n",
       "      <td id=\"T_123f4_row3_col5\" class=\"data row3 col5\" >0<br>(0.0%)</td>\n",
       "    </tr>\n",
       "    <tr>\n",
       "      <td id=\"T_123f4_row4_col0\" class=\"data row4 col0\" >5</td>\n",
       "      <td id=\"T_123f4_row4_col1\" class=\"data row4 col1\" ><strong>Dependent_count</strong><br>[int64]</td>\n",
       "      <td id=\"T_123f4_row4_col2\" class=\"data row4 col2\" >Mean (sd) : 2.3 (1.3)<br>min < med < max:<br>0.0 < 2.0 < 5.0<br>IQR (CV) : 2.0 (1.8)</td>\n",
       "      <td id=\"T_123f4_row4_col3\" class=\"data row4 col3\" >6 distinct values</td>\n",
       "      <td id=\"T_123f4_row4_col4\" class=\"data row4 col4\" ><img src = \"data:image/png;base64, iVBORw0KGgoAAAANSUhEUgAAAKoAAABGCAYAAABc8A97AAAAOXRFWHRTb2Z0d2FyZQBNYXRwbG90bGliIHZlcnNpb24zLjcuMCwgaHR0cHM6Ly9tYXRwbG90bGliLm9yZy88F64QAAAACXBIWXMAAA9hAAAPYQGoP6dpAAACHklEQVR4nO3cT4riQBiG8a9GW2ILCSLoziP0wqWH6MPOITyMIE2JaUWJ6UUzMA09mn8z+V7n+e0ryeKhMLGqQlmWBnj3o+8HAKoY9v0A+CqEMDazUYtLnMuyPHb1PF4QqiMhhPFsNntN03Ta9Br7/f4thPDz0WIl1D9oObM1ndVGaZpO1+v1McuyU93BMcZks9lMd7vdyMwI9dG1ndnazmpZlp3m8/l7k7FmNm44zjVC/V7jme2RZ7U+EeoNLWa2h5zV+sTnKUggVEggVEggVEggVEggVEggVEggVEggVEggVEggVEggVEggVEggVEggVEggVEhwvXC6p31LcMhtqH3vW4IvbkM19i3hN55DNTP2LeETL1OQQKiQQKiQ4P43Kv4dzwe0ESrMzP8BbYSKX1wf0Eao+MLrAW28TEECoUICoUICoUICoUICoUICoUICoUICoUICoUICoUICoULC3UUpbFmGBzdDZcsyvLg3o7JlGS5UWo/KlmX0jZcpSCBUSCBUSCBUSCBUSCBUSCBUSCBUSOAACnSmKIonM0tDCE2G31wXQqjoRJ7nT5fL5WW5XA4Gg0HtI4HurQshVHTifD4PkyR5Xq1Wp8Vi8VZnbJV1IYSKTk0mk7+yLoSXKUggVEggVEggVEggVEggVEio9HkqxpjUvXCMMSmKYmjN/6lIr9fr8D+7d+P79n3vw+GQmJnleZ5st9vnOmOr3PMDSBr5n4q93q0AAAAASUVORK5CYII=\"></img></td>\n",
       "      <td id=\"T_123f4_row4_col5\" class=\"data row4 col5\" >0<br>(0.0%)</td>\n",
       "    </tr>\n",
       "    <tr>\n",
       "      <td id=\"T_123f4_row5_col0\" class=\"data row5 col0\" >6</td>\n",
       "      <td id=\"T_123f4_row5_col1\" class=\"data row5 col1\" ><strong>Education_Level</strong><br>[object]</td>\n",
       "      <td id=\"T_123f4_row5_col2\" class=\"data row5 col2\" >1. Graduate<br>2. High School<br>3. Unknown<br>4. Uneducated<br>5. College<br>6. Post-Graduate<br>7. Doctorate</td>\n",
       "      <td id=\"T_123f4_row5_col3\" class=\"data row5 col3\" >3,128 (30.9%)<br>2,013 (19.9%)<br>1,519 (15.0%)<br>1,487 (14.7%)<br>1,013 (10.0%)<br>516 (5.1%)<br>451 (4.5%)</td>\n",
       "      <td id=\"T_123f4_row5_col4\" class=\"data row5 col4\" ><img src = \"data:image/png;base64, iVBORw0KGgoAAAANSUhEUgAAAJsAAAChCAYAAADQgM1HAAAAOXRFWHRTb2Z0d2FyZQBNYXRwbG90bGliIHZlcnNpb24zLjcuMCwgaHR0cHM6Ly9tYXRwbG90bGliLm9yZy88F64QAAAACXBIWXMAAA9hAAAPYQGoP6dpAAAC30lEQVR4nO3bUUobUQCG0ZsSpH1JEMHFuIgutovIbkSchyq+pA+FUgo10Uy+UXLOCu7Dxx1mmH+13+8HFL4sfQAuh9jIiI2M2MiIjcxqjPFtjHG19EFO8LLf75+WPgSHrW9ubr5vNpvrpQ/yXtM0PaxWqx+C+/jWm83m+u7u7mm73T4vfZi3enx8/Lrb7a7v7++vxhhi++DWY4yx3W6fb29vfy59mHf6tvQBOI4XBDJiIyM2MmIjIzYyYiMjNjJiIyM2MmIjIzYyYiMjNjLrMX7/qrP0Qd7js577Uq2naXrY7XbX45P+qjNN08MY42Xpc3CY38LJrCziqSx9s7mVLsiigxdjlcuy2ODFWOXyLD14+ZRvwLyPj7pkxEZGbGTERkZsZMRGRmxkxEZGbGTERkZsZMRGRmxkxEZmsXWVZdTlWXRdZRl1WWwQyFhXkTn3zebm4o+zrqusp/jb2dZV1lP869zrKusp/vBRl4zYyIiNjNjIiI2M2MiIjYzYyIiNjNjIiI2M2MiIjczZBi8GLfzrrIMXgxb+5rdwMgYvZLwgkPEYJWNdRca6iox1FRkvCGTERkZsZMRGRmxkxEZGbGTERkZsZMRGRmxkxEZGbGSsq8hYV5HxWzgZ6yoyc9xsbi+OcvLgxaiFY500eDFq4S3mGLwYtXAUH3XJiI2M2MiIjYzYyIiNjNjIiI2M2MiIjYzYyIiNjNjInDR4MWrhLU4evBi1cCy/hZMxeCHjBYHMMY9Rj0lmcXBdZT3FXF5dV1lPMadj1lXWU8zCCwIZsZERGxmxkREbGbGRERsZsZERGxmxkREbGbGRERuZV9dV1lPM6eC6ynqKufgtnIx1FZlDN5tbjdm8OngxdmFO/x28GLswt0ODF2MXZuOjLhmxkREbGbGRERsZsZERGxmxkREbGbGRERsZsZERGxmxkfnvusqyirm9uq6yrGJONghkrKvIeEEgIzYyYiMjNjK/AMSkeRUe6O8JAAAAAElFTkSuQmCC\"></img></td>\n",
       "      <td id=\"T_123f4_row5_col5\" class=\"data row5 col5\" >0<br>(0.0%)</td>\n",
       "    </tr>\n",
       "    <tr>\n",
       "      <td id=\"T_123f4_row6_col0\" class=\"data row6 col0\" >7</td>\n",
       "      <td id=\"T_123f4_row6_col1\" class=\"data row6 col1\" ><strong>Marital_Status</strong><br>[object]</td>\n",
       "      <td id=\"T_123f4_row6_col2\" class=\"data row6 col2\" >1. Married<br>2. Single<br>3. Unknown<br>4. Divorced</td>\n",
       "      <td id=\"T_123f4_row6_col3\" class=\"data row6 col3\" >4,687 (46.3%)<br>3,943 (38.9%)<br>749 (7.4%)<br>748 (7.4%)</td>\n",
       "      <td id=\"T_123f4_row6_col4\" class=\"data row6 col4\" ><img src = \"data:image/png;base64, iVBORw0KGgoAAAANSUhEUgAAAJsAAABcCAYAAAB5jMeAAAAAOXRFWHRTb2Z0d2FyZQBNYXRwbG90bGliIHZlcnNpb24zLjcuMCwgaHR0cHM6Ly9tYXRwbG90bGliLm9yZy88F64QAAAACXBIWXMAAA9hAAAPYQGoP6dpAAAB3UlEQVR4nO3bQWrbUBiF0V9FhGYiYQxejBfRxXYR2o0x1qAJmSiDTAuNo/Q+YZ2zgpfwIfOEbrcsS0HCj9YHYD/ERkxXVc9V9dT6IBv2tizLS+tDPIL+eDz+Gobh0PogWzXP87Xrut+CW68fhuFwPp9fxnF8bX2Yrbndbj+naTpcLpenqhLbSn1V1TiOr6fT6U/rw2zUc+sDPAoXBGLERozYiBEbMWIjRmzEiI0YsREjNmLERozYiBEbMWIjpq/6+JSm9UG2yP/le/XzPF+naTqUT2n+ap7na1W9tT7HI/BZ+L/5LPybdKZ8pLggELPHn1E/i43sbl1lLdXOrtZV1lJt7XFd5RVPIy4IxIiNGLERIzZixEaM2IgRGzFiI0ZsxIiNGLERIzZixEaM2IjZ1ZRvL3/nVu1uymea144NAjGmfMTc+2TzVODL7lpXWSaxxqfXVZZJrHXvumoXN1b+Dy91iREbMWIjRmzEiI0YsREjNmLERozYiBEbMWIjRmzEiI0YsRHz6XWVZRJr3bWuskxiDRsEYqyriPFkI8a6ihjrKmKsq4jxUpcYsREjNmLERozYiBEbMWIjRmzEiI0YsREjNmLERozYiBEbMdZVxFhXEWODQIx1FTEuCMS8Az8j2LlPBgJmAAAAAElFTkSuQmCC\"></img></td>\n",
       "      <td id=\"T_123f4_row6_col5\" class=\"data row6 col5\" >0<br>(0.0%)</td>\n",
       "    </tr>\n",
       "    <tr>\n",
       "      <td id=\"T_123f4_row7_col0\" class=\"data row7 col0\" >8</td>\n",
       "      <td id=\"T_123f4_row7_col1\" class=\"data row7 col1\" ><strong>Income_Category</strong><br>[object]</td>\n",
       "      <td id=\"T_123f4_row7_col2\" class=\"data row7 col2\" >1. Less than $40K<br>2. $40K - $60K<br>3. $80K - $120K<br>4. $60K - $80K<br>5. Unknown<br>6. $120K +</td>\n",
       "      <td id=\"T_123f4_row7_col3\" class=\"data row7 col3\" >3,561 (35.2%)<br>1,790 (17.7%)<br>1,535 (15.2%)<br>1,402 (13.8%)<br>1,112 (11.0%)<br>727 (7.2%)</td>\n",
       "      <td id=\"T_123f4_row7_col4\" class=\"data row7 col4\" ><img src = \"data:image/png;base64, iVBORw0KGgoAAAANSUhEUgAAAJsAAACKCAYAAAC96ziyAAAAOXRFWHRTb2Z0d2FyZQBNYXRwbG90bGliIHZlcnNpb24zLjcuMCwgaHR0cHM6Ly9tYXRwbG90bGliLm9yZy88F64QAAAACXBIWXMAAA9hAAAPYQGoP6dpAAACmUlEQVR4nO3bUUobUQCG0ZsSpH1JEMHFuIgutovIbkSchyq+pA9CW9qK0WS+sXrOCm7g44YZ5l/t9/sBhU9LH4CPQ2xkxEZGbGRWY4wvY4yzpQ8yk4f9fn+39CF4tL64uPi62WzOlz7IHKZpulmtVt8E9zasN5vN+dXV1d12u71f+jCndHt7+3m3251fX1+fjTHE9gasxxhju93eX15efl/6MDP4svQB+MUDAhmxkREbGbGRERsZsZERGxmxkREbGbGRERsZsZERG5n1GI+f4yx9kFN7j7/pf7eepulmt9udj3f4Oc40TTdjjIelz8Ejn4WTWRkpU6lvNjfNB5YOXgxQPrZs8GKAQj14eXdPvBzOS10yYiMjNjJiIyM2MmIjIzYyYiMjNjJiIyM2MmIjIzYyYiOTrausnUjXVdZOH5sNAhnrKjJz32xuMn6adV1lTcXvZltXWVPxp7nXVdZU/OSlLhmxkREbGbGRERsZsZERGxmxkREbGbGRERsZsZERGxmxkZltXWVNxZ9mXVdZU/E7GwQy1lVk5rrZ3Gj8ZZZ1lVUV/3LydZVVFU+Za11lVcVfvNQlIzYyYiMjNjJiIyM2MmIjIzYyYiMjNjJiIyM2MmIjc/LBi6ELT5ll8GLowr/4LJyMwQsZDwhkTvU36m+TZ51kXWVNxSGOXldZU3GoU62rrKl4lgcEMmIjIzYyYiMjNjJiIyM2MmIjIzYyYiMjNjJiIyM2Mkevq6ypONRJ1lXWVBzCZ+FkrKvIvPRmc4Pxai8avBi2cIyDBy+GLRzrpYMXwxZezUtdMmIjIzYyYiMjNjJiIyM2MmIjIzYyYiMjNjJiIyM2MmIjc/C6yoqKY71oXWVFxTFsEMhYV5HxgEBGbGTERuYH+tRDprqY2DIAAAAASUVORK5CYII=\"></img></td>\n",
       "      <td id=\"T_123f4_row7_col5\" class=\"data row7 col5\" >0<br>(0.0%)</td>\n",
       "    </tr>\n",
       "    <tr>\n",
       "      <td id=\"T_123f4_row8_col0\" class=\"data row8 col0\" >9</td>\n",
       "      <td id=\"T_123f4_row8_col1\" class=\"data row8 col1\" ><strong>Card_Category</strong><br>[object]</td>\n",
       "      <td id=\"T_123f4_row8_col2\" class=\"data row8 col2\" >1. Blue<br>2. Silver<br>3. Gold<br>4. Platinum</td>\n",
       "      <td id=\"T_123f4_row8_col3\" class=\"data row8 col3\" >9,436 (93.2%)<br>555 (5.5%)<br>116 (1.1%)<br>20 (0.2%)</td>\n",
       "      <td id=\"T_123f4_row8_col4\" class=\"data row8 col4\" ><img src = \"data:image/png;base64, iVBORw0KGgoAAAANSUhEUgAAAJsAAABcCAYAAAB5jMeAAAAAOXRFWHRTb2Z0d2FyZQBNYXRwbG90bGliIHZlcnNpb24zLjcuMCwgaHR0cHM6Ly9tYXRwbG90bGliLm9yZy88F64QAAAACXBIWXMAAA9hAAAPYQGoP6dpAAACCUlEQVR4nO3cPY7aYBiF0dcWmoTGCCGxhKRjASwii80iWABl9oAQLsJkGk+RH6UCo4wvGnJO7eIrHhkZ+boZhqEgob33Afh/iI2YpqrmVfV074Pwbr0Mw3Aec+FstVp96bpuOfWJeEx93x+bpvk6JrhZ13XL7XZ7XiwWz4nD8ThOp9PH3W63PBwOT1V1PbaqqsVi8bxer79Pfjoe0XzshR4QiBEbMWIjRmzEiI0YsREjNmLERozYiBEbMWIjRmzEiI2YWdXPV0XufRDen1u7mfV9f9ztdsu64VUR+K3v+2NVvYy51mvh/KvRr4U3pnykeEAgZszP6OjbJFxydV11y3oGLrm4rrp1PQOXjFlX+UuEN+EBgRixESM2YsRGjNiIERsxYiNGbMSIjRixESM2YsRGjNiIERsxF6d8Jn68patTvlumWnCJDQIxpnzE/H1ncwdjUn/WVVZUTK3tum652Wzq15zPZxiYTFtVNZ/Pf9z7IDw+f+oSIzZixEaM2IgRGzFiI0ZsxIiNGLERIzZixEaM2IgRGzFiI6atqjqfzx/ufRAeX9v3/XG/31tRMTkbBGKsq4jxgEBM2zTN56ZpfGaBybVV9amqPI0yOT+jxIiNGLERIzZixEaM2IgRGzFiI0ZsxIiNGLERIzZixEaM2IgRGzFiI6atqm9V5WvhTM7ghRg/o8SIjZhXWjiZjrcarGkAAAAASUVORK5CYII=\"></img></td>\n",
       "      <td id=\"T_123f4_row8_col5\" class=\"data row8 col5\" >0<br>(0.0%)</td>\n",
       "    </tr>\n",
       "    <tr>\n",
       "      <td id=\"T_123f4_row9_col0\" class=\"data row9 col0\" >10</td>\n",
       "      <td id=\"T_123f4_row9_col1\" class=\"data row9 col1\" ><strong>Months_on_book</strong><br>[int64]</td>\n",
       "      <td id=\"T_123f4_row9_col2\" class=\"data row9 col2\" >Mean (sd) : 35.9 (8.0)<br>min < med < max:<br>13.0 < 36.0 < 56.0<br>IQR (CV) : 9.0 (4.5)</td>\n",
       "      <td id=\"T_123f4_row9_col3\" class=\"data row9 col3\" >44 distinct values</td>\n",
       "      <td id=\"T_123f4_row9_col4\" class=\"data row9 col4\" ><img src = \"data:image/png;base64, iVBORw0KGgoAAAANSUhEUgAAAKoAAABGCAYAAABc8A97AAAAOXRFWHRTb2Z0d2FyZQBNYXRwbG90bGliIHZlcnNpb24zLjcuMCwgaHR0cHM6Ly9tYXRwbG90bGliLm9yZy88F64QAAAACXBIWXMAAA9hAAAPYQGoP6dpAAACtklEQVR4nO3dT27aQBSA8TcloAEkW/wR7LhApC6Q2HCALnvYHqELFl1zA3ZICBlBgjDGXUVtqrbBMzjMm3y//YAXn4CJnzOmLEsBQvfp3hcAXOPh3hcQI2NMW0RajstPZVk+3/J6YkCoN2aMaQ8Gg69JkvRc1u92u60x5huxvkaot9dKkqQ3n8+f0zQ9VlmYZZldLBa9zWbTEhFC/Q2h1iRN0+NoNHpyWNq++cVEgM0UVCBUqECoUIFQoQKhQgVChQqEChUIFSoQKlQgVKhAqFCBUKECoUIFQoUKhAoVCBUqECpUIFSoQKhQgVChAqFCBUKFCoQKFQgVKhAqVCBUqECoUIFQoQKhQgVChQqEChUIFSoQKlQgVKjAv0YPTFEUTRFJjDGuLxHlqSqEGpDD4dDM8/zzZDJpNBqNSgdVvIj1VBVCDcjpdHqw1nam0+lxPB5vq66P+VQVQg1Qt9t1PVFFJNJTVdhMQQU+Uf/B45jI5HK5NG99PR9dtKF6nkdq+/3+lzRNu1UX5nlui6J4PB6P30XE9esbf4gyVN/zSPM8tyLyOJvNfgyHw12VtavVqrdcLjvn87nh8t74uyhDFY/zSEV+xWatzatuarbbbZSbmXuLNVQRcT+PlNjCw64fKhAqVCBUqBD1b9SPyHOoJdiBFkKNiO9QS8gDLYQaEZ+hltAHWgg1Qh5DLcH+WY7NFFQgVKgQ9Fc/E0x4EWyoPoMlTDC5Cfl5rWBDFY/BEiaYqgv9ea2QQxURt8EShkqqC/15reBDxfvyeV6rKIpEarorVmuonlP2bIgUqfuu2JuhesTm/DiHCBsibeq+K/bfUH133uL4OIcIGyKt6ror9tYnqvfO2+VxDhE2RHjtqt+o7Lxxb1eFmmWZrfrC+/3eiogcDge7Xq8777le63trvW7f9df09ROgd5Z71wlpPgAAAABJRU5ErkJggg==\"></img></td>\n",
       "      <td id=\"T_123f4_row9_col5\" class=\"data row9 col5\" >0<br>(0.0%)</td>\n",
       "    </tr>\n",
       "    <tr>\n",
       "      <td id=\"T_123f4_row10_col0\" class=\"data row10 col0\" >11</td>\n",
       "      <td id=\"T_123f4_row10_col1\" class=\"data row10 col1\" ><strong>Total_Relationship_Count</strong><br>[int64]</td>\n",
       "      <td id=\"T_123f4_row10_col2\" class=\"data row10 col2\" >Mean (sd) : 3.8 (1.6)<br>min < med < max:<br>1.0 < 4.0 < 6.0<br>IQR (CV) : 2.0 (2.5)</td>\n",
       "      <td id=\"T_123f4_row10_col3\" class=\"data row10 col3\" >6 distinct values</td>\n",
       "      <td id=\"T_123f4_row10_col4\" class=\"data row10 col4\" ><img src = \"data:image/png;base64, iVBORw0KGgoAAAANSUhEUgAAAKoAAABGCAYAAABc8A97AAAAOXRFWHRTb2Z0d2FyZQBNYXRwbG90bGliIHZlcnNpb24zLjcuMCwgaHR0cHM6Ly9tYXRwbG90bGliLm9yZy88F64QAAAACXBIWXMAAA9hAAAPYQGoP6dpAAACHElEQVR4nO3cvWoCQRSG4TNRZFWyixi08yIsbXIHudi06fVWRJB1RKMEdFMkAQvR/Qs7H75PP5kpXoV1TtZlWWZA6J6aPgCQR7vpA4TKOdc1s07J5V9Zlh3qPM+jI9QrnHPd4XD4FsfxoMz67XabOufeibU+hHpdJ47jwWw2OyRJciyy0HsfzefzwXq97pgZodaEUG9IkuQ4Go0+Syzt1n6YB8fDFCQQKiQQKiQQKiQQKiQQKiQQKiQQKiTwg39gKs4YmFWYM2hy73sINSBVZwzMys8Z1LH3ZrPZOec+zKzQtfOvm5ETalhKzxiYVZ4zqLT3crl8XiwWr5PJ5KXVahVef+8DRqgBqjBjYFZxzqDs3mmadqMo6k2n0+N4PE6LrM3zASNU1Krf7//LIA9P/ZBAqJBAqJBAqJBAqJBAqJBAqJBAqJBAqJBAqJBAqJBAqJBAqJBAqJAQ9Jgfr37En2BD5dWPuBRsqMarH3Eh5FDNjFc/4gcPU5BAqJBAqJBAqJBAqJBAqJBw9+cpbocQgpuhcjuEUNz7RuV2CEHIdTPF7RCaxsMUJBAqJBAqJBAqJBAqJBAqJBAqJBAqJBAqJBAqJBAqJBAqJBAqJBAqJBAqJBAqJBAqJBAqJBAqJBAqJBAqJBAqJOT6d2nvfVT0D3vvo9Pp1Daz2DlX+GBmFp/P5/aD7V1636b33u12kZnZfr+PVqtVr8jaPHt+AxJz6dTiH78WAAAAAElFTkSuQmCC\"></img></td>\n",
       "      <td id=\"T_123f4_row10_col5\" class=\"data row10 col5\" >0<br>(0.0%)</td>\n",
       "    </tr>\n",
       "    <tr>\n",
       "      <td id=\"T_123f4_row11_col0\" class=\"data row11 col0\" >12</td>\n",
       "      <td id=\"T_123f4_row11_col1\" class=\"data row11 col1\" ><strong>Months_Inactive_12_mon</strong><br>[int64]</td>\n",
       "      <td id=\"T_123f4_row11_col2\" class=\"data row11 col2\" >Mean (sd) : 2.3 (1.0)<br>min < med < max:<br>0.0 < 2.0 < 6.0<br>IQR (CV) : 1.0 (2.3)</td>\n",
       "      <td id=\"T_123f4_row11_col3\" class=\"data row11 col3\" >7 distinct values</td>\n",
       "      <td id=\"T_123f4_row11_col4\" class=\"data row11 col4\" ><img src = \"data:image/png;base64, iVBORw0KGgoAAAANSUhEUgAAAKoAAABGCAYAAABc8A97AAAAOXRFWHRTb2Z0d2FyZQBNYXRwbG90bGliIHZlcnNpb24zLjcuMCwgaHR0cHM6Ly9tYXRwbG90bGliLm9yZy88F64QAAAACXBIWXMAAA9hAAAPYQGoP6dpAAACZklEQVR4nO3dPa/SUBzH8f+RBwvEAsHA1pXBxIGRxXfgi3V1h8SRV0EI5FJCBWnaOhiNOnBvH8jtr/l+9gNn+EJyHtK6LMsMqLs3rz0B4CXarz2BJnLO9cysW3D4LcuyS5XzaQJCrZhzrjeZTD77vj8uMv50Oj05574Q678ItXpd3/fHy+XyMhwOr3kGhmHorVar8eFw6JoZof6FUB9kOBxep9Pp9wJDe5VPpgFYTEECoUICoUICoUICoUICoUJCY7enSp4OmXFCVCuNDLXs6ZAZJ0R108hQrcTpkBknRHXU1FDNrNTpkBknRLXCYgoSCBUSCBUSCBUSCBUSCBUSCBUSCBUSCBUSCBUSCBUSCBUSCBUSCBUSHnrNj1v2qMrDQuWWPar0yH9UbtmjMg+/4c8te1SBxRQkECokECokECokECokECokECokECokECokECokECokECokECokECokECokECokECokECokECokECokECokECokECokECokECokECokECokNPrt0oqSJOmYme+cK/oRjXxUJ6HWSBRFnTiOPwZB0Gq1WrmfgGjW3Ed1EmqN3G63tud5/cVicZ3NZk95xzf5UZ2EWkODwYBHdf6HxRQk8I+KP+r8zgVChZlV886F4/F4ds59NbMiC8G7kT8baolfmZ+maafAOLyOUu9c2G6379br9acgCN4X2bF4brfibqhlfmVxHHtJknzY7/ff8o41+7WCTZKkbcX2FP00TdthGHpK330+nz0zsyiKvN1u1887vop55x30WxzHbc/z+vP53I1Gox95xl4ul7ebzebubsVPZPvp1l7fRbgAAAAASUVORK5CYII=\"></img></td>\n",
       "      <td id=\"T_123f4_row11_col5\" class=\"data row11 col5\" >0<br>(0.0%)</td>\n",
       "    </tr>\n",
       "    <tr>\n",
       "      <td id=\"T_123f4_row12_col0\" class=\"data row12 col0\" >13</td>\n",
       "      <td id=\"T_123f4_row12_col1\" class=\"data row12 col1\" ><strong>Contacts_Count_12_mon</strong><br>[int64]</td>\n",
       "      <td id=\"T_123f4_row12_col2\" class=\"data row12 col2\" >Mean (sd) : 2.5 (1.1)<br>min < med < max:<br>0.0 < 2.0 < 6.0<br>IQR (CV) : 1.0 (2.2)</td>\n",
       "      <td id=\"T_123f4_row12_col3\" class=\"data row12 col3\" >7 distinct values</td>\n",
       "      <td id=\"T_123f4_row12_col4\" class=\"data row12 col4\" ><img src = \"data:image/png;base64, iVBORw0KGgoAAAANSUhEUgAAAKoAAABGCAYAAABc8A97AAAAOXRFWHRTb2Z0d2FyZQBNYXRwbG90bGliIHZlcnNpb24zLjcuMCwgaHR0cHM6Ly9tYXRwbG90bGliLm9yZy88F64QAAAACXBIWXMAAA9hAAAPYQGoP6dpAAACZ0lEQVR4nO3cT6raUBiG8e9UvUSFBLHozA0UOnDoIrrYLqGCK3AHzoQgEVODMUlHt/QPXE2imPfw/ObnJlwecqJ4PldVlQFd9+nVNwDco//qG/CRc25oZm8Nl1+qqjo/8n58QKgP5pwbTqfTb2EYTpqsPx6PB+fcd2L9G6E+3lsYhpPVanWOoiirszBJkmCz2UziOH4zM0L9g7ehttx+zVpuwVEUZbPZ7GeDpcOm1/SZl6G23X7N2IK7xstQrcX2a8YW3EW+hmpmrbZfM7bgTuF7VEggVEggVEggVEggVEggVEggVEggVEggVEggVEggVEggVEggVEggVEggVEggVEggVEggVEggVEggVEggVEggVEggVEggVEggVEggVEggVEggVEggVEggVEh46tjJV099hj+eFipTn/FIz3yiMvUZD/P0idNMfa6nKIqBmYXOuaZ/wsvXJa9Ho6tJ03SQ5/nXxWLR6/V6tXchM39flwi1Qy6XSz8IgtFyuczm8/mh7nqfX5cItYPG4zGvS//ge1RIIFRIIFRIIFRIIFRIIFRIIFRIIFRIIFRIIFRIIFRIIFRIIFRIIFRIIFRIuPl71BYnScOyLAcN1gH/+TDUNidJ8zwPiqL4kmXZDzNr+iNgwMxuP1EbnyTd7XaT7XY7ul6vvRb3B5jZnUdRmpwkPRwOXh6JwGvwYQoSONyH37o8golQYWbdH8FEqHjXegTTer2exXH82Tl3bHD9D5/Gd4WaJElQ96qn0ykwM0vTNNjv96O665MkCYqi6Fuz8TZhWZb9Jvf9ymt34X9Wd9G78/ncasrLrafxL4hQBY62/JMKAAAAAElFTkSuQmCC\"></img></td>\n",
       "      <td id=\"T_123f4_row12_col5\" class=\"data row12 col5\" >0<br>(0.0%)</td>\n",
       "    </tr>\n",
       "    <tr>\n",
       "      <td id=\"T_123f4_row13_col0\" class=\"data row13 col0\" >14</td>\n",
       "      <td id=\"T_123f4_row13_col1\" class=\"data row13 col1\" ><strong>Credit_Limit</strong><br>[float64]</td>\n",
       "      <td id=\"T_123f4_row13_col2\" class=\"data row13 col2\" >Mean (sd) : 8632.0 (9088.8)<br>min < med < max:<br>1438.3 < 4549.0 < 34516.0<br>IQR (CV) : 8512.5 (0.9)</td>\n",
       "      <td id=\"T_123f4_row13_col3\" class=\"data row13 col3\" >6,205 distinct values</td>\n",
       "      <td id=\"T_123f4_row13_col4\" class=\"data row13 col4\" ><img src = \"data:image/png;base64, iVBORw0KGgoAAAANSUhEUgAAAKoAAABGCAYAAABc8A97AAAAOXRFWHRTb2Z0d2FyZQBNYXRwbG90bGliIHZlcnNpb24zLjcuMCwgaHR0cHM6Ly9tYXRwbG90bGliLm9yZy88F64QAAAACXBIWXMAAA9hAAAPYQGoP6dpAAAC30lEQVR4nO3dv27aUBSA8XMgIBvSaxAt2Vg6MFTqkJGlb5CHzdqtA3kKhm4RCiJGOHGxDF1Kl7aAr8uf43y/OecaWZ/Avo5k3Ww2Aly62rk/AHCIq31/oKqhiDQ9119tNptXz1ngt52hqmrY6/XunHNdn8UXi8VcVe+JFWXt+0ZtOue6o9HoNYqitMjCcRwH4/G4O5vNmiJCqChl70+/iEgURWm/33/xWD/0mAH+wM0UTCBUmECoMIFQYQKhwgRChQmEChMIFSYQKkwgVJhAqDCBUGECocIEQoUJhAoTCBUmECpMIFSYQKgwgVBhAqHCBEKFCYQKEwgVJhAqTCBUmECoMIFQYQKhwgRChQmEChMIFSYQKkwgVJhAqDCBUGECocIEQoUJhAoTCBUmECpMIFSYQKgwgVBhwkEv7fWV53lDRJyq+i6x4hXqEDliqEmSNLIs+zwYDOr1er3QK9S3FovFXFXviRVHC3W1Wl0FQdC6vb1Nb25u5kXn4zgOxuNxdzabNUWEUN+4o/70i4i02+203++/eI6H//XDwCxupmACocIEQoUJR79GLaPk9hZbWxVysaGW3d5ia6taLjbUMttbbG1Vz8WGulVie4utrQq5+FB98fj29FQ1FJGm5/jO813JUHl8e3qqGvZ6vTvnXNdnft/5rmSoPL49i6ZzrjsajV6jKCr05XDI+a5kqFtlHt/mee6ErbHCoig6yj1FpUP1VfbS4fn5eamqX0XE57LjzUa+C6H+RZlLh8fHx3cPDw9fBoPB+zNELlLR0Al1B59Lh/l8Hp4rcpHSoddEZO1zXBFx6/W64Tm7F6EeyakjFykXep7njSRJPl5fX09qtVpW9NhZlgV5nn9K0/SbiPj+W+c/HRRqHMdB0YWXy2UgIpIkSTCdTlunnLd67O2sryzLroIgaA2HQ+10Oj+KzD49PQWTyeTDcDj83ul0lkWP/Wu+FcdxezqdrorMHtLXT7+FbuoZCd0oAAAAAElFTkSuQmCC\"></img></td>\n",
       "      <td id=\"T_123f4_row13_col5\" class=\"data row13 col5\" >0<br>(0.0%)</td>\n",
       "    </tr>\n",
       "    <tr>\n",
       "      <td id=\"T_123f4_row14_col0\" class=\"data row14 col0\" >15</td>\n",
       "      <td id=\"T_123f4_row14_col1\" class=\"data row14 col1\" ><strong>Total_Revolving_Bal</strong><br>[int64]</td>\n",
       "      <td id=\"T_123f4_row14_col2\" class=\"data row14 col2\" >Mean (sd) : 1162.8 (815.0)<br>min < med < max:<br>0.0 < 1276.0 < 2517.0<br>IQR (CV) : 1425.0 (1.4)</td>\n",
       "      <td id=\"T_123f4_row14_col3\" class=\"data row14 col3\" >1,974 distinct values</td>\n",
       "      <td id=\"T_123f4_row14_col4\" class=\"data row14 col4\" ><img src = \"data:image/png;base64, iVBORw0KGgoAAAANSUhEUgAAAKoAAABGCAYAAABc8A97AAAAOXRFWHRTb2Z0d2FyZQBNYXRwbG90bGliIHZlcnNpb24zLjcuMCwgaHR0cHM6Ly9tYXRwbG90bGliLm9yZy88F64QAAAACXBIWXMAAA9hAAAPYQGoP6dpAAACs0lEQVR4nO3dPY7aQBiA4W/CggxItvgRdFxgpS2QaDhAyhw2R0hBkZob0CEhZISzFsZ4q0SKwi54xrP4c96n3jEuXoPHOxqboigEqLsvjz4B4B5Pt/7AGNMVkY7l8U9FUbxajgX++DBUY0x3NBp9C8NwYHPww+GwN8Z8J1a4uvWN2gnDcLBcLl+jKErLHDiO42C1Wg12u11HRAgVTm7+9IuIRFGUTiaTXxbH71qMAf7BZAoqECpUIFSoQKhQgVChAqFCBUKFCoQKFQgVKhAqVCBUqECoUIFQoQKhQgVChQqEChUIFSoQKlQgVKhAqFCBUKECoUIFQoUKhAoVCBUqECpUIFSoQKhQgVChwl27+eHzOG6cLNLQzZMJ1QOH2ILhcPg1iqK+7Wc3dfNkQq2Yyy7dWZYFIvK8WCx+jsfjQ9nxTd48mVCrZ71L92azGazX614QBJnlxskiDd08mVA9sdmle7/fNzKyKjDrhwp8o77DYUIUXi6XdtXn878j1CtcJ0R5nj+nafpDRGzvM63led4WkdAYYzO8to+2CPU65wnR+Xxu+Tq59yRJ0s6y7GU2m7VarVap8xap96MtQv2AtgnR6XR6CoKgN5/P0+l0ui8ztopHWz7f8kioDdTv9z/9vWC+3/LY2FAdr24mROV5fctjI0N1vbofPSHSzNdbHhsZqjhc3SKPnRDhuqaGKiL2Vzf/IaqfRoeKchyfwXq9rydUiIj7M1jf9/WEChFxewYr4v++nlDxF9tnsL7v61k9BRUIFSoQKlSo9T0qa0LxW21D1bwmFNWrbaiidE0o/KhzqCKib00o/GAyBRUIFSoQKlQgVKhAqFDB66y/zusboYu3UOu+vhG6eAu17usboctdocZxHJQ98PF4LD3mmiRJgu1227P5bJuxruMfNVbzZ9/T1xtWxo0ZLNRuyAAAAABJRU5ErkJggg==\"></img></td>\n",
       "      <td id=\"T_123f4_row14_col5\" class=\"data row14 col5\" >0<br>(0.0%)</td>\n",
       "    </tr>\n",
       "    <tr>\n",
       "      <td id=\"T_123f4_row15_col0\" class=\"data row15 col0\" >16</td>\n",
       "      <td id=\"T_123f4_row15_col1\" class=\"data row15 col1\" ><strong>Avg_Open_To_Buy</strong><br>[float64]</td>\n",
       "      <td id=\"T_123f4_row15_col2\" class=\"data row15 col2\" >Mean (sd) : 7469.1 (9090.7)<br>min < med < max:<br>3.0 < 3474.0 < 34516.0<br>IQR (CV) : 8534.5 (0.8)</td>\n",
       "      <td id=\"T_123f4_row15_col3\" class=\"data row15 col3\" >6,813 distinct values</td>\n",
       "      <td id=\"T_123f4_row15_col4\" class=\"data row15 col4\" ><img src = \"data:image/png;base64, iVBORw0KGgoAAAANSUhEUgAAAKoAAABGCAYAAABc8A97AAAAOXRFWHRTb2Z0d2FyZQBNYXRwbG90bGliIHZlcnNpb24zLjcuMCwgaHR0cHM6Ly9tYXRwbG90bGliLm9yZy88F64QAAAACXBIWXMAAA9hAAAPYQGoP6dpAAAC0ElEQVR4nO3dP2/aQByH8e9BQAbSM4g22Vg6MFTqkJGl7yAvtmu3DuRVMHSLUCLiCDcUy9AlVJXaAj6LPz/3+cy5M7IeGZtzdG69Xgs4d7VTfwBgHxe7/sA515LUDJx/uV6vXwLHAr9sDdU51+r3+7fe+17I5M/PzzPn3GdiRVm7rqhN731vNBq9xHG8KDJxkiTReDzuPT4+NiURKkrZ+dUvSXEcL66urr4HzN8KGAP8gYcpmECoMIFQYQKhwgRChQmEChMIFSYQKkwgVJhAqDCBUGECocIEQoUJhAoTCBUmECpMIFSYQKgwgVBhAqHCBEKFCYQKEwgVJhAqTCBUmECoMIFQYQKhwgRChQmEChMIFSYQKkwgVJhAqDCBUGECocIEQoUJhAoTCBUmECpMIFSYsNfOfaHyPG9I8s650CnY9BeSDhhqmqaNLMs+DgaDer1eL7SP6gab/mLjYKEul8uLKIraNzc3i+vr61nR8Wz6i98d9KtfkjqdTuiGvxKb/uIVD1MwgVBhAqHCBEKFCYQKEw7+1F9GyQUDFgsq5GxDLbtgwGJBtZxtqGUWDFgsqJ6zDXWjxIIBiwUVwsMUTDj7K2oo3tw6PudcS1IzcPjW813JUHlz6/icc61+v3/rve+FjN91visZKm9unUTTe98bjUYvcRwXujjsc74rGepGmTe38jz34jfcwuI4PsjDb6VDDVX21uHp6WnunPsiKeS247+NfBtC/Ysytw739/dv7u7uPg0Gg7cniFyqaOiEukXIrcNsNmudKnKpdOg1SauQ40ryq9WqETh2J0I9kGNHLpULPc/zRpqm7y8vLye1Wi0reuwsy6I8zz8sFouvkkL/o+Of9go1SZKo6MTz+TySpDRNo+l02j7meKvH3owNlWXZRRRF7eFw6Lrd7o8iYx8eHqLJZPJuOBx+63a786LHfh3fTpKkM51Ol0XG7tPXT0ewbupWWAyNAAAAAElFTkSuQmCC\"></img></td>\n",
       "      <td id=\"T_123f4_row15_col5\" class=\"data row15 col5\" >0<br>(0.0%)</td>\n",
       "    </tr>\n",
       "    <tr>\n",
       "      <td id=\"T_123f4_row16_col0\" class=\"data row16 col0\" >17</td>\n",
       "      <td id=\"T_123f4_row16_col1\" class=\"data row16 col1\" ><strong>Total_Amt_Chng_Q4_Q1</strong><br>[float64]</td>\n",
       "      <td id=\"T_123f4_row16_col2\" class=\"data row16 col2\" >Mean (sd) : 0.8 (0.2)<br>min < med < max:<br>0.0 < 0.7 < 3.4<br>IQR (CV) : 0.2 (3.5)</td>\n",
       "      <td id=\"T_123f4_row16_col3\" class=\"data row16 col3\" >1,158 distinct values</td>\n",
       "      <td id=\"T_123f4_row16_col4\" class=\"data row16 col4\" ><img src = \"data:image/png;base64, iVBORw0KGgoAAAANSUhEUgAAAKoAAABGCAYAAABc8A97AAAAOXRFWHRTb2Z0d2FyZQBNYXRwbG90bGliIHZlcnNpb24zLjcuMCwgaHR0cHM6Ly9tYXRwbG90bGliLm9yZy88F64QAAAACXBIWXMAAA9hAAAPYQGoP6dpAAACZklEQVR4nO3dsY7aQBRG4TthIQYiAyKBjpYiUgrKfYg87D5CChfb0PAGdAiDsHBgMcZpsumyCTYO/p3z9QNTHIE8ku+4LMsMqLp3994A8Dce7r2Btzjn2mbWyrn8lGXZ4Zb7wf1UNlTnXHs4HH71fX+QZ30URVvn3BOx1kNlQzWzlu/7g8fHx0Ov1ztes3C323lBEAzCMGyZGaHWQJVDNTOzXq93HI1G33Msbd98M7gbHqYggVAhgVAhgVAhgVAhgVAhgVAhgVAhgVAhgVAhgVAhgVAhgVAhgVAhgVAhgVAhgVAhgVAhgVAhgVAhgVAhgVAhodTXpQtOOvEvl0vzlvuBrtJCLTrpJEkSL03Tz8fj8ZuZ5XmvHzVS5i9q7kknZmbL5XKwWCw65/O5UcbmoKX0SSl5J51st1smneAXHqYggVAhgVAhgVAhgVAhgVAhgVAhgVAhgVAhgVAhgVAhgVAhgVAhgVAhgVAhgVAhgVAhgVAhgVAhgVAhgVAhgVAhgVAhgVAhgVAhgVAhgVAhgVAhgVAhofRpfveSpmnTzHznXN6POGVZdrjhllBALUON47iZJMmXyWTSaDQaV89mNTOLomjrnHsi1mqoZain0+nB87zObDY7jsfj7bXrd7udFwTBIAzDlpkRagXUMtRX3W431xDhnxgkXCE8TEECoUJCrf/6iyh4asCJwY39MdQCd0XJ3hNV9NSAE4PbezPUIndFvd4TtV6vn/NsbL/fe2ZmcRx7q9Wq86/WmpltNpsPnud1ptOp6/f7L9esPRwO7+fz+acwDD8656Jrv/s/9pJl2W9/FH4A1iSxuLygw/cAAAAASUVORK5CYII=\"></img></td>\n",
       "      <td id=\"T_123f4_row16_col5\" class=\"data row16 col5\" >0<br>(0.0%)</td>\n",
       "    </tr>\n",
       "    <tr>\n",
       "      <td id=\"T_123f4_row17_col0\" class=\"data row17 col0\" >18</td>\n",
       "      <td id=\"T_123f4_row17_col1\" class=\"data row17 col1\" ><strong>Total_Trans_Amt</strong><br>[int64]</td>\n",
       "      <td id=\"T_123f4_row17_col2\" class=\"data row17 col2\" >Mean (sd) : 4404.1 (3397.1)<br>min < med < max:<br>510.0 < 3899.0 < 18484.0<br>IQR (CV) : 2585.5 (1.3)</td>\n",
       "      <td id=\"T_123f4_row17_col3\" class=\"data row17 col3\" >5,033 distinct values</td>\n",
       "      <td id=\"T_123f4_row17_col4\" class=\"data row17 col4\" ><img src = \"data:image/png;base64, iVBORw0KGgoAAAANSUhEUgAAAKoAAABGCAYAAABc8A97AAAAOXRFWHRTb2Z0d2FyZQBNYXRwbG90bGliIHZlcnNpb24zLjcuMCwgaHR0cHM6Ly9tYXRwbG90bGliLm9yZy88F64QAAAACXBIWXMAAA9hAAAPYQGoP6dpAAADCUlEQVR4nO3dMW7iQBSA4TdrQAZ2bTlEpuMCkVJQ0m+bw+YIQaLYmhvQRFEsy1YcLIzxVtltsiQe48Dz/l//xMj55fFME1NVlQCX7tu5FwB8Ru/cCzjGGDMUkYHl+K6qqu0p14PzudhQjTHDyWRy53leYDOfpmlsjLkn1m642FBFZOB5XrBYLLa+7+d1BpMkcVerVRBF0UBECLUDLjlUERHxfT8Pw/DVYnR48sXgbDhMQQVChQofbv2cvHEJjobKyRuX4qM3aqOT93K5DKMoujbGpBZr8w6HQ99iDh30qVO/zck7y7J+URS3s9nMcRynVuQiIkVRuGVZ3uR5/iAiNqd+dEhr11O73a7nuu5oPp/n0+k0rju/2WyC9Xo92u/3Thvrgy6t36OOx2Ore9A4jrkHxR9cT0EFQoUKhAoVCBUqECpUIFSoQKhQgVChAqFCBUKFCoQKFQgVKhAqVCBUqECoUIFQoQKhQgVChQqEChUIFSoQKlQgVKhAqFCBUKECoUIFQoUKhAoVCBUqECpUIFSoQKhQgVChAqFCBUKFCoQKFQgVKhAqVCBUqECoUIFQoQKhQgVChQqEChUIFSoQKlRo/b9La2WMGYrIwHJ8V1XV9pTr+d8R6juMMcPJZHLneV5gM5+maWyMuSfW0yHU9w08zwsWi8XW9/28zmCSJO5qtQqiKBqIyJeH2tWdgFCP8H0/D8Pw1WJ0ePLFfEKXdwJC7ZZGO8FyuQyjKLo2xqSWv9/aG7mzoZZl2RcRzxhjM+4dDof+iZf0ZWx2gizL+kVR3M5mM8dxnFqRv2nzjdzJUJs+9KIo3LIsb/I8fxARm61fnd1u13NddzSfz/PpdBrXnW/727yToTZ96JvNJliv16P9fu+0sb5LNh6Pbb/LRVr8Nu9kqG9sH3ocx2c5DOHfOh2qRg2vl876bd3wXHD0IPapUJMkcev+6svLiysikmWZ+/T0NPrK+XP+dpIkblmWPbH7g7lXV1c/fd//XndQ5O+39fPz86+6s02f2ePj448m54KPDmK/Aa0ISQKipx3gAAAAAElFTkSuQmCC\"></img></td>\n",
       "      <td id=\"T_123f4_row17_col5\" class=\"data row17 col5\" >0<br>(0.0%)</td>\n",
       "    </tr>\n",
       "    <tr>\n",
       "      <td id=\"T_123f4_row18_col0\" class=\"data row18 col0\" >19</td>\n",
       "      <td id=\"T_123f4_row18_col1\" class=\"data row18 col1\" ><strong>Total_Trans_Ct</strong><br>[int64]</td>\n",
       "      <td id=\"T_123f4_row18_col2\" class=\"data row18 col2\" >Mean (sd) : 64.9 (23.5)<br>min < med < max:<br>10.0 < 67.0 < 139.0<br>IQR (CV) : 36.0 (2.8)</td>\n",
       "      <td id=\"T_123f4_row18_col3\" class=\"data row18 col3\" >126 distinct values</td>\n",
       "      <td id=\"T_123f4_row18_col4\" class=\"data row18 col4\" ><img src = \"data:image/png;base64, iVBORw0KGgoAAAANSUhEUgAAAKoAAABGCAYAAABc8A97AAAAOXRFWHRTb2Z0d2FyZQBNYXRwbG90bGliIHZlcnNpb24zLjcuMCwgaHR0cHM6Ly9tYXRwbG90bGliLm9yZy88F64QAAAACXBIWXMAAA9hAAAPYQGoP6dpAAACx0lEQVR4nO3cy4oaQRSA4VNxlFJJN17QnS8wkIUwm3mALPOweYQILrL2DdyIINKiGbG9ZJExzMBkZrqqO1On+L990bX4Ecs+lrlcLgKE7tNHbwB4j5uP3kCMjDFNEWk4Lj9cLpeHMvcTA0L9B4/YbLfb/ZqmadvluZvNZm2M+U6szxHqC4wxzV6v9y1Jkk7RtXmeWxG5vbu7+9nv9zdF1mZZZqfTaWe1WjVEhFCfINSXNZIk6dzf3z+kabovsnA+n3dms1nLWpsPBoNfDs9uOqyJHqG+Ik3TfdHY1us1oVWAUz9UIFSoQKhQgVChAqFCBUKFCoQKFQgVKhAqVCBUqECoUIFQoQKhQgVChQpBj/nxlw5cBRuqz5S9CH/piE2woYrHlD1/6YhPyKGKiNuU/SMm7SPCYQoqECpUIFSoQKhQgVChAqFCBUKFCoQKFYL/wd/V6XSqi0hijHFZnpzP53rJW4KHKEPd7Xb1PM+/jEajWq1WK/T6VeTPjXyn0+l2v9//EBGXt2IoWZShHg6HG2ttazwe74fD4bro+uuNfMfjsVbF/lBclKFetdttpzkBbuQLD4cpqFDpJ6rn4DMHGvxVWai+g88caPBUlZ+ozoPPIhxo8FzlhynXwWcONHiKwxRUIFSoQKhQgVChAqFChahfoWrkOfUlEukNMYQaEN+pL5F4b4gh1ID4Tn3FfEMMoQbIderrUZQvSjhMQQVChQqEChUIFSoQKlQgVKhAqFCBUKECP/hHxnNWINg5AUKNiO+sQMhzAoQaEZ9ZgSzL7GQyGaxWq74xZuO6haoiJ9QIucwKhD65RagQkfAnt94M1eO2E246USjUya1XQ/W57YSbTlCmtz5RnW874aYTlOld31FdbjvhphOUicMUSlPly4Z3hZplmS361O12a0VEdrudXS6Xrf+5Xuuzte5bRGSxWHyu8mXDbwFOjsgpuIQHAAAAAElFTkSuQmCC\"></img></td>\n",
       "      <td id=\"T_123f4_row18_col5\" class=\"data row18 col5\" >0<br>(0.0%)</td>\n",
       "    </tr>\n",
       "    <tr>\n",
       "      <td id=\"T_123f4_row19_col0\" class=\"data row19 col0\" >20</td>\n",
       "      <td id=\"T_123f4_row19_col1\" class=\"data row19 col1\" ><strong>Total_Ct_Chng_Q4_Q1</strong><br>[float64]</td>\n",
       "      <td id=\"T_123f4_row19_col2\" class=\"data row19 col2\" >Mean (sd) : 0.7 (0.2)<br>min < med < max:<br>0.0 < 0.7 < 3.7<br>IQR (CV) : 0.2 (3.0)</td>\n",
       "      <td id=\"T_123f4_row19_col3\" class=\"data row19 col3\" >830 distinct values</td>\n",
       "      <td id=\"T_123f4_row19_col4\" class=\"data row19 col4\" ><img src = \"data:image/png;base64, iVBORw0KGgoAAAANSUhEUgAAAKoAAABGCAYAAABc8A97AAAAOXRFWHRTb2Z0d2FyZQBNYXRwbG90bGliIHZlcnNpb24zLjcuMCwgaHR0cHM6Ly9tYXRwbG90bGliLm9yZy88F64QAAAACXBIWXMAAA9hAAAPYQGoP6dpAAACWElEQVR4nO3dMY7aQBiG4X/CggwoY1mWoOMCkVJQ+hB72LTpUnACbkCzQkJghBcHY5xq00TJYnvJ+mPfp5/BQq+MXQy/q6rKgK779N4XAFzj4ZabO+eGZjZoscWpqqrjW10PdN0sVOfcMI7jR+991HSP/X6/dc59I1bc8o468N5HSZIcwzDM6y5O0zRYLBbRZrMZmBmhfnA3/ek3MwvDMJ9MJs8Nlw/f9GIgi5cpSCBUSCBUSCBUSCBUSCBUSCBUSCBUSCBUSCBUSCBUSCBUSCBUSCBUSCBUSCBUSCBUSCBUSLj5UZQ2yrLsm5l3zjVZzgnWO9LZULMs6xdF8XU2m/V6vV7tw4GcYL0vnQ31dDo9BEEwms/n+XQ63dZZywnW+9PZUF+Mx+Omp1g5wXpHeJmCBEKFBEKFBEKFBEKFBEKFBEKFBEKFBEKFBEKFBEKFBEKFBEKFBEKFBEKFBEKFBEKFBEKFBEKFBEKFBEKFBEKFBEKFBEKFBEKFBEKFBEKFBEKFBEKFBEKFBEKFBEKFBEKFBEKFBEKFhFf/w985NzSzQYO9/eVy6TdYB/zhn6E654ZxHD9676O6GxdFEZRl+SXP8x9m1mRYBPDba3fUgfc+SpLkGIZhrVlPq9UqWi6Xo/P53GtxfY21HKZmxkC1TrlqfE8YhrVH6Gy323cbn9N2mJoZA9W6pvNzpppoM0zNjIFqXXSXob5oMUzNyrL0xhzWzrgq1DRNg7obHw6HwMwsy7JgvV6P/uf6tp/99PT0uc2jw263OzjnvptZo8eOD+pnVVV//b5+AdAgx6RqTs1xAAAAAElFTkSuQmCC\"></img></td>\n",
       "      <td id=\"T_123f4_row19_col5\" class=\"data row19 col5\" >0<br>(0.0%)</td>\n",
       "    </tr>\n",
       "    <tr>\n",
       "      <td id=\"T_123f4_row20_col0\" class=\"data row20 col0\" >21</td>\n",
       "      <td id=\"T_123f4_row20_col1\" class=\"data row20 col1\" ><strong>Avg_Utilization_Ratio</strong><br>[float64]</td>\n",
       "      <td id=\"T_123f4_row20_col2\" class=\"data row20 col2\" >Mean (sd) : 0.3 (0.3)<br>min < med < max:<br>0.0 < 0.2 < 1.0<br>IQR (CV) : 0.5 (1.0)</td>\n",
       "      <td id=\"T_123f4_row20_col3\" class=\"data row20 col3\" >964 distinct values</td>\n",
       "      <td id=\"T_123f4_row20_col4\" class=\"data row20 col4\" ><img src = \"data:image/png;base64, iVBORw0KGgoAAAANSUhEUgAAAKoAAABGCAYAAABc8A97AAAAOXRFWHRTb2Z0d2FyZQBNYXRwbG90bGliIHZlcnNpb24zLjcuMCwgaHR0cHM6Ly9tYXRwbG90bGliLm9yZy88F64QAAAACXBIWXMAAA9hAAAPYQGoP6dpAAACuElEQVR4nO3dvaoaQRiA4W/0aMYfdv2LdjYpLAIpBJtzASlzsbkFwSKlWKRJZSeoKG40LsY0ekgIHN0Zjftt3qc+MyucF52dXRhzPB4FSLvcoz8AcI2nS39gjCmJSNFx/v3xeNw6jgVevBqqMabUbDY/BUFQd5l8vV4vjTGfiRW+Ln2jFoMgqD8/P2/DMNwlmXi1WtnRaFSfz+dFESFUeLn40y8iEobhrt1uf3eYv+QwBvgLN1NQgVChAqFCBUKFCoQKFQgVKhAqVCBUqECoUIFQoQKhQgVChQqEChUIFSoQKlQgVKhAqFCBUKECoUIFQoUKhAoVCBUqECpUIFSoQKhQgVChAqFCBUKFCoQKFQgVKhAqVCBUqECoUIFQoQKhQgVChQqEChUIFSoQKlQgVKhAqFDhqpP7XB0Oh4KIBMYY1yk49BcicsdQoygqxHH8odvt5vP5fKJzVM849Bdndwt1v98/WWvL/X5/1+l0lknHc+gvfnfXn34RkUql4nrgrwiH/uKEmymoQKhQgVChwt3XqD48t7fY2sqQ1Ibqu73F1la2pDZUn+0ttrayJ7Whnnlsbz1sa8sYUxKRouPwnIj89Lh8Jpc8qQ/V1Q0e37oGYxuNxscwDCtJBx4Oh0IURe+q1eq3XC4XO1w7s0ueTIbqu771CSaOYysi7weDwZdWq7VOMnY6ndYnk8nbfr//1fVp3nA4bM/n85YxJtG1T1L7bZzJUH0f3/oEcxpbttbGSZcsy+WyJOK+3MnyDWgmQz1z/Yf7BHMe+whZvgHNdKj/K403oJcQKl6k+f1hQoWIpP/9YUKFiKT//WFCxR/S+v4woeJm7vkSEaHiJu69h3tVqKvVyia98GazsSIiURTZ2WxW/pfjtV5b6+cWEVksFlVrbbnX65larfYjydjtdvtmPB6/ur79BV06lHJ/+EvYAAAAAElFTkSuQmCC\"></img></td>\n",
       "      <td id=\"T_123f4_row20_col5\" class=\"data row20 col5\" >0<br>(0.0%)</td>\n",
       "    </tr>\n",
       "    <tr>\n",
       "      <td id=\"T_123f4_row21_col0\" class=\"data row21 col0\" >22</td>\n",
       "      <td id=\"T_123f4_row21_col1\" class=\"data row21 col1\" ><strong>Naive_Bayes_Classifier_Attrition_Flag_Card_Category_Contacts_Count_12_mon_Dependent_count_Education_Level_Months_Inactive_12_mon_1</strong><br>[float64]</td>\n",
       "      <td id=\"T_123f4_row21_col2\" class=\"data row21 col2\" >Mean (sd) : 0.2 (0.4)<br>min < med < max:<br>0.0 < 0.0 < 1.0<br>IQR (CV) : 0.0 (0.4)</td>\n",
       "      <td id=\"T_123f4_row21_col3\" class=\"data row21 col3\" >1,704 distinct values</td>\n",
       "      <td id=\"T_123f4_row21_col4\" class=\"data row21 col4\" ><img src = \"data:image/png;base64, iVBORw0KGgoAAAANSUhEUgAAAKoAAABGCAYAAABc8A97AAAAOXRFWHRTb2Z0d2FyZQBNYXRwbG90bGliIHZlcnNpb24zLjcuMCwgaHR0cHM6Ly9tYXRwbG90bGliLm9yZy88F64QAAAACXBIWXMAAA9hAAAPYQGoP6dpAAABtklEQVR4nO3ZTYqDQBCG4apBRDfdiOBhPEQOm0N4GwntIkog6dnNZpj8dDJkvuF9tlpFL14U0XPOBvx1H+8+AHCP6tYN7t6aWV24/5RzXgtngS9XQ3X3tu/7XQihK1m+LMvB3ffEimfdeqLWIYRuHMc1xrg9sjil1EzT1M3zXJsZoeIpN1/9ZmYxxm0YhmPB/rZgBviGjylIIFRIIFRIIFRIIFRIIFRIIFRIIFRIIFRIIFRIIFRIIFRIIFRIIFRIIFRIIFRIIFRIIFRIIFRIIFRIIFRIIFRIIFRIIFRIIFRIIFRIIFRIIFRIIFRIIFRIIFRIIFRIIFRIIFRIIFRIIFRIIFRIIFRIIFRIIFRIIFRIIFRIIFRIIFRIIFRIIFRIIFRIIFRIIFRIIFRIqN59APwf7t6aWV04fso5rz9dJFS8hLu3fd/vQghdyfyyLAd33/8UK6HiVeoQQjeO4xpj3B4ZTCk10zR18zzXZkao+H0xxm0YhmPBaHvtIh9TkECokECokECokECokECokECokECokECokHDXn6mUUvPo4pRScz6fKzML7v7wwSAnXC6XqrSVW/d8AkonTn3BAu6AAAAAAElFTkSuQmCC\"></img></td>\n",
       "      <td id=\"T_123f4_row21_col5\" class=\"data row21 col5\" >0<br>(0.0%)</td>\n",
       "    </tr>\n",
       "    <tr>\n",
       "      <td id=\"T_123f4_row22_col0\" class=\"data row22 col0\" >23</td>\n",
       "      <td id=\"T_123f4_row22_col1\" class=\"data row22 col1\" ><strong>Naive_Bayes_Classifier_Attrition_Flag_Card_Category_Contacts_Count_12_mon_Dependent_count_Education_Level_Months_Inactive_12_mon_2</strong><br>[float64]</td>\n",
       "      <td id=\"T_123f4_row22_col2\" class=\"data row22 col2\" >Mean (sd) : 0.8 (0.4)<br>min < med < max:<br>0.0 < 1.0 < 1.0<br>IQR (CV) : 0.0 (2.3)</td>\n",
       "      <td id=\"T_123f4_row22_col3\" class=\"data row22 col3\" >640 distinct values</td>\n",
       "      <td id=\"T_123f4_row22_col4\" class=\"data row22 col4\" ><img src = \"data:image/png;base64, iVBORw0KGgoAAAANSUhEUgAAAKoAAABGCAYAAABc8A97AAAAOXRFWHRTb2Z0d2FyZQBNYXRwbG90bGliIHZlcnNpb24zLjcuMCwgaHR0cHM6Ly9tYXRwbG90bGliLm9yZy88F64QAAAACXBIWXMAAA9hAAAPYQGoP6dpAAABtklEQVR4nO3ZTYqDQBCG4apBRDfdiOBhPEQOm0N4GwntIkog6dnNZpj8dDJkvuF9tlpFL14U0XPOBvx1H+8+AHCP6t0HwP/h7q2Z1YXjp5zz+tNFQsVLuHvb9/0uhNCVzC/LcnD3/U+xEipepQ4hdOM4rjHG7ZHBlFIzTVM3z3NtZoSK3xdj3IZhOBaMttcu8jEFCYQKCYQKCYQKCYQKCYQKCYQKCYQKCYQKCYQKCYQKCYQKCYQKCYQKCYQKCYQKCYQKCYQKCYQKCYQKCYQKCYQKCYQKCYQKCYQKCYQKCYQKCYQKCYQKCYQKCYQKCYQKCYQKCYQKCYQKCYQKCYQKCYQKCYQKCYQKCYQKCYQKCYQKCYQKCYQKCYQKCYQKCYQKCYQKCYQKCdWtG9y9NbO6cP8p57wWzgJfrobq7m3f97sQQleyfFmWg7vviRXPuvVErUMI3TiOa4xxe2RxSqmZpqmb57k2M0LFU26++s3MYozbMAzHgv1twQzwDR9TkECokECokECokECokECokECokECokECokHDXn6mUUvPo4pRScz6fKzML7v7wwSAnXC6XqrSVW/d8AkonTn2ckm/eAAAAAElFTkSuQmCC\"></img></td>\n",
       "      <td id=\"T_123f4_row22_col5\" class=\"data row22 col5\" >0<br>(0.0%)</td>\n",
       "    </tr>\n",
       "  </tbody>\n",
       "</table>\n"
      ],
      "text/plain": [
       "<pandas.io.formats.style.Styler at 0x22724f4d090>"
      ]
     },
     "execution_count": 6,
     "metadata": {},
     "output_type": "execute_result"
    }
   ],
   "source": [
    "dfSummary(data)"
   ]
  },
  {
   "cell_type": "markdown",
   "metadata": {},
   "source": [
    "Se valida la existencia de nulos en el dataset"
   ]
  },
  {
   "cell_type": "code",
   "execution_count": 7,
   "metadata": {},
   "outputs": [
    {
     "data": {
      "text/plain": [
       "[]"
      ]
     },
     "execution_count": 7,
     "metadata": {},
     "output_type": "execute_result"
    }
   ],
   "source": [
    "# Variables con Nulos\n",
    "cols_Nan=[col for col in data.columns if(data[col].isnull().mean()>0)]\n",
    "cols_Nan"
   ]
  },
  {
   "cell_type": "markdown",
   "metadata": {},
   "source": [
    "Se extrae el nombre de las columnas"
   ]
  },
  {
   "cell_type": "code",
   "execution_count": 8,
   "metadata": {},
   "outputs": [
    {
     "data": {
      "text/plain": [
       "Index(['CLIENTNUM', 'Attrition_Flag', 'Customer_Age', 'Gender',\n",
       "       'Dependent_count', 'Education_Level', 'Marital_Status',\n",
       "       'Income_Category', 'Card_Category', 'Months_on_book',\n",
       "       'Total_Relationship_Count', 'Months_Inactive_12_mon',\n",
       "       'Contacts_Count_12_mon', 'Credit_Limit', 'Total_Revolving_Bal',\n",
       "       'Avg_Open_To_Buy', 'Total_Amt_Chng_Q4_Q1', 'Total_Trans_Amt',\n",
       "       'Total_Trans_Ct', 'Total_Ct_Chng_Q4_Q1', 'Avg_Utilization_Ratio',\n",
       "       'Naive_Bayes_Classifier_Attrition_Flag_Card_Category_Contacts_Count_12_mon_Dependent_count_Education_Level_Months_Inactive_12_mon_1',\n",
       "       'Naive_Bayes_Classifier_Attrition_Flag_Card_Category_Contacts_Count_12_mon_Dependent_count_Education_Level_Months_Inactive_12_mon_2'],\n",
       "      dtype='object')"
      ]
     },
     "execution_count": 8,
     "metadata": {},
     "output_type": "execute_result"
    }
   ],
   "source": [
    "data.columns"
   ]
  },
  {
   "cell_type": "markdown",
   "metadata": {},
   "source": [
    "Con forme a los datos obtenidos, se procederá a utilizar para el análisis las columnas 'Customer_Age', 'Gender', 'Card_Category' y 'Total_Revolving_Bal'. Eso ya que se desea realizar un análisis por edad, género, categoría de tarjeta y la capacidad de girar el balance."
   ]
  },
  {
   "cell_type": "markdown",
   "metadata": {},
   "source": [
    "### 2. Análisis variables seleccionadas"
   ]
  },
  {
   "cell_type": "markdown",
   "metadata": {},
   "source": [
    "Se grafica la columna 'Customer_Age' para observar su distribución"
   ]
  },
  {
   "cell_type": "code",
   "execution_count": 10,
   "metadata": {},
   "outputs": [
    {
     "data": {
      "text/plain": [
       "<Axes: xlabel='Customer_Age', ylabel='Count'>"
      ]
     },
     "execution_count": 10,
     "metadata": {},
     "output_type": "execute_result"
    },
    {
     "data": {
      "image/png": "[encoded data removed]",
      "text/plain": [
       "<Figure size 640x480 with 1 Axes>"
      ]
     },
     "metadata": {},
     "output_type": "display_data"
    }
   ],
   "source": [
    "sns.histplot(data = data, x='Customer_Age')"
   ]
  },
  {
   "cell_type": "markdown",
   "metadata": {},
   "source": [
    "Se grafica la columna 'Gender' para observar su distribución. De ésta se puede observar que se tienen valores extremos outliers."
   ]
  },
  {
   "cell_type": "code",
   "execution_count": 11,
   "metadata": {},
   "outputs": [
    {
     "data": {
      "text/plain": [
       "<Axes: xlabel='Gender', ylabel='Count'>"
      ]
     },
     "execution_count": 11,
     "metadata": {},
     "output_type": "execute_result"
    },
    {
     "data": {
      "image/png": "[encoded data removed]",
      "text/plain": [
       "<Figure size 640x480 with 1 Axes>"
      ]
     },
     "metadata": {},
     "output_type": "display_data"
    }
   ],
   "source": [
    "sns.histplot(data=data, x='Gender')"
   ]
  },
  {
   "cell_type": "markdown",
   "metadata": {},
   "source": [
    "Se grafica la columna 'Card_Category' para observar su distribución."
   ]
  },
  {
   "cell_type": "code",
   "execution_count": 12,
   "metadata": {},
   "outputs": [
    {
     "data": {
      "text/plain": [
       "<Axes: xlabel='Card_Category', ylabel='Count'>"
      ]
     },
     "execution_count": 12,
     "metadata": {},
     "output_type": "execute_result"
    },
    {
     "data": {
      "image/png": "[encoded data removed]",
      "text/plain": [
       "<Figure size 640x480 with 1 Axes>"
      ]
     },
     "metadata": {},
     "output_type": "display_data"
    }
   ],
   "source": [
    "sns.histplot(data=data, x='Card_Category')"
   ]
  },
  {
   "cell_type": "markdown",
   "metadata": {},
   "source": [
    "Se grafica la columna 'Total_Revolving_Bal' para observar su distribución."
   ]
  },
  {
   "cell_type": "code",
   "execution_count": 13,
   "metadata": {},
   "outputs": [
    {
     "data": {
      "text/plain": [
       "<Axes: xlabel='Total_Revolving_Bal', ylabel='Count'>"
      ]
     },
     "execution_count": 13,
     "metadata": {},
     "output_type": "execute_result"
    },
    {
     "data": {
      "image/png": "[encoded data removed]",
      "text/plain": [
       "<Figure size 640x480 with 1 Axes>"
      ]
     },
     "metadata": {},
     "output_type": "display_data"
    }
   ],
   "source": [
    "sns.histplot(data=data, x='Total_Revolving_Bal')"
   ]
  },
  {
   "cell_type": "markdown",
   "metadata": {},
   "source": [
    "Del dataset general, se seleccionan las columnas a analizar ['Customer_Age', 'Gender', 'Card_Category', 'Total_Revolving_Bal'] y se asignan a la variable data_clean"
   ]
  },
  {
   "cell_type": "code",
   "execution_count": 14,
   "metadata": {},
   "outputs": [
    {
     "data": {
      "text/html": [
       "<div>\n",
       "<style scoped>\n",
       "    .dataframe tbody tr th:only-of-type {\n",
       "        vertical-align: middle;\n",
       "    }\n",
       "\n",
       "    .dataframe tbody tr th {\n",
       "        vertical-align: top;\n",
       "    }\n",
       "\n",
       "    .dataframe thead th {\n",
       "        text-align: right;\n",
       "    }\n",
       "</style>\n",
       "<table border=\"1\" class=\"dataframe\">\n",
       "  <thead>\n",
       "    <tr style=\"text-align: right;\">\n",
       "      <th></th>\n",
       "      <th>Customer_Age</th>\n",
       "      <th>Gender</th>\n",
       "      <th>Card_Category</th>\n",
       "      <th>Total_Revolving_Bal</th>\n",
       "    </tr>\n",
       "  </thead>\n",
       "  <tbody>\n",
       "    <tr>\n",
       "      <th>0</th>\n",
       "      <td>45</td>\n",
       "      <td>M</td>\n",
       "      <td>Blue</td>\n",
       "      <td>777</td>\n",
       "    </tr>\n",
       "    <tr>\n",
       "      <th>1</th>\n",
       "      <td>49</td>\n",
       "      <td>F</td>\n",
       "      <td>Blue</td>\n",
       "      <td>864</td>\n",
       "    </tr>\n",
       "    <tr>\n",
       "      <th>2</th>\n",
       "      <td>51</td>\n",
       "      <td>M</td>\n",
       "      <td>Blue</td>\n",
       "      <td>0</td>\n",
       "    </tr>\n",
       "    <tr>\n",
       "      <th>3</th>\n",
       "      <td>40</td>\n",
       "      <td>F</td>\n",
       "      <td>Blue</td>\n",
       "      <td>2517</td>\n",
       "    </tr>\n",
       "    <tr>\n",
       "      <th>4</th>\n",
       "      <td>40</td>\n",
       "      <td>M</td>\n",
       "      <td>Blue</td>\n",
       "      <td>0</td>\n",
       "    </tr>\n",
       "    <tr>\n",
       "      <th>...</th>\n",
       "      <td>...</td>\n",
       "      <td>...</td>\n",
       "      <td>...</td>\n",
       "      <td>...</td>\n",
       "    </tr>\n",
       "    <tr>\n",
       "      <th>10122</th>\n",
       "      <td>50</td>\n",
       "      <td>M</td>\n",
       "      <td>Blue</td>\n",
       "      <td>1851</td>\n",
       "    </tr>\n",
       "    <tr>\n",
       "      <th>10123</th>\n",
       "      <td>41</td>\n",
       "      <td>M</td>\n",
       "      <td>Blue</td>\n",
       "      <td>2186</td>\n",
       "    </tr>\n",
       "    <tr>\n",
       "      <th>10124</th>\n",
       "      <td>44</td>\n",
       "      <td>F</td>\n",
       "      <td>Blue</td>\n",
       "      <td>0</td>\n",
       "    </tr>\n",
       "    <tr>\n",
       "      <th>10125</th>\n",
       "      <td>30</td>\n",
       "      <td>M</td>\n",
       "      <td>Blue</td>\n",
       "      <td>0</td>\n",
       "    </tr>\n",
       "    <tr>\n",
       "      <th>10126</th>\n",
       "      <td>43</td>\n",
       "      <td>F</td>\n",
       "      <td>Silver</td>\n",
       "      <td>1961</td>\n",
       "    </tr>\n",
       "  </tbody>\n",
       "</table>\n",
       "<p>10127 rows × 4 columns</p>\n",
       "</div>"
      ],
      "text/plain": [
       "       Customer_Age Gender Card_Category  Total_Revolving_Bal\n",
       "0                45      M          Blue                  777\n",
       "1                49      F          Blue                  864\n",
       "2                51      M          Blue                    0\n",
       "3                40      F          Blue                 2517\n",
       "4                40      M          Blue                    0\n",
       "...             ...    ...           ...                  ...\n",
       "10122            50      M          Blue                 1851\n",
       "10123            41      M          Blue                 2186\n",
       "10124            44      F          Blue                    0\n",
       "10125            30      M          Blue                    0\n",
       "10126            43      F        Silver                 1961\n",
       "\n",
       "[10127 rows x 4 columns]"
      ]
     },
     "execution_count": 14,
     "metadata": {},
     "output_type": "execute_result"
    }
   ],
   "source": [
    "data_clean = data[['Customer_Age', 'Gender', 'Card_Category', 'Total_Revolving_Bal']]\n",
    "data_clean"
   ]
  },
  {
   "cell_type": "markdown",
   "metadata": {},
   "source": [
    "### Tipos de variables"
   ]
  },
  {
   "cell_type": "markdown",
   "metadata": {},
   "source": [
    "Se determina el tipo de variables. Se crea la función getDateColTypes para la clasificación."
   ]
  },
  {
   "cell_type": "code",
   "execution_count": 15,
   "metadata": {},
   "outputs": [],
   "source": [
    "# Tipo de Variables\n",
    "def getDateColTypes (df):\n",
    "    categoricas=[]\n",
    "    continuas=[]\n",
    "    discretas=[]\n",
    "\n",
    "    for colName in df.columns:\n",
    "        if(df[colName].dtype=='object'):\n",
    "            categoricas.append(colName)\n",
    "        else:\n",
    "            if((df[colName].dtype=='int64')or (df[colName].dtype=='float64')or (df[colName].dtype=='uint8')):\n",
    "                if (len(df[colName].unique())<=30):\n",
    "                    discretas.append(colName)\n",
    "                else:\n",
    "                    continuas.append(colName)\n",
    "    return categoricas, continuas, discretas"
   ]
  },
  {
   "cell_type": "code",
   "execution_count": 16,
   "metadata": {},
   "outputs": [],
   "source": [
    "# Obtener tipos de variables\n",
    "categoricas, continuas, discretas=getDateColTypes(data_clean)"
   ]
  },
  {
   "cell_type": "markdown",
   "metadata": {},
   "source": [
    "#### 1. Variables categóricas"
   ]
  },
  {
   "cell_type": "code",
   "execution_count": 17,
   "metadata": {},
   "outputs": [
    {
     "data": {
      "text/plain": [
       "['Gender', 'Card_Category']"
      ]
     },
     "execution_count": 17,
     "metadata": {},
     "output_type": "execute_result"
    }
   ],
   "source": [
    "# Variables categoricas\n",
    "categoricas"
   ]
  },
  {
   "cell_type": "code",
   "execution_count": 18,
   "metadata": {},
   "outputs": [
    {
     "name": "stdout",
     "output_type": "stream",
     "text": [
      "Gender: 2\n",
      "Card_Category: 4\n"
     ]
    }
   ],
   "source": [
    "# Obtener de las variables categoricas la cantidad de valores unicos\n",
    "for var in categoricas:\n",
    "    print(f'{var}: {data_clean[var].nunique()}')"
   ]
  },
  {
   "cell_type": "markdown",
   "metadata": {},
   "source": [
    "Se realizará One Hot Encoding para la variable Gender"
   ]
  },
  {
   "cell_type": "code",
   "execution_count": 19,
   "metadata": {},
   "outputs": [
    {
     "name": "stderr",
     "output_type": "stream",
     "text": [
      "C:\\Users\\lgutierrez\\AppData\\Local\\Temp\\ipykernel_33648\\3141053355.py:5: SettingWithCopyWarning: \n",
      "A value is trying to be set on a copy of a slice from a DataFrame.\n",
      "Try using .loc[row_indexer,col_indexer] = value instead\n",
      "\n",
      "See the caveats in the documentation: https://pandas.pydata.org/pandas-docs/stable/user_guide/indexing.html#returning-a-view-versus-a-copy\n",
      "  data_clean['Gender']=ohe_gender # Female: 0, Male: 1\n"
     ]
    }
   ],
   "source": [
    "# One Hot Encoding a la variable 'Gender' (el resto tiene muy elevado la cantidad de valores unicos para OHE)\n",
    "\n",
    "ohe_gender=pd.get_dummies(data_clean['Gender'],drop_first=True)\n",
    "\n",
    "data_clean['Gender']=ohe_gender # Female: 0, Male: 1"
   ]
  },
  {
   "cell_type": "code",
   "execution_count": 20,
   "metadata": {},
   "outputs": [
    {
     "name": "stderr",
     "output_type": "stream",
     "text": [
      "C:\\Users\\lgutierrez\\AppData\\Local\\Temp\\ipykernel_33648\\3514288598.py:8: SettingWithCopyWarning: \n",
      "A value is trying to be set on a copy of a slice from a DataFrame.\n",
      "Try using .loc[row_indexer,col_indexer] = value instead\n",
      "\n",
      "See the caveats in the documentation: https://pandas.pydata.org/pandas-docs/stable/user_guide/indexing.html#returning-a-view-versus-a-copy\n",
      "  data_clean[var]= data_clean[var].map(mapper)\n"
     ]
    }
   ],
   "source": [
    "# Frecuency Encoding a las variables: merchant , category, city , state, job\n",
    "frecuency=['Card_Category']\n",
    "\n",
    "for var in frecuency:\n",
    "\n",
    "    mapper=(data_clean[var].value_counts().sort_values(ascending=False)).to_dict()\n",
    "\n",
    "    data_clean[var]= data_clean[var].map(mapper)"
   ]
  },
  {
   "cell_type": "markdown",
   "metadata": {},
   "source": [
    "Se extraen las características y estadísticas generales del dataset nuevo."
   ]
  },
  {
   "cell_type": "code",
   "execution_count": 21,
   "metadata": {},
   "outputs": [
    {
     "data": {
      "text/html": [
       "<div>\n",
       "<style scoped>\n",
       "    .dataframe tbody tr th:only-of-type {\n",
       "        vertical-align: middle;\n",
       "    }\n",
       "\n",
       "    .dataframe tbody tr th {\n",
       "        vertical-align: top;\n",
       "    }\n",
       "\n",
       "    .dataframe thead th {\n",
       "        text-align: right;\n",
       "    }\n",
       "</style>\n",
       "<table border=\"1\" class=\"dataframe\">\n",
       "  <thead>\n",
       "    <tr style=\"text-align: right;\">\n",
       "      <th></th>\n",
       "      <th>Customer_Age</th>\n",
       "      <th>Gender</th>\n",
       "      <th>Card_Category</th>\n",
       "      <th>Total_Revolving_Bal</th>\n",
       "    </tr>\n",
       "  </thead>\n",
       "  <tbody>\n",
       "    <tr>\n",
       "      <th>count</th>\n",
       "      <td>10127.000000</td>\n",
       "      <td>10127.000000</td>\n",
       "      <td>10127.000000</td>\n",
       "      <td>10127.000000</td>\n",
       "    </tr>\n",
       "    <tr>\n",
       "      <th>mean</th>\n",
       "      <td>46.325960</td>\n",
       "      <td>0.470919</td>\n",
       "      <td>8823.933741</td>\n",
       "      <td>1162.814061</td>\n",
       "    </tr>\n",
       "    <tr>\n",
       "      <th>std</th>\n",
       "      <td>8.016814</td>\n",
       "      <td>0.499178</td>\n",
       "      <td>2262.400386</td>\n",
       "      <td>814.987335</td>\n",
       "    </tr>\n",
       "    <tr>\n",
       "      <th>min</th>\n",
       "      <td>26.000000</td>\n",
       "      <td>0.000000</td>\n",
       "      <td>20.000000</td>\n",
       "      <td>0.000000</td>\n",
       "    </tr>\n",
       "    <tr>\n",
       "      <th>25%</th>\n",
       "      <td>41.000000</td>\n",
       "      <td>0.000000</td>\n",
       "      <td>9436.000000</td>\n",
       "      <td>359.000000</td>\n",
       "    </tr>\n",
       "    <tr>\n",
       "      <th>50%</th>\n",
       "      <td>46.000000</td>\n",
       "      <td>0.000000</td>\n",
       "      <td>9436.000000</td>\n",
       "      <td>1276.000000</td>\n",
       "    </tr>\n",
       "    <tr>\n",
       "      <th>75%</th>\n",
       "      <td>52.000000</td>\n",
       "      <td>1.000000</td>\n",
       "      <td>9436.000000</td>\n",
       "      <td>1784.000000</td>\n",
       "    </tr>\n",
       "    <tr>\n",
       "      <th>max</th>\n",
       "      <td>73.000000</td>\n",
       "      <td>1.000000</td>\n",
       "      <td>9436.000000</td>\n",
       "      <td>2517.000000</td>\n",
       "    </tr>\n",
       "  </tbody>\n",
       "</table>\n",
       "</div>"
      ],
      "text/plain": [
       "       Customer_Age        Gender  Card_Category  Total_Revolving_Bal\n",
       "count  10127.000000  10127.000000   10127.000000         10127.000000\n",
       "mean      46.325960      0.470919    8823.933741          1162.814061\n",
       "std        8.016814      0.499178    2262.400386           814.987335\n",
       "min       26.000000      0.000000      20.000000             0.000000\n",
       "25%       41.000000      0.000000    9436.000000           359.000000\n",
       "50%       46.000000      0.000000    9436.000000          1276.000000\n",
       "75%       52.000000      1.000000    9436.000000          1784.000000\n",
       "max       73.000000      1.000000    9436.000000          2517.000000"
      ]
     },
     "execution_count": 21,
     "metadata": {},
     "output_type": "execute_result"
    }
   ],
   "source": [
    "data_clean.describe()"
   ]
  },
  {
   "cell_type": "markdown",
   "metadata": {},
   "source": [
    "Se visualiza el dataset data_clean"
   ]
  },
  {
   "cell_type": "code",
   "execution_count": 22,
   "metadata": {},
   "outputs": [
    {
     "data": {
      "text/html": [
       "<div>\n",
       "<style scoped>\n",
       "    .dataframe tbody tr th:only-of-type {\n",
       "        vertical-align: middle;\n",
       "    }\n",
       "\n",
       "    .dataframe tbody tr th {\n",
       "        vertical-align: top;\n",
       "    }\n",
       "\n",
       "    .dataframe thead th {\n",
       "        text-align: right;\n",
       "    }\n",
       "</style>\n",
       "<table border=\"1\" class=\"dataframe\">\n",
       "  <thead>\n",
       "    <tr style=\"text-align: right;\">\n",
       "      <th></th>\n",
       "      <th>Customer_Age</th>\n",
       "      <th>Gender</th>\n",
       "      <th>Card_Category</th>\n",
       "      <th>Total_Revolving_Bal</th>\n",
       "    </tr>\n",
       "  </thead>\n",
       "  <tbody>\n",
       "    <tr>\n",
       "      <th>0</th>\n",
       "      <td>45</td>\n",
       "      <td>1</td>\n",
       "      <td>9436</td>\n",
       "      <td>777</td>\n",
       "    </tr>\n",
       "    <tr>\n",
       "      <th>1</th>\n",
       "      <td>49</td>\n",
       "      <td>0</td>\n",
       "      <td>9436</td>\n",
       "      <td>864</td>\n",
       "    </tr>\n",
       "    <tr>\n",
       "      <th>2</th>\n",
       "      <td>51</td>\n",
       "      <td>1</td>\n",
       "      <td>9436</td>\n",
       "      <td>0</td>\n",
       "    </tr>\n",
       "    <tr>\n",
       "      <th>3</th>\n",
       "      <td>40</td>\n",
       "      <td>0</td>\n",
       "      <td>9436</td>\n",
       "      <td>2517</td>\n",
       "    </tr>\n",
       "    <tr>\n",
       "      <th>4</th>\n",
       "      <td>40</td>\n",
       "      <td>1</td>\n",
       "      <td>9436</td>\n",
       "      <td>0</td>\n",
       "    </tr>\n",
       "    <tr>\n",
       "      <th>...</th>\n",
       "      <td>...</td>\n",
       "      <td>...</td>\n",
       "      <td>...</td>\n",
       "      <td>...</td>\n",
       "    </tr>\n",
       "    <tr>\n",
       "      <th>10122</th>\n",
       "      <td>50</td>\n",
       "      <td>1</td>\n",
       "      <td>9436</td>\n",
       "      <td>1851</td>\n",
       "    </tr>\n",
       "    <tr>\n",
       "      <th>10123</th>\n",
       "      <td>41</td>\n",
       "      <td>1</td>\n",
       "      <td>9436</td>\n",
       "      <td>2186</td>\n",
       "    </tr>\n",
       "    <tr>\n",
       "      <th>10124</th>\n",
       "      <td>44</td>\n",
       "      <td>0</td>\n",
       "      <td>9436</td>\n",
       "      <td>0</td>\n",
       "    </tr>\n",
       "    <tr>\n",
       "      <th>10125</th>\n",
       "      <td>30</td>\n",
       "      <td>1</td>\n",
       "      <td>9436</td>\n",
       "      <td>0</td>\n",
       "    </tr>\n",
       "    <tr>\n",
       "      <th>10126</th>\n",
       "      <td>43</td>\n",
       "      <td>0</td>\n",
       "      <td>555</td>\n",
       "      <td>1961</td>\n",
       "    </tr>\n",
       "  </tbody>\n",
       "</table>\n",
       "<p>10127 rows × 4 columns</p>\n",
       "</div>"
      ],
      "text/plain": [
       "       Customer_Age  Gender  Card_Category  Total_Revolving_Bal\n",
       "0                45       1           9436                  777\n",
       "1                49       0           9436                  864\n",
       "2                51       1           9436                    0\n",
       "3                40       0           9436                 2517\n",
       "4                40       1           9436                    0\n",
       "...             ...     ...            ...                  ...\n",
       "10122            50       1           9436                 1851\n",
       "10123            41       1           9436                 2186\n",
       "10124            44       0           9436                    0\n",
       "10125            30       1           9436                    0\n",
       "10126            43       0            555                 1961\n",
       "\n",
       "[10127 rows x 4 columns]"
      ]
     },
     "execution_count": 22,
     "metadata": {},
     "output_type": "execute_result"
    }
   ],
   "source": [
    "data_clean"
   ]
  },
  {
   "cell_type": "markdown",
   "metadata": {},
   "source": [
    "Se obtienen nuevamente los tipos de variables a utilizar"
   ]
  },
  {
   "cell_type": "code",
   "execution_count": 23,
   "metadata": {},
   "outputs": [],
   "source": [
    "# Obtener nuevamente tipos de variables\n",
    "categoricas, continuas, discretas=getDateColTypes(data_clean)"
   ]
  },
  {
   "cell_type": "code",
   "execution_count": 24,
   "metadata": {},
   "outputs": [
    {
     "name": "stdout",
     "output_type": "stream",
     "text": [
      "discretas: ['Gender', 'Card_Category']\n",
      "continuas: ['Customer_Age', 'Total_Revolving_Bal']\n",
      "categoricas: []\n"
     ]
    }
   ],
   "source": [
    "print(f'discretas: {discretas}')\n",
    "print(f'continuas: {continuas}')\n",
    "print(f'categoricas: {categoricas}')"
   ]
  },
  {
   "cell_type": "code",
   "execution_count": 25,
   "metadata": {},
   "outputs": [
    {
     "data": {
      "text/html": [
       "<div>\n",
       "<style scoped>\n",
       "    .dataframe tbody tr th:only-of-type {\n",
       "        vertical-align: middle;\n",
       "    }\n",
       "\n",
       "    .dataframe tbody tr th {\n",
       "        vertical-align: top;\n",
       "    }\n",
       "\n",
       "    .dataframe thead th {\n",
       "        text-align: right;\n",
       "    }\n",
       "</style>\n",
       "<table border=\"1\" class=\"dataframe\">\n",
       "  <thead>\n",
       "    <tr style=\"text-align: right;\">\n",
       "      <th></th>\n",
       "      <th>Gender</th>\n",
       "      <th>Card_Category</th>\n",
       "    </tr>\n",
       "  </thead>\n",
       "  <tbody>\n",
       "    <tr>\n",
       "      <th>count</th>\n",
       "      <td>10127.000000</td>\n",
       "      <td>10127.000000</td>\n",
       "    </tr>\n",
       "    <tr>\n",
       "      <th>mean</th>\n",
       "      <td>0.470919</td>\n",
       "      <td>8823.933741</td>\n",
       "    </tr>\n",
       "    <tr>\n",
       "      <th>std</th>\n",
       "      <td>0.499178</td>\n",
       "      <td>2262.400386</td>\n",
       "    </tr>\n",
       "    <tr>\n",
       "      <th>min</th>\n",
       "      <td>0.000000</td>\n",
       "      <td>20.000000</td>\n",
       "    </tr>\n",
       "    <tr>\n",
       "      <th>25%</th>\n",
       "      <td>0.000000</td>\n",
       "      <td>9436.000000</td>\n",
       "    </tr>\n",
       "    <tr>\n",
       "      <th>50%</th>\n",
       "      <td>0.000000</td>\n",
       "      <td>9436.000000</td>\n",
       "    </tr>\n",
       "    <tr>\n",
       "      <th>75%</th>\n",
       "      <td>1.000000</td>\n",
       "      <td>9436.000000</td>\n",
       "    </tr>\n",
       "    <tr>\n",
       "      <th>max</th>\n",
       "      <td>1.000000</td>\n",
       "      <td>9436.000000</td>\n",
       "    </tr>\n",
       "  </tbody>\n",
       "</table>\n",
       "</div>"
      ],
      "text/plain": [
       "             Gender  Card_Category\n",
       "count  10127.000000   10127.000000\n",
       "mean       0.470919    8823.933741\n",
       "std        0.499178    2262.400386\n",
       "min        0.000000      20.000000\n",
       "25%        0.000000    9436.000000\n",
       "50%        0.000000    9436.000000\n",
       "75%        1.000000    9436.000000\n",
       "max        1.000000    9436.000000"
      ]
     },
     "execution_count": 25,
     "metadata": {},
     "output_type": "execute_result"
    }
   ],
   "source": [
    "# Variables Discretas\n",
    "data_clean[discretas].describe()"
   ]
  },
  {
   "cell_type": "code",
   "execution_count": 26,
   "metadata": {},
   "outputs": [
    {
     "data": {
      "text/html": [
       "<div>\n",
       "<style scoped>\n",
       "    .dataframe tbody tr th:only-of-type {\n",
       "        vertical-align: middle;\n",
       "    }\n",
       "\n",
       "    .dataframe tbody tr th {\n",
       "        vertical-align: top;\n",
       "    }\n",
       "\n",
       "    .dataframe thead th {\n",
       "        text-align: right;\n",
       "    }\n",
       "</style>\n",
       "<table border=\"1\" class=\"dataframe\">\n",
       "  <thead>\n",
       "    <tr style=\"text-align: right;\">\n",
       "      <th></th>\n",
       "      <th>Customer_Age</th>\n",
       "      <th>Total_Revolving_Bal</th>\n",
       "    </tr>\n",
       "  </thead>\n",
       "  <tbody>\n",
       "    <tr>\n",
       "      <th>count</th>\n",
       "      <td>10127.000000</td>\n",
       "      <td>10127.000000</td>\n",
       "    </tr>\n",
       "    <tr>\n",
       "      <th>mean</th>\n",
       "      <td>46.325960</td>\n",
       "      <td>1162.814061</td>\n",
       "    </tr>\n",
       "    <tr>\n",
       "      <th>std</th>\n",
       "      <td>8.016814</td>\n",
       "      <td>814.987335</td>\n",
       "    </tr>\n",
       "    <tr>\n",
       "      <th>min</th>\n",
       "      <td>26.000000</td>\n",
       "      <td>0.000000</td>\n",
       "    </tr>\n",
       "    <tr>\n",
       "      <th>25%</th>\n",
       "      <td>41.000000</td>\n",
       "      <td>359.000000</td>\n",
       "    </tr>\n",
       "    <tr>\n",
       "      <th>50%</th>\n",
       "      <td>46.000000</td>\n",
       "      <td>1276.000000</td>\n",
       "    </tr>\n",
       "    <tr>\n",
       "      <th>75%</th>\n",
       "      <td>52.000000</td>\n",
       "      <td>1784.000000</td>\n",
       "    </tr>\n",
       "    <tr>\n",
       "      <th>max</th>\n",
       "      <td>73.000000</td>\n",
       "      <td>2517.000000</td>\n",
       "    </tr>\n",
       "  </tbody>\n",
       "</table>\n",
       "</div>"
      ],
      "text/plain": [
       "       Customer_Age  Total_Revolving_Bal\n",
       "count  10127.000000         10127.000000\n",
       "mean      46.325960          1162.814061\n",
       "std        8.016814           814.987335\n",
       "min       26.000000             0.000000\n",
       "25%       41.000000           359.000000\n",
       "50%       46.000000          1276.000000\n",
       "75%       52.000000          1784.000000\n",
       "max       73.000000          2517.000000"
      ]
     },
     "execution_count": 26,
     "metadata": {},
     "output_type": "execute_result"
    }
   ],
   "source": [
    "# Variables Continuas\n",
    "data_clean[continuas].describe()"
   ]
  },
  {
   "cell_type": "code",
   "execution_count": 27,
   "metadata": {},
   "outputs": [],
   "source": [
    "# Buscar normalidad de las variables continuas de forma grafica\n",
    "\n",
    "def plot_density_qq(dataset,var):\n",
    "    '''Esta funcion muestra la grafica de densidad y el plot QQ para verificar normalidad'''\n",
    "    plt.figure(figsize=(15,6))\n",
    "\n",
    "    plt.subplot(1,2,1)\n",
    "    dataset[var].hist(bins=30)\n",
    "\n",
    "    plt.subplot(1,2,2)\n",
    "    stats.probplot(dataset[var],dist='norm',plot=plt)\n",
    "\n",
    "    plt.show()"
   ]
  },
  {
   "cell_type": "code",
   "execution_count": 28,
   "metadata": {},
   "outputs": [
    {
     "name": "stdout",
     "output_type": "stream",
     "text": [
      "Customer_Age\n"
     ]
    },
    {
     "data": {
      "image/png": "[encoded data removed]",
      "text/plain": [
       "<Figure size 1500x600 with 2 Axes>"
      ]
     },
     "metadata": {},
     "output_type": "display_data"
    },
    {
     "name": "stdout",
     "output_type": "stream",
     "text": [
      "Total_Revolving_Bal\n"
     ]
    },
    {
     "data": {
      "image/png": "[encoded data removed]",
      "text/plain": [
       "<Figure size 1500x600 with 2 Axes>"
      ]
     },
     "metadata": {},
     "output_type": "display_data"
    }
   ],
   "source": [
    "for var in continuas:\n",
    "    print(var)\n",
    "    plot_density_qq(data_clean,var)"
   ]
  },
  {
   "cell_type": "markdown",
   "metadata": {},
   "source": [
    "Para poder tratar los outliers, se utilizará el método IQR (Rango inter cuartil). Donde se calcula los rangos Q1 y Q3 de cada columna y se extraen los datos que estén dentro de los valores. Se seleccionan las columnas 'Customer_Age' y 'Total_Revolving_Bal' ya que son las columnas contínuas mientras que las otras columnas son el resultado de codificación de categóricas."
   ]
  },
  {
   "cell_type": "markdown",
   "metadata": {},
   "source": [
    "Método IQR"
   ]
  },
  {
   "cell_type": "code",
   "execution_count": 29,
   "metadata": {},
   "outputs": [
    {
     "name": "stdout",
     "output_type": "stream",
     "text": [
      "Q1 =41.0 Q3=52.0 IQR =11.0 umbral_inferior = 24.5 umbral_superior =68.5\n",
      "Q1 =359.0 Q3=1784.0 IQR =1425.0 umbral_inferior = -1778.5 umbral_superior =3921.5\n"
     ]
    },
    {
     "name": "stderr",
     "output_type": "stream",
     "text": [
      "C:\\Users\\lgutierrez\\AppData\\Local\\Temp\\ipykernel_33648\\3888192489.py:13: SettingWithCopyWarning: \n",
      "A value is trying to be set on a copy of a slice from a DataFrame.\n",
      "Try using .loc[row_indexer,col_indexer] = value instead\n",
      "\n",
      "See the caveats in the documentation: https://pandas.pydata.org/pandas-docs/stable/user_guide/indexing.html#returning-a-view-versus-a-copy\n",
      "  data_clean[col + '_outliers'] = (column < umbral_inferior) | (column > umbral_superior)\n",
      "C:\\Users\\lgutierrez\\AppData\\Local\\Temp\\ipykernel_33648\\3888192489.py:13: SettingWithCopyWarning: \n",
      "A value is trying to be set on a copy of a slice from a DataFrame.\n",
      "Try using .loc[row_indexer,col_indexer] = value instead\n",
      "\n",
      "See the caveats in the documentation: https://pandas.pydata.org/pandas-docs/stable/user_guide/indexing.html#returning-a-view-versus-a-copy\n",
      "  data_clean[col + '_outliers'] = (column < umbral_inferior) | (column > umbral_superior)\n"
     ]
    }
   ],
   "source": [
    "columnas = ['Customer_Age', 'Total_Revolving_Bal']\n",
    "for col in columnas:\n",
    "    column = data_clean[col]\n",
    " \n",
    "    Q1 = column.quantile(0.25)\n",
    "    Q3 = column.quantile(0.75)\n",
    "\n",
    "    IQR = Q3 - Q1\n",
    "    \n",
    "    umbral_inferior = Q1 - 1.5 * IQR\n",
    "    umbral_superior = Q3 + 1.5 * IQR\n",
    "\n",
    "    data_clean[col + '_outliers'] = (column < umbral_inferior) | (column > umbral_superior)\n",
    "\n",
    "    #temp[col + '_outliers'] = ((column < umbral_inferior) | (column > umbral_superior))\n",
    "\n",
    "    print(f'{Q1 =} {Q3=} {IQR =} {umbral_inferior = } {umbral_superior =}')"
   ]
  },
  {
   "cell_type": "markdown",
   "metadata": {},
   "source": [
    "Se observa el dataset data_clean con las columnas indicando los outliers."
   ]
  },
  {
   "cell_type": "code",
   "execution_count": 30,
   "metadata": {},
   "outputs": [
    {
     "data": {
      "text/html": [
       "<div>\n",
       "<style scoped>\n",
       "    .dataframe tbody tr th:only-of-type {\n",
       "        vertical-align: middle;\n",
       "    }\n",
       "\n",
       "    .dataframe tbody tr th {\n",
       "        vertical-align: top;\n",
       "    }\n",
       "\n",
       "    .dataframe thead th {\n",
       "        text-align: right;\n",
       "    }\n",
       "</style>\n",
       "<table border=\"1\" class=\"dataframe\">\n",
       "  <thead>\n",
       "    <tr style=\"text-align: right;\">\n",
       "      <th></th>\n",
       "      <th>Customer_Age</th>\n",
       "      <th>Gender</th>\n",
       "      <th>Card_Category</th>\n",
       "      <th>Total_Revolving_Bal</th>\n",
       "      <th>Customer_Age_outliers</th>\n",
       "      <th>Total_Revolving_Bal_outliers</th>\n",
       "    </tr>\n",
       "  </thead>\n",
       "  <tbody>\n",
       "    <tr>\n",
       "      <th>0</th>\n",
       "      <td>45</td>\n",
       "      <td>1</td>\n",
       "      <td>9436</td>\n",
       "      <td>777</td>\n",
       "      <td>False</td>\n",
       "      <td>False</td>\n",
       "    </tr>\n",
       "    <tr>\n",
       "      <th>1</th>\n",
       "      <td>49</td>\n",
       "      <td>0</td>\n",
       "      <td>9436</td>\n",
       "      <td>864</td>\n",
       "      <td>False</td>\n",
       "      <td>False</td>\n",
       "    </tr>\n",
       "    <tr>\n",
       "      <th>2</th>\n",
       "      <td>51</td>\n",
       "      <td>1</td>\n",
       "      <td>9436</td>\n",
       "      <td>0</td>\n",
       "      <td>False</td>\n",
       "      <td>False</td>\n",
       "    </tr>\n",
       "    <tr>\n",
       "      <th>3</th>\n",
       "      <td>40</td>\n",
       "      <td>0</td>\n",
       "      <td>9436</td>\n",
       "      <td>2517</td>\n",
       "      <td>False</td>\n",
       "      <td>False</td>\n",
       "    </tr>\n",
       "    <tr>\n",
       "      <th>4</th>\n",
       "      <td>40</td>\n",
       "      <td>1</td>\n",
       "      <td>9436</td>\n",
       "      <td>0</td>\n",
       "      <td>False</td>\n",
       "      <td>False</td>\n",
       "    </tr>\n",
       "    <tr>\n",
       "      <th>...</th>\n",
       "      <td>...</td>\n",
       "      <td>...</td>\n",
       "      <td>...</td>\n",
       "      <td>...</td>\n",
       "      <td>...</td>\n",
       "      <td>...</td>\n",
       "    </tr>\n",
       "    <tr>\n",
       "      <th>10122</th>\n",
       "      <td>50</td>\n",
       "      <td>1</td>\n",
       "      <td>9436</td>\n",
       "      <td>1851</td>\n",
       "      <td>False</td>\n",
       "      <td>False</td>\n",
       "    </tr>\n",
       "    <tr>\n",
       "      <th>10123</th>\n",
       "      <td>41</td>\n",
       "      <td>1</td>\n",
       "      <td>9436</td>\n",
       "      <td>2186</td>\n",
       "      <td>False</td>\n",
       "      <td>False</td>\n",
       "    </tr>\n",
       "    <tr>\n",
       "      <th>10124</th>\n",
       "      <td>44</td>\n",
       "      <td>0</td>\n",
       "      <td>9436</td>\n",
       "      <td>0</td>\n",
       "      <td>False</td>\n",
       "      <td>False</td>\n",
       "    </tr>\n",
       "    <tr>\n",
       "      <th>10125</th>\n",
       "      <td>30</td>\n",
       "      <td>1</td>\n",
       "      <td>9436</td>\n",
       "      <td>0</td>\n",
       "      <td>False</td>\n",
       "      <td>False</td>\n",
       "    </tr>\n",
       "    <tr>\n",
       "      <th>10126</th>\n",
       "      <td>43</td>\n",
       "      <td>0</td>\n",
       "      <td>555</td>\n",
       "      <td>1961</td>\n",
       "      <td>False</td>\n",
       "      <td>False</td>\n",
       "    </tr>\n",
       "  </tbody>\n",
       "</table>\n",
       "<p>10127 rows × 6 columns</p>\n",
       "</div>"
      ],
      "text/plain": [
       "       Customer_Age  Gender  Card_Category  Total_Revolving_Bal  \\\n",
       "0                45       1           9436                  777   \n",
       "1                49       0           9436                  864   \n",
       "2                51       1           9436                    0   \n",
       "3                40       0           9436                 2517   \n",
       "4                40       1           9436                    0   \n",
       "...             ...     ...            ...                  ...   \n",
       "10122            50       1           9436                 1851   \n",
       "10123            41       1           9436                 2186   \n",
       "10124            44       0           9436                    0   \n",
       "10125            30       1           9436                    0   \n",
       "10126            43       0            555                 1961   \n",
       "\n",
       "       Customer_Age_outliers  Total_Revolving_Bal_outliers  \n",
       "0                      False                         False  \n",
       "1                      False                         False  \n",
       "2                      False                         False  \n",
       "3                      False                         False  \n",
       "4                      False                         False  \n",
       "...                      ...                           ...  \n",
       "10122                  False                         False  \n",
       "10123                  False                         False  \n",
       "10124                  False                         False  \n",
       "10125                  False                         False  \n",
       "10126                  False                         False  \n",
       "\n",
       "[10127 rows x 6 columns]"
      ]
     },
     "execution_count": 30,
     "metadata": {},
     "output_type": "execute_result"
    }
   ],
   "source": [
    "data_clean"
   ]
  },
  {
   "cell_type": "markdown",
   "metadata": {},
   "source": [
    "Del dataset data_clean, se agrupan los valores de la columna 'Customer_Age_outliers' con el objetivo de determinar la proporción que se tiene"
   ]
  },
  {
   "cell_type": "code",
   "execution_count": 31,
   "metadata": {},
   "outputs": [
    {
     "data": {
      "text/html": [
       "<div>\n",
       "<style scoped>\n",
       "    .dataframe tbody tr th:only-of-type {\n",
       "        vertical-align: middle;\n",
       "    }\n",
       "\n",
       "    .dataframe tbody tr th {\n",
       "        vertical-align: top;\n",
       "    }\n",
       "\n",
       "    .dataframe thead th {\n",
       "        text-align: right;\n",
       "    }\n",
       "</style>\n",
       "<table border=\"1\" class=\"dataframe\">\n",
       "  <thead>\n",
       "    <tr style=\"text-align: right;\">\n",
       "      <th></th>\n",
       "      <th>Customer_Age</th>\n",
       "      <th>Gender</th>\n",
       "      <th>Card_Category</th>\n",
       "      <th>Total_Revolving_Bal</th>\n",
       "      <th>Total_Revolving_Bal_outliers</th>\n",
       "    </tr>\n",
       "    <tr>\n",
       "      <th>Customer_Age_outliers</th>\n",
       "      <th></th>\n",
       "      <th></th>\n",
       "      <th></th>\n",
       "      <th></th>\n",
       "      <th></th>\n",
       "    </tr>\n",
       "  </thead>\n",
       "  <tbody>\n",
       "    <tr>\n",
       "      <th>False</th>\n",
       "      <td>10125</td>\n",
       "      <td>10125</td>\n",
       "      <td>10125</td>\n",
       "      <td>10125</td>\n",
       "      <td>10125</td>\n",
       "    </tr>\n",
       "    <tr>\n",
       "      <th>True</th>\n",
       "      <td>2</td>\n",
       "      <td>2</td>\n",
       "      <td>2</td>\n",
       "      <td>2</td>\n",
       "      <td>2</td>\n",
       "    </tr>\n",
       "  </tbody>\n",
       "</table>\n",
       "</div>"
      ],
      "text/plain": [
       "                       Customer_Age  Gender  Card_Category  \\\n",
       "Customer_Age_outliers                                        \n",
       "False                         10125   10125          10125   \n",
       "True                              2       2              2   \n",
       "\n",
       "                       Total_Revolving_Bal  Total_Revolving_Bal_outliers  \n",
       "Customer_Age_outliers                                                     \n",
       "False                                10125                         10125  \n",
       "True                                     2                             2  "
      ]
     },
     "execution_count": 31,
     "metadata": {},
     "output_type": "execute_result"
    }
   ],
   "source": [
    "data_clean.groupby(by='Customer_Age_outliers').count()"
   ]
  },
  {
   "cell_type": "markdown",
   "metadata": {},
   "source": [
    "Del dataset data_clean, se agrupan los valores de la columna 'Total_Revolving_Bal_outliers' con el objetivo de determinar la proporción que se tiene. "
   ]
  },
  {
   "cell_type": "code",
   "execution_count": 32,
   "metadata": {},
   "outputs": [
    {
     "data": {
      "text/html": [
       "<div>\n",
       "<style scoped>\n",
       "    .dataframe tbody tr th:only-of-type {\n",
       "        vertical-align: middle;\n",
       "    }\n",
       "\n",
       "    .dataframe tbody tr th {\n",
       "        vertical-align: top;\n",
       "    }\n",
       "\n",
       "    .dataframe thead th {\n",
       "        text-align: right;\n",
       "    }\n",
       "</style>\n",
       "<table border=\"1\" class=\"dataframe\">\n",
       "  <thead>\n",
       "    <tr style=\"text-align: right;\">\n",
       "      <th></th>\n",
       "      <th>Customer_Age</th>\n",
       "      <th>Gender</th>\n",
       "      <th>Card_Category</th>\n",
       "      <th>Total_Revolving_Bal</th>\n",
       "      <th>Customer_Age_outliers</th>\n",
       "    </tr>\n",
       "    <tr>\n",
       "      <th>Total_Revolving_Bal_outliers</th>\n",
       "      <th></th>\n",
       "      <th></th>\n",
       "      <th></th>\n",
       "      <th></th>\n",
       "      <th></th>\n",
       "    </tr>\n",
       "  </thead>\n",
       "  <tbody>\n",
       "    <tr>\n",
       "      <th>False</th>\n",
       "      <td>10127</td>\n",
       "      <td>10127</td>\n",
       "      <td>10127</td>\n",
       "      <td>10127</td>\n",
       "      <td>10127</td>\n",
       "    </tr>\n",
       "  </tbody>\n",
       "</table>\n",
       "</div>"
      ],
      "text/plain": [
       "                              Customer_Age  Gender  Card_Category  \\\n",
       "Total_Revolving_Bal_outliers                                        \n",
       "False                                10127   10127          10127   \n",
       "\n",
       "                              Total_Revolving_Bal  Customer_Age_outliers  \n",
       "Total_Revolving_Bal_outliers                                              \n",
       "False                                       10127                  10127  "
      ]
     },
     "execution_count": 32,
     "metadata": {},
     "output_type": "execute_result"
    }
   ],
   "source": [
    "data_clean.groupby(by='Total_Revolving_Bal_outliers').count()"
   ]
  },
  {
   "cell_type": "markdown",
   "metadata": {},
   "source": [
    "Se crea un dataframe sin Outliers"
   ]
  },
  {
   "cell_type": "code",
   "execution_count": 33,
   "metadata": {},
   "outputs": [
    {
     "data": {
      "text/html": [
       "<div>\n",
       "<style scoped>\n",
       "    .dataframe tbody tr th:only-of-type {\n",
       "        vertical-align: middle;\n",
       "    }\n",
       "\n",
       "    .dataframe tbody tr th {\n",
       "        vertical-align: top;\n",
       "    }\n",
       "\n",
       "    .dataframe thead th {\n",
       "        text-align: right;\n",
       "    }\n",
       "</style>\n",
       "<table border=\"1\" class=\"dataframe\">\n",
       "  <thead>\n",
       "    <tr style=\"text-align: right;\">\n",
       "      <th></th>\n",
       "      <th>Customer_Age</th>\n",
       "      <th>Gender</th>\n",
       "      <th>Card_Category</th>\n",
       "      <th>Total_Revolving_Bal</th>\n",
       "      <th>Customer_Age_outliers</th>\n",
       "      <th>Total_Revolving_Bal_outliers</th>\n",
       "    </tr>\n",
       "  </thead>\n",
       "  <tbody>\n",
       "    <tr>\n",
       "      <th>0</th>\n",
       "      <td>45</td>\n",
       "      <td>1</td>\n",
       "      <td>9436</td>\n",
       "      <td>777</td>\n",
       "      <td>False</td>\n",
       "      <td>False</td>\n",
       "    </tr>\n",
       "    <tr>\n",
       "      <th>1</th>\n",
       "      <td>49</td>\n",
       "      <td>0</td>\n",
       "      <td>9436</td>\n",
       "      <td>864</td>\n",
       "      <td>False</td>\n",
       "      <td>False</td>\n",
       "    </tr>\n",
       "    <tr>\n",
       "      <th>2</th>\n",
       "      <td>51</td>\n",
       "      <td>1</td>\n",
       "      <td>9436</td>\n",
       "      <td>0</td>\n",
       "      <td>False</td>\n",
       "      <td>False</td>\n",
       "    </tr>\n",
       "    <tr>\n",
       "      <th>3</th>\n",
       "      <td>40</td>\n",
       "      <td>0</td>\n",
       "      <td>9436</td>\n",
       "      <td>2517</td>\n",
       "      <td>False</td>\n",
       "      <td>False</td>\n",
       "    </tr>\n",
       "    <tr>\n",
       "      <th>4</th>\n",
       "      <td>40</td>\n",
       "      <td>1</td>\n",
       "      <td>9436</td>\n",
       "      <td>0</td>\n",
       "      <td>False</td>\n",
       "      <td>False</td>\n",
       "    </tr>\n",
       "    <tr>\n",
       "      <th>...</th>\n",
       "      <td>...</td>\n",
       "      <td>...</td>\n",
       "      <td>...</td>\n",
       "      <td>...</td>\n",
       "      <td>...</td>\n",
       "      <td>...</td>\n",
       "    </tr>\n",
       "    <tr>\n",
       "      <th>10120</th>\n",
       "      <td>50</td>\n",
       "      <td>1</td>\n",
       "      <td>9436</td>\n",
       "      <td>1851</td>\n",
       "      <td>False</td>\n",
       "      <td>False</td>\n",
       "    </tr>\n",
       "    <tr>\n",
       "      <th>10121</th>\n",
       "      <td>41</td>\n",
       "      <td>1</td>\n",
       "      <td>9436</td>\n",
       "      <td>2186</td>\n",
       "      <td>False</td>\n",
       "      <td>False</td>\n",
       "    </tr>\n",
       "    <tr>\n",
       "      <th>10122</th>\n",
       "      <td>44</td>\n",
       "      <td>0</td>\n",
       "      <td>9436</td>\n",
       "      <td>0</td>\n",
       "      <td>False</td>\n",
       "      <td>False</td>\n",
       "    </tr>\n",
       "    <tr>\n",
       "      <th>10123</th>\n",
       "      <td>30</td>\n",
       "      <td>1</td>\n",
       "      <td>9436</td>\n",
       "      <td>0</td>\n",
       "      <td>False</td>\n",
       "      <td>False</td>\n",
       "    </tr>\n",
       "    <tr>\n",
       "      <th>10124</th>\n",
       "      <td>43</td>\n",
       "      <td>0</td>\n",
       "      <td>555</td>\n",
       "      <td>1961</td>\n",
       "      <td>False</td>\n",
       "      <td>False</td>\n",
       "    </tr>\n",
       "  </tbody>\n",
       "</table>\n",
       "<p>10125 rows × 6 columns</p>\n",
       "</div>"
      ],
      "text/plain": [
       "       Customer_Age  Gender  Card_Category  Total_Revolving_Bal  \\\n",
       "0                45       1           9436                  777   \n",
       "1                49       0           9436                  864   \n",
       "2                51       1           9436                    0   \n",
       "3                40       0           9436                 2517   \n",
       "4                40       1           9436                    0   \n",
       "...             ...     ...            ...                  ...   \n",
       "10120            50       1           9436                 1851   \n",
       "10121            41       1           9436                 2186   \n",
       "10122            44       0           9436                    0   \n",
       "10123            30       1           9436                    0   \n",
       "10124            43       0            555                 1961   \n",
       "\n",
       "       Customer_Age_outliers  Total_Revolving_Bal_outliers  \n",
       "0                      False                         False  \n",
       "1                      False                         False  \n",
       "2                      False                         False  \n",
       "3                      False                         False  \n",
       "4                      False                         False  \n",
       "...                      ...                           ...  \n",
       "10120                  False                         False  \n",
       "10121                  False                         False  \n",
       "10122                  False                         False  \n",
       "10123                  False                         False  \n",
       "10124                  False                         False  \n",
       "\n",
       "[10125 rows x 6 columns]"
      ]
     },
     "execution_count": 33,
     "metadata": {},
     "output_type": "execute_result"
    }
   ],
   "source": [
    "data_noout =  data_clean[data_clean['Customer_Age_outliers'] == False]\n",
    "data_noout = data_noout[data_noout['Total_Revolving_Bal_outliers'] == False]\n",
    "data_noout.reset_index(drop=True)"
   ]
  },
  {
   "cell_type": "markdown",
   "metadata": {},
   "source": [
    "Se valida la estructura y estadísticas del DataFrame nuevo"
   ]
  },
  {
   "cell_type": "code",
   "execution_count": 34,
   "metadata": {},
   "outputs": [
    {
     "data": {
      "text/html": [
       "<div>\n",
       "<style scoped>\n",
       "    .dataframe tbody tr th:only-of-type {\n",
       "        vertical-align: middle;\n",
       "    }\n",
       "\n",
       "    .dataframe tbody tr th {\n",
       "        vertical-align: top;\n",
       "    }\n",
       "\n",
       "    .dataframe thead th {\n",
       "        text-align: right;\n",
       "    }\n",
       "</style>\n",
       "<table border=\"1\" class=\"dataframe\">\n",
       "  <thead>\n",
       "    <tr style=\"text-align: right;\">\n",
       "      <th></th>\n",
       "      <th>Customer_Age</th>\n",
       "      <th>Gender</th>\n",
       "      <th>Card_Category</th>\n",
       "      <th>Total_Revolving_Bal</th>\n",
       "    </tr>\n",
       "  </thead>\n",
       "  <tbody>\n",
       "    <tr>\n",
       "      <th>count</th>\n",
       "      <td>10125.000000</td>\n",
       "      <td>10125.000000</td>\n",
       "      <td>10125.000000</td>\n",
       "      <td>10125.000000</td>\n",
       "    </tr>\n",
       "    <tr>\n",
       "      <th>mean</th>\n",
       "      <td>46.320988</td>\n",
       "      <td>0.470815</td>\n",
       "      <td>8823.812840</td>\n",
       "      <td>1162.784988</td>\n",
       "    </tr>\n",
       "    <tr>\n",
       "      <th>std</th>\n",
       "      <td>8.009765</td>\n",
       "      <td>0.499172</td>\n",
       "      <td>2262.607486</td>\n",
       "      <td>815.061058</td>\n",
       "    </tr>\n",
       "    <tr>\n",
       "      <th>min</th>\n",
       "      <td>26.000000</td>\n",
       "      <td>0.000000</td>\n",
       "      <td>20.000000</td>\n",
       "      <td>0.000000</td>\n",
       "    </tr>\n",
       "    <tr>\n",
       "      <th>25%</th>\n",
       "      <td>41.000000</td>\n",
       "      <td>0.000000</td>\n",
       "      <td>9436.000000</td>\n",
       "      <td>357.000000</td>\n",
       "    </tr>\n",
       "    <tr>\n",
       "      <th>50%</th>\n",
       "      <td>46.000000</td>\n",
       "      <td>0.000000</td>\n",
       "      <td>9436.000000</td>\n",
       "      <td>1276.000000</td>\n",
       "    </tr>\n",
       "    <tr>\n",
       "      <th>75%</th>\n",
       "      <td>52.000000</td>\n",
       "      <td>1.000000</td>\n",
       "      <td>9436.000000</td>\n",
       "      <td>1784.000000</td>\n",
       "    </tr>\n",
       "    <tr>\n",
       "      <th>max</th>\n",
       "      <td>68.000000</td>\n",
       "      <td>1.000000</td>\n",
       "      <td>9436.000000</td>\n",
       "      <td>2517.000000</td>\n",
       "    </tr>\n",
       "  </tbody>\n",
       "</table>\n",
       "</div>"
      ],
      "text/plain": [
       "       Customer_Age        Gender  Card_Category  Total_Revolving_Bal\n",
       "count  10125.000000  10125.000000   10125.000000         10125.000000\n",
       "mean      46.320988      0.470815    8823.812840          1162.784988\n",
       "std        8.009765      0.499172    2262.607486           815.061058\n",
       "min       26.000000      0.000000      20.000000             0.000000\n",
       "25%       41.000000      0.000000    9436.000000           357.000000\n",
       "50%       46.000000      0.000000    9436.000000          1276.000000\n",
       "75%       52.000000      1.000000    9436.000000          1784.000000\n",
       "max       68.000000      1.000000    9436.000000          2517.000000"
      ]
     },
     "execution_count": 34,
     "metadata": {},
     "output_type": "execute_result"
    }
   ],
   "source": [
    "data_noout.describe()"
   ]
  },
  {
   "cell_type": "markdown",
   "metadata": {},
   "source": [
    "Se grafica la columna 'Customer_Age' sin outliers"
   ]
  },
  {
   "cell_type": "code",
   "execution_count": 35,
   "metadata": {},
   "outputs": [
    {
     "data": {
      "text/plain": [
       "<Axes: xlabel='Customer_Age', ylabel='Count'>"
      ]
     },
     "execution_count": 35,
     "metadata": {},
     "output_type": "execute_result"
    },
    {
     "data": {
      "image/png": "[encoded data removed]",
      "text/plain": [
       "<Figure size 640x480 with 1 Axes>"
      ]
     },
     "metadata": {},
     "output_type": "display_data"
    }
   ],
   "source": [
    "sns.histplot(data=data_noout, x='Customer_Age')"
   ]
  },
  {
   "cell_type": "markdown",
   "metadata": {},
   "source": [
    "Se grafica la columna 'Total_Revolving_Bal' sin outliers"
   ]
  },
  {
   "cell_type": "code",
   "execution_count": 36,
   "metadata": {},
   "outputs": [
    {
     "data": {
      "text/plain": [
       "<Axes: xlabel='Total_Revolving_Bal', ylabel='Count'>"
      ]
     },
     "execution_count": 36,
     "metadata": {},
     "output_type": "execute_result"
    },
    {
     "data": {
      "image/png": "[encoded data removed]",
      "text/plain": [
       "<Figure size 640x480 with 1 Axes>"
      ]
     },
     "metadata": {},
     "output_type": "display_data"
    }
   ],
   "source": [
    "sns.histplot(data=data_noout, x = 'Total_Revolving_Bal')"
   ]
  },
  {
   "cell_type": "markdown",
   "metadata": {},
   "source": [
    "Se grafica la columna 'Gender' sin outliers"
   ]
  },
  {
   "cell_type": "code",
   "execution_count": 37,
   "metadata": {},
   "outputs": [
    {
     "data": {
      "text/plain": [
       "<Axes: xlabel='Gender', ylabel='Count'>"
      ]
     },
     "execution_count": 37,
     "metadata": {},
     "output_type": "execute_result"
    },
    {
     "data": {
      "image/png": "[encoded data removed]",
      "text/plain": [
       "<Figure size 640x480 with 1 Axes>"
      ]
     },
     "metadata": {},
     "output_type": "display_data"
    }
   ],
   "source": [
    "sns.histplot(data=data_noout, x='Gender')"
   ]
  },
  {
   "cell_type": "markdown",
   "metadata": {},
   "source": [
    "Se grafica la columna 'Card_Category' sin outliers"
   ]
  },
  {
   "cell_type": "code",
   "execution_count": 38,
   "metadata": {},
   "outputs": [
    {
     "data": {
      "text/plain": [
       "<Axes: xlabel='Card_Category', ylabel='Count'>"
      ]
     },
     "execution_count": 38,
     "metadata": {},
     "output_type": "execute_result"
    },
    {
     "data": {
      "image/png": "[encoded data removed]",
      "text/plain": [
       "<Figure size 640x480 with 1 Axes>"
      ]
     },
     "metadata": {},
     "output_type": "display_data"
    }
   ],
   "source": [
    "sns.histplot(data=data_noout, x='Card_Category')"
   ]
  },
  {
   "cell_type": "markdown",
   "metadata": {},
   "source": [
    "Del dataset data_clean, se agrupan los valores de la columna 'Customer_Age_outliers' con el objetivo de determinar la proporción que se tiene"
   ]
  },
  {
   "cell_type": "code",
   "execution_count": 39,
   "metadata": {},
   "outputs": [
    {
     "data": {
      "text/html": [
       "<div>\n",
       "<style scoped>\n",
       "    .dataframe tbody tr th:only-of-type {\n",
       "        vertical-align: middle;\n",
       "    }\n",
       "\n",
       "    .dataframe tbody tr th {\n",
       "        vertical-align: top;\n",
       "    }\n",
       "\n",
       "    .dataframe thead th {\n",
       "        text-align: right;\n",
       "    }\n",
       "</style>\n",
       "<table border=\"1\" class=\"dataframe\">\n",
       "  <thead>\n",
       "    <tr style=\"text-align: right;\">\n",
       "      <th></th>\n",
       "      <th>Customer_Age</th>\n",
       "      <th>Gender</th>\n",
       "      <th>Card_Category</th>\n",
       "      <th>Total_Revolving_Bal</th>\n",
       "      <th>Total_Revolving_Bal_outliers</th>\n",
       "    </tr>\n",
       "    <tr>\n",
       "      <th>Customer_Age_outliers</th>\n",
       "      <th></th>\n",
       "      <th></th>\n",
       "      <th></th>\n",
       "      <th></th>\n",
       "      <th></th>\n",
       "    </tr>\n",
       "  </thead>\n",
       "  <tbody>\n",
       "    <tr>\n",
       "      <th>False</th>\n",
       "      <td>10125</td>\n",
       "      <td>10125</td>\n",
       "      <td>10125</td>\n",
       "      <td>10125</td>\n",
       "      <td>10125</td>\n",
       "    </tr>\n",
       "    <tr>\n",
       "      <th>True</th>\n",
       "      <td>2</td>\n",
       "      <td>2</td>\n",
       "      <td>2</td>\n",
       "      <td>2</td>\n",
       "      <td>2</td>\n",
       "    </tr>\n",
       "  </tbody>\n",
       "</table>\n",
       "</div>"
      ],
      "text/plain": [
       "                       Customer_Age  Gender  Card_Category  \\\n",
       "Customer_Age_outliers                                        \n",
       "False                         10125   10125          10125   \n",
       "True                              2       2              2   \n",
       "\n",
       "                       Total_Revolving_Bal  Total_Revolving_Bal_outliers  \n",
       "Customer_Age_outliers                                                     \n",
       "False                                10125                         10125  \n",
       "True                                     2                             2  "
      ]
     },
     "execution_count": 39,
     "metadata": {},
     "output_type": "execute_result"
    }
   ],
   "source": [
    "data_clean.groupby(by='Customer_Age_outliers').count()"
   ]
  },
  {
   "cell_type": "markdown",
   "metadata": {},
   "source": [
    "Del dataset data_clean, se agrupan los valores de la columna 'Total_Revolving_Bal_outliers' con el objetivo de determinar la proporción que se tiene"
   ]
  },
  {
   "cell_type": "code",
   "execution_count": 40,
   "metadata": {},
   "outputs": [
    {
     "data": {
      "text/html": [
       "<div>\n",
       "<style scoped>\n",
       "    .dataframe tbody tr th:only-of-type {\n",
       "        vertical-align: middle;\n",
       "    }\n",
       "\n",
       "    .dataframe tbody tr th {\n",
       "        vertical-align: top;\n",
       "    }\n",
       "\n",
       "    .dataframe thead th {\n",
       "        text-align: right;\n",
       "    }\n",
       "</style>\n",
       "<table border=\"1\" class=\"dataframe\">\n",
       "  <thead>\n",
       "    <tr style=\"text-align: right;\">\n",
       "      <th></th>\n",
       "      <th>Customer_Age</th>\n",
       "      <th>Gender</th>\n",
       "      <th>Card_Category</th>\n",
       "      <th>Total_Revolving_Bal</th>\n",
       "      <th>Customer_Age_outliers</th>\n",
       "    </tr>\n",
       "    <tr>\n",
       "      <th>Total_Revolving_Bal_outliers</th>\n",
       "      <th></th>\n",
       "      <th></th>\n",
       "      <th></th>\n",
       "      <th></th>\n",
       "      <th></th>\n",
       "    </tr>\n",
       "  </thead>\n",
       "  <tbody>\n",
       "    <tr>\n",
       "      <th>False</th>\n",
       "      <td>10127</td>\n",
       "      <td>10127</td>\n",
       "      <td>10127</td>\n",
       "      <td>10127</td>\n",
       "      <td>10127</td>\n",
       "    </tr>\n",
       "  </tbody>\n",
       "</table>\n",
       "</div>"
      ],
      "text/plain": [
       "                              Customer_Age  Gender  Card_Category  \\\n",
       "Total_Revolving_Bal_outliers                                        \n",
       "False                                10127   10127          10127   \n",
       "\n",
       "                              Total_Revolving_Bal  Customer_Age_outliers  \n",
       "Total_Revolving_Bal_outliers                                              \n",
       "False                                       10127                  10127  "
      ]
     },
     "execution_count": 40,
     "metadata": {},
     "output_type": "execute_result"
    }
   ],
   "source": [
    "data_clean.groupby(by = \"Total_Revolving_Bal_outliers\").count()"
   ]
  },
  {
   "cell_type": "markdown",
   "metadata": {},
   "source": [
    "De la librería sklearn.preprocessing, se extrae el módulo power_transform para normalizar los datos."
   ]
  },
  {
   "cell_type": "code",
   "execution_count": 41,
   "metadata": {},
   "outputs": [],
   "source": [
    "from sklearn.preprocessing import power_transform"
   ]
  },
  {
   "cell_type": "markdown",
   "metadata": {},
   "source": [
    "Se valida el dataset data_noout, el cual no tiene outliers"
   ]
  },
  {
   "cell_type": "code",
   "execution_count": 42,
   "metadata": {},
   "outputs": [
    {
     "data": {
      "text/html": [
       "<style type=\"text/css\">\n",
       "#T_bad0d thead>tr>th {\n",
       "  text-align: left;\n",
       "}\n",
       "#T_bad0d_row0_col0, #T_bad0d_row1_col0, #T_bad0d_row2_col0, #T_bad0d_row3_col0, #T_bad0d_row4_col0, #T_bad0d_row5_col0 {\n",
       "  text-align: left;\n",
       "  font-size: 12px;\n",
       "  vertical-align: middle;\n",
       "  width: 5%;\n",
       "  max-width: 50px;\n",
       "  min-width: 20px;\n",
       "}\n",
       "#T_bad0d_row0_col1, #T_bad0d_row1_col1, #T_bad0d_row2_col1, #T_bad0d_row3_col1, #T_bad0d_row4_col1, #T_bad0d_row5_col1 {\n",
       "  text-align: left;\n",
       "  font-size: 12px;\n",
       "  vertical-align: middle;\n",
       "  width: 15%;\n",
       "  max-width: 200px;\n",
       "  min-width: 100px;\n",
       "  word-break: break-word;\n",
       "}\n",
       "#T_bad0d_row0_col2, #T_bad0d_row1_col2, #T_bad0d_row2_col2, #T_bad0d_row3_col2, #T_bad0d_row4_col2, #T_bad0d_row5_col2 {\n",
       "  text-align: left;\n",
       "  font-size: 12px;\n",
       "  vertical-align: middle;\n",
       "  width: 30%;\n",
       "  min-width: 100px;\n",
       "}\n",
       "#T_bad0d_row0_col3, #T_bad0d_row1_col3, #T_bad0d_row2_col3, #T_bad0d_row3_col3, #T_bad0d_row4_col3, #T_bad0d_row5_col3 {\n",
       "  text-align: left;\n",
       "  font-size: 12px;\n",
       "  vertical-align: middle;\n",
       "  width: 25%;\n",
       "  min-width: 100px;\n",
       "}\n",
       "#T_bad0d_row0_col4, #T_bad0d_row1_col4, #T_bad0d_row2_col4, #T_bad0d_row3_col4, #T_bad0d_row4_col4, #T_bad0d_row5_col4 {\n",
       "  text-align: left;\n",
       "  font-size: 12px;\n",
       "  vertical-align: middle;\n",
       "  width: 20%;\n",
       "  min-width: 150px;\n",
       "}\n",
       "#T_bad0d_row0_col5, #T_bad0d_row1_col5, #T_bad0d_row2_col5, #T_bad0d_row3_col5, #T_bad0d_row4_col5, #T_bad0d_row5_col5 {\n",
       "  text-align: left;\n",
       "  font-size: 12px;\n",
       "  vertical-align: middle;\n",
       "  width: 10%;\n",
       "}\n",
       "</style>\n",
       "<table id=\"T_bad0d\">\n",
       "  <caption><strong>Data Frame Summary</strong><br>data_noout<br>Dimensions: 10,125 x 6<br>Duplicates: 2,901</caption>\n",
       "  <thead>\n",
       "    <tr>\n",
       "      <th id=\"T_bad0d_level0_col0\" class=\"col_heading level0 col0\" >No</th>\n",
       "      <th id=\"T_bad0d_level0_col1\" class=\"col_heading level0 col1\" >Variable</th>\n",
       "      <th id=\"T_bad0d_level0_col2\" class=\"col_heading level0 col2\" >Stats / Values</th>\n",
       "      <th id=\"T_bad0d_level0_col3\" class=\"col_heading level0 col3\" >Freqs / (% of Valid)</th>\n",
       "      <th id=\"T_bad0d_level0_col4\" class=\"col_heading level0 col4\" >Graph</th>\n",
       "      <th id=\"T_bad0d_level0_col5\" class=\"col_heading level0 col5\" >Missing</th>\n",
       "    </tr>\n",
       "  </thead>\n",
       "  <tbody>\n",
       "    <tr>\n",
       "      <td id=\"T_bad0d_row0_col0\" class=\"data row0 col0\" >1</td>\n",
       "      <td id=\"T_bad0d_row0_col1\" class=\"data row0 col1\" ><strong>Customer_Age</strong><br>[int64]</td>\n",
       "      <td id=\"T_bad0d_row0_col2\" class=\"data row0 col2\" >Mean (sd) : 46.3 (8.0)<br>min < med < max:<br>26.0 < 46.0 < 68.0<br>IQR (CV) : 11.0 (5.8)</td>\n",
       "      <td id=\"T_bad0d_row0_col3\" class=\"data row0 col3\" >43 distinct values</td>\n",
       "      <td id=\"T_bad0d_row0_col4\" class=\"data row0 col4\" ><img src = \"data:image/png;base64, iVBORw0KGgoAAAANSUhEUgAAAKoAAABGCAYAAABc8A97AAAAOXRFWHRTb2Z0d2FyZQBNYXRwbG90bGliIHZlcnNpb24zLjcuMCwgaHR0cHM6Ly9tYXRwbG90bGliLm9yZy88F64QAAAACXBIWXMAAA9hAAAPYQGoP6dpAAACkklEQVR4nO3cQYriQBSA4VdjK1EhQQTdeYGBWbj0EHPYOcIsPIE3cCeIREx3MMb0ohlwwOnWpDK+V/7fPt1Z/AQrqXquqioBtPv26BsAbvHy6BsIkXOuLyK9mpcfq6p683k/ISBUz5xz/fF4/DOO41Gd6/f7/c4594tY/0ao/vXiOB4tFou3JEnyey5M0zRaLpej7XbbExFCvUCoLUmSJJ9MJq81Lu17v5kAsJiCCYQKEwgVJhAqTCBUmECoMIHXU//Q4OtSfD6fu77v59kR6hVNvi4VRRGVZfk9z/PfIlLnPSquINTran9dWq/Xo9VqNTidTp22bu4ZEeon6nxd2u12fFlqAYspmECoMIFQYQKhwgRChQmEChMIFSYQKkwgVJgQ7JephkeW2ViiTJChNj2yzMYSfYIMVRpsKhFhY4lGoYYqIvWPLLOxRB8WUzAh6CeqRWVZdkUkds7V/RNBzq4iVEWyLOsWRfFjNpt1Op3O3b+tRcKdXUWoihyPx5coigbz+TyfTqe7e68PeXYVoSo0HA7rzq0SCXR2FYspmECoMIFQYQKhwgRChQmEChMIFSaofo/KoDL8oTZUBpXhktpQhUFluKA5VBFhUBk+sJiCCeqfqLhPw/2saveyEmpAmu5n1byXlVAD0mQ/q/a9rIQaoAb7WdUuQllMwQRChQmEChMIFSYQKkxoddXPRD340lqoTNSDT20+UZmoB29af+HPRD07NM+94ssURET/3CtChYjon3v1ZaicW3ouWudefRoq55agxVdPVM4tQYWbfqNybgmPxmIK3rR5DIZQ4UXbx2AIFV60fQyGUOFVW8dgbgo1TdPo3v96OBwiEZEsy6LNZjP4n9db/d9W77vp9bf09Q5UlrL3VjKVBgAAAABJRU5ErkJggg==\"></img></td>\n",
       "      <td id=\"T_bad0d_row0_col5\" class=\"data row0 col5\" >0<br>(0.0%)</td>\n",
       "    </tr>\n",
       "    <tr>\n",
       "      <td id=\"T_bad0d_row1_col0\" class=\"data row1 col0\" >2</td>\n",
       "      <td id=\"T_bad0d_row1_col1\" class=\"data row1 col1\" ><strong>Gender</strong><br>[uint8]</td>\n",
       "      <td id=\"T_bad0d_row1_col2\" class=\"data row1 col2\" >Mean (sd) : 0.5 (0.5)<br>min < med < max:<br>0.0 < 0.0 < 1.0<br>IQR (CV) : 1.0 (0.9)</td>\n",
       "      <td id=\"T_bad0d_row1_col3\" class=\"data row1 col3\" >2 distinct values</td>\n",
       "      <td id=\"T_bad0d_row1_col4\" class=\"data row1 col4\" ><img src = \"data:image/png;base64, iVBORw0KGgoAAAANSUhEUgAAAKoAAABGCAYAAABc8A97AAAAOXRFWHRTb2Z0d2FyZQBNYXRwbG90bGliIHZlcnNpb24zLjcuMCwgaHR0cHM6Ly9tYXRwbG90bGliLm9yZy88F64QAAAACXBIWXMAAA9hAAAPYQGoP6dpAAABfElEQVR4nO3YQWoCMRiG4aQMopsZRPAwHqKH7SG8jZS4qFLQ6a6bQtVRaT94nnXyk8XLDEkdx7HAf/fy1weAa3SXFtRaF6WU2cT5n+M4HibuhW+/hlprXaxWq9e+75dThu/3+/da65tYudelL+qs7/vlZrM5DMNwvGVwa22+3W6Xu91uVkoRKne5+OsvpZRhGI7r9fpjwvzFhD3wg8sUEYRKBKESQahEuOoyBdd45pu7UHmIZ7+5C5VHeeqbu1B5qGe9ubtMEUGoRBAqEYRKBKESQahEECoRhEoEoRJBqEQQKhGESgShEkGoRBAqEYRKBKESQahEECoRhEoEoRJBqEQQKhGESgShEkGoRBAqEYRKBKESQahEECoRhEoEoRJBqEQQKhGESgShEkGoRBAqEYRKBKESQahEECoRhEoEoRJBqEQQKhGESgShEkGoRBAqEYRKBKESQahEECoRumsWtdbmtw5urc1Pp1NXSulrrTcfjDj9+XzuprZyac0X2T9OfRBqyPoAAAAASUVORK5CYII=\"></img></td>\n",
       "      <td id=\"T_bad0d_row1_col5\" class=\"data row1 col5\" >0<br>(0.0%)</td>\n",
       "    </tr>\n",
       "    <tr>\n",
       "      <td id=\"T_bad0d_row2_col0\" class=\"data row2 col0\" >3</td>\n",
       "      <td id=\"T_bad0d_row2_col1\" class=\"data row2 col1\" ><strong>Card_Category</strong><br>[int64]</td>\n",
       "      <td id=\"T_bad0d_row2_col2\" class=\"data row2 col2\" >Mean (sd) : 8823.8 (2262.6)<br>min < med < max:<br>20.0 < 9436.0 < 9436.0<br>IQR (CV) : 0.0 (3.9)</td>\n",
       "      <td id=\"T_bad0d_row2_col3\" class=\"data row2 col3\" >4 distinct values</td>\n",
       "      <td id=\"T_bad0d_row2_col4\" class=\"data row2 col4\" ><img src = \"data:image/png;base64, iVBORw0KGgoAAAANSUhEUgAAAKoAAABGCAYAAABc8A97AAAAOXRFWHRTb2Z0d2FyZQBNYXRwbG90bGliIHZlcnNpb24zLjcuMCwgaHR0cHM6Ly9tYXRwbG90bGliLm9yZy88F64QAAAACXBIWXMAAA9hAAAPYQGoP6dpAAABtUlEQVR4nO3XTYqDQBCG4apBRDfdiOBhPEQOm0N4GwntIkog6dnNZpj8dDJkvuF9tlpFL15a9JyzAX/dx7sPANyjevcB8H+4e2tmdeH4Kee8/vSQUPES7t72fb8LIXQl88uyHNx9/1OshIpXqUMI3TiOa4xxe2QwpdRM09TN81ybGaHi98UYt2EYjgWj7bWH/ExBAqFCAqFCAqFCAqFCAqFCAqFCAqFCAqFCAqFCAqFCAqFCAqFCAqFCAqFCAqFCAqFCAqFCAqFCAqFCAqFCAqFCAqFCAqFCAqFCAqFCAqFCAqFCAqFCAqFCAqFCAqFCAqFCAqFCAqFCAqFCAqFCAqFCAqFCAqFCAqFCAqFCAqFCAqFCAqFCAqFCAqFCAqFCAqFCAqFCAqFCAqFCAqFCAqFCAqFCAqFCAqFCAqFCQnXrBXdvzawu3H/KOa+Fs8CXq6G6e9v3/S6E0JUsX5bl4O57YsWzbt2odQihG8dxjTFujyxOKTXTNHXzPNdmRqh4ys1Pv5lZjHEbhuFYsL8tmAG+4WcKEu66UVNKzaOLU0rN+XyuzCy4+8MHg5xwuVyq0lZuvfMJD+JOfTNZZYEAAAAASUVORK5CYII=\"></img></td>\n",
       "      <td id=\"T_bad0d_row2_col5\" class=\"data row2 col5\" >0<br>(0.0%)</td>\n",
       "    </tr>\n",
       "    <tr>\n",
       "      <td id=\"T_bad0d_row3_col0\" class=\"data row3 col0\" >4</td>\n",
       "      <td id=\"T_bad0d_row3_col1\" class=\"data row3 col1\" ><strong>Total_Revolving_Bal</strong><br>[int64]</td>\n",
       "      <td id=\"T_bad0d_row3_col2\" class=\"data row3 col2\" >Mean (sd) : 1162.8 (815.1)<br>min < med < max:<br>0.0 < 1276.0 < 2517.0<br>IQR (CV) : 1427.0 (1.4)</td>\n",
       "      <td id=\"T_bad0d_row3_col3\" class=\"data row3 col3\" >1,974 distinct values</td>\n",
       "      <td id=\"T_bad0d_row3_col4\" class=\"data row3 col4\" ><img src = \"data:image/png;base64, iVBORw0KGgoAAAANSUhEUgAAAKoAAABGCAYAAABc8A97AAAAOXRFWHRTb2Z0d2FyZQBNYXRwbG90bGliIHZlcnNpb24zLjcuMCwgaHR0cHM6Ly9tYXRwbG90bGliLm9yZy88F64QAAAACXBIWXMAAA9hAAAPYQGoP6dpAAACs0lEQVR4nO3dPY7aQBiA4W/CggxItvgRdFxgpS2QaDhAyhw2R0hBkZob0CEhZISzFsZ4q0SKwi54xrP4c96n3jEuXoPHOxqboigEqLsvjz4B4B5Pt/7AGNMVkY7l8U9FUbxajgX++DBUY0x3NBp9C8NwYHPww+GwN8Z8J1a4uvWN2gnDcLBcLl+jKErLHDiO42C1Wg12u11HRAgVTm7+9IuIRFGUTiaTXxbH71qMAf7BZAoqECpUIFSoQKhQgVChAqFCBUKFCoQKFQgVKhAqVCBUqECoUIFQoQKhQgVChQqEChUIFSoQKlQgVKhAqFCBUKECoUIFQoUKhAoVCBUqECpUIFSoQKhQgVChwl27+eHzOG6cLNLQzZMJ1QOH2ILhcPg1iqK+7Wc3dfNkQq2Yyy7dWZYFIvK8WCx+jsfjQ9nxTd48mVCrZ71L92azGazX614QBJnlxskiDd08mVA9sdmle7/fNzKyKjDrhwp8o77DYUIUXi6XdtXn878j1CtcJ0R5nj+nafpDRGzvM63led4WkdAYYzO8to+2CPU65wnR+Xxu+Tq59yRJ0s6y7GU2m7VarVap8xap96MtQv2AtgnR6XR6CoKgN5/P0+l0ui8ztopHWz7f8kioDdTv9z/9vWC+3/LY2FAdr24mROV5fctjI0N1vbofPSHSzNdbHhsZqjhc3SKPnRDhuqaGKiL2Vzf/IaqfRoeKchyfwXq9rydUiIj7M1jf9/WEChFxewYr4v++nlDxF9tnsL7v61k9BRUIFSoQKlSo9T0qa0LxW21D1bwmFNWrbaiidE0o/KhzqCKib00o/GAyBRUIFSoQKlQgVKhAqFDB66y/zusboYu3UOu+vhG6eAu17usboctdocZxHJQ98PF4LD3mmiRJgu1227P5bJuxruMfNVbzZ9/T1xtWxo0ZLNRuyAAAAABJRU5ErkJggg==\"></img></td>\n",
       "      <td id=\"T_bad0d_row3_col5\" class=\"data row3 col5\" >0<br>(0.0%)</td>\n",
       "    </tr>\n",
       "    <tr>\n",
       "      <td id=\"T_bad0d_row4_col0\" class=\"data row4 col0\" >5</td>\n",
       "      <td id=\"T_bad0d_row4_col1\" class=\"data row4 col1\" ><strong>Customer_Age_outliers</strong><br>[bool]</td>\n",
       "      <td id=\"T_bad0d_row4_col2\" class=\"data row4 col2\" >1. False</td>\n",
       "      <td id=\"T_bad0d_row4_col3\" class=\"data row4 col3\" >10,125 (100.0%)</td>\n",
       "      <td id=\"T_bad0d_row4_col4\" class=\"data row4 col4\" ><img src = \"data:image/png;base64, iVBORw0KGgoAAAANSUhEUgAAAJsAAAAXCAYAAAAcEz0vAAAAOXRFWHRTb2Z0d2FyZQBNYXRwbG90bGliIHZlcnNpb24zLjcuMCwgaHR0cHM6Ly9tYXRwbG90bGliLm9yZy88F64QAAAACXBIWXMAAA9hAAAPYQGoP6dpAAAAnUlEQVR4nO3bsQ0CMRBE0TlkoSPx6mTJxbgIUvovYZPjQgJqYCyZ/yqY4Ie7m6SHpLuAHyuttWet9Zg9BOsrtdZjjPGOiGv2GKwrM/ciSRFx9d7P2YOwttvsAfgfxAYbYoMNscGG2GBDbLAhNtgQG2yIDTbEBhtigw2xwYbYYENssCE22BAbbIgNNkX6nuzOHoK1Zea+tdZePLzA4QPFNA/EDSh7IQAAAABJRU5ErkJggg==\"></img></td>\n",
       "      <td id=\"T_bad0d_row4_col5\" class=\"data row4 col5\" >0<br>(0.0%)</td>\n",
       "    </tr>\n",
       "    <tr>\n",
       "      <td id=\"T_bad0d_row5_col0\" class=\"data row5 col0\" >6</td>\n",
       "      <td id=\"T_bad0d_row5_col1\" class=\"data row5 col1\" ><strong>Total_Revolving_Bal_outliers</strong><br>[bool]</td>\n",
       "      <td id=\"T_bad0d_row5_col2\" class=\"data row5 col2\" >1. False</td>\n",
       "      <td id=\"T_bad0d_row5_col3\" class=\"data row5 col3\" >10,125 (100.0%)</td>\n",
       "      <td id=\"T_bad0d_row5_col4\" class=\"data row5 col4\" ><img src = \"data:image/png;base64, iVBORw0KGgoAAAANSUhEUgAAAJsAAAAXCAYAAAAcEz0vAAAAOXRFWHRTb2Z0d2FyZQBNYXRwbG90bGliIHZlcnNpb24zLjcuMCwgaHR0cHM6Ly9tYXRwbG90bGliLm9yZy88F64QAAAACXBIWXMAAA9hAAAPYQGoP6dpAAAAnUlEQVR4nO3bsQ0CMRBE0TlkoSPx6mTJxbgIUvovYZPjQgJqYCyZ/yqY4Ie7m6SHpLuAHyuttWet9Zg9BOsrtdZjjPGOiGv2GKwrM/ciSRFx9d7P2YOwttvsAfgfxAYbYoMNscGG2GBDbLAhNtgQG2yIDTbEBhtigw2xwYbYYENssCE22BAbbIgNNkX6nuzOHoK1Zea+tdZePLzA4QPFNA/EDSh7IQAAAABJRU5ErkJggg==\"></img></td>\n",
       "      <td id=\"T_bad0d_row5_col5\" class=\"data row5 col5\" >0<br>(0.0%)</td>\n",
       "    </tr>\n",
       "  </tbody>\n",
       "</table>\n"
      ],
      "text/plain": [
       "<pandas.io.formats.style.Styler at 0x22724d04250>"
      ]
     },
     "execution_count": 42,
     "metadata": {},
     "output_type": "execute_result"
    }
   ],
   "source": [
    "dfSummary(data_noout)"
   ]
  },
  {
   "cell_type": "markdown",
   "metadata": {},
   "source": [
    "Se define nuevamente el dataset sin las columnas de outliers"
   ]
  },
  {
   "cell_type": "code",
   "execution_count": 43,
   "metadata": {},
   "outputs": [
    {
     "data": {
      "text/html": [
       "<div>\n",
       "<style scoped>\n",
       "    .dataframe tbody tr th:only-of-type {\n",
       "        vertical-align: middle;\n",
       "    }\n",
       "\n",
       "    .dataframe tbody tr th {\n",
       "        vertical-align: top;\n",
       "    }\n",
       "\n",
       "    .dataframe thead th {\n",
       "        text-align: right;\n",
       "    }\n",
       "</style>\n",
       "<table border=\"1\" class=\"dataframe\">\n",
       "  <thead>\n",
       "    <tr style=\"text-align: right;\">\n",
       "      <th></th>\n",
       "      <th>Customer_Age</th>\n",
       "      <th>Gender</th>\n",
       "      <th>Card_Category</th>\n",
       "      <th>Total_Revolving_Bal</th>\n",
       "    </tr>\n",
       "  </thead>\n",
       "  <tbody>\n",
       "    <tr>\n",
       "      <th>0</th>\n",
       "      <td>45</td>\n",
       "      <td>1</td>\n",
       "      <td>9436</td>\n",
       "      <td>777</td>\n",
       "    </tr>\n",
       "    <tr>\n",
       "      <th>1</th>\n",
       "      <td>49</td>\n",
       "      <td>0</td>\n",
       "      <td>9436</td>\n",
       "      <td>864</td>\n",
       "    </tr>\n",
       "    <tr>\n",
       "      <th>2</th>\n",
       "      <td>51</td>\n",
       "      <td>1</td>\n",
       "      <td>9436</td>\n",
       "      <td>0</td>\n",
       "    </tr>\n",
       "    <tr>\n",
       "      <th>3</th>\n",
       "      <td>40</td>\n",
       "      <td>0</td>\n",
       "      <td>9436</td>\n",
       "      <td>2517</td>\n",
       "    </tr>\n",
       "    <tr>\n",
       "      <th>4</th>\n",
       "      <td>40</td>\n",
       "      <td>1</td>\n",
       "      <td>9436</td>\n",
       "      <td>0</td>\n",
       "    </tr>\n",
       "    <tr>\n",
       "      <th>...</th>\n",
       "      <td>...</td>\n",
       "      <td>...</td>\n",
       "      <td>...</td>\n",
       "      <td>...</td>\n",
       "    </tr>\n",
       "    <tr>\n",
       "      <th>10122</th>\n",
       "      <td>50</td>\n",
       "      <td>1</td>\n",
       "      <td>9436</td>\n",
       "      <td>1851</td>\n",
       "    </tr>\n",
       "    <tr>\n",
       "      <th>10123</th>\n",
       "      <td>41</td>\n",
       "      <td>1</td>\n",
       "      <td>9436</td>\n",
       "      <td>2186</td>\n",
       "    </tr>\n",
       "    <tr>\n",
       "      <th>10124</th>\n",
       "      <td>44</td>\n",
       "      <td>0</td>\n",
       "      <td>9436</td>\n",
       "      <td>0</td>\n",
       "    </tr>\n",
       "    <tr>\n",
       "      <th>10125</th>\n",
       "      <td>30</td>\n",
       "      <td>1</td>\n",
       "      <td>9436</td>\n",
       "      <td>0</td>\n",
       "    </tr>\n",
       "    <tr>\n",
       "      <th>10126</th>\n",
       "      <td>43</td>\n",
       "      <td>0</td>\n",
       "      <td>555</td>\n",
       "      <td>1961</td>\n",
       "    </tr>\n",
       "  </tbody>\n",
       "</table>\n",
       "<p>10125 rows × 4 columns</p>\n",
       "</div>"
      ],
      "text/plain": [
       "       Customer_Age  Gender  Card_Category  Total_Revolving_Bal\n",
       "0                45       1           9436                  777\n",
       "1                49       0           9436                  864\n",
       "2                51       1           9436                    0\n",
       "3                40       0           9436                 2517\n",
       "4                40       1           9436                    0\n",
       "...             ...     ...            ...                  ...\n",
       "10122            50       1           9436                 1851\n",
       "10123            41       1           9436                 2186\n",
       "10124            44       0           9436                    0\n",
       "10125            30       1           9436                    0\n",
       "10126            43       0            555                 1961\n",
       "\n",
       "[10125 rows x 4 columns]"
      ]
     },
     "execution_count": 43,
     "metadata": {},
     "output_type": "execute_result"
    }
   ],
   "source": [
    "data_noout = data_noout[['Customer_Age', 'Gender' , 'Card_Category', 'Total_Revolving_Bal']]\n",
    "data_noout"
   ]
  },
  {
   "cell_type": "markdown",
   "metadata": {},
   "source": [
    "Se realiza la transformación 'yeo-johnson' para normalizar las columnas del nuevo dataset y se visualiza. Esto debido a que se tienen valores 0 en en dataset."
   ]
  },
  {
   "cell_type": "code",
   "execution_count": 44,
   "metadata": {},
   "outputs": [
    {
     "data": {
      "text/html": [
       "<div>\n",
       "<style scoped>\n",
       "    .dataframe tbody tr th:only-of-type {\n",
       "        vertical-align: middle;\n",
       "    }\n",
       "\n",
       "    .dataframe tbody tr th {\n",
       "        vertical-align: top;\n",
       "    }\n",
       "\n",
       "    .dataframe thead th {\n",
       "        text-align: right;\n",
       "    }\n",
       "</style>\n",
       "<table border=\"1\" class=\"dataframe\">\n",
       "  <thead>\n",
       "    <tr style=\"text-align: right;\">\n",
       "      <th></th>\n",
       "      <th>Customer_Age</th>\n",
       "      <th>Gender</th>\n",
       "      <th>Card_Category</th>\n",
       "      <th>Total_Revolving_Bal</th>\n",
       "    </tr>\n",
       "  </thead>\n",
       "  <tbody>\n",
       "    <tr>\n",
       "      <th>0</th>\n",
       "      <td>-0.168626</td>\n",
       "      <td>1.060178</td>\n",
       "      <td>0.270639</td>\n",
       "      <td>-0.003582</td>\n",
       "    </tr>\n",
       "    <tr>\n",
       "      <th>1</th>\n",
       "      <td>0.331428</td>\n",
       "      <td>-0.943238</td>\n",
       "      <td>0.270639</td>\n",
       "      <td>0.076384</td>\n",
       "    </tr>\n",
       "    <tr>\n",
       "      <th>2</th>\n",
       "      <td>0.582108</td>\n",
       "      <td>1.060178</td>\n",
       "      <td>0.270639</td>\n",
       "      <td>-1.665967</td>\n",
       "    </tr>\n",
       "    <tr>\n",
       "      <th>3</th>\n",
       "      <td>-0.791055</td>\n",
       "      <td>-0.943238</td>\n",
       "      <td>0.270639</td>\n",
       "      <td>1.113897</td>\n",
       "    </tr>\n",
       "    <tr>\n",
       "      <th>4</th>\n",
       "      <td>-0.791055</td>\n",
       "      <td>1.060178</td>\n",
       "      <td>0.270639</td>\n",
       "      <td>-1.665967</td>\n",
       "    </tr>\n",
       "    <tr>\n",
       "      <th>...</th>\n",
       "      <td>...</td>\n",
       "      <td>...</td>\n",
       "      <td>...</td>\n",
       "      <td>...</td>\n",
       "    </tr>\n",
       "    <tr>\n",
       "      <th>10120</th>\n",
       "      <td>0.456715</td>\n",
       "      <td>1.060178</td>\n",
       "      <td>0.270639</td>\n",
       "      <td>0.767046</td>\n",
       "    </tr>\n",
       "    <tr>\n",
       "      <th>10121</th>\n",
       "      <td>-0.666818</td>\n",
       "      <td>1.060178</td>\n",
       "      <td>0.270639</td>\n",
       "      <td>0.949261</td>\n",
       "    </tr>\n",
       "    <tr>\n",
       "      <th>10122</th>\n",
       "      <td>-0.293354</td>\n",
       "      <td>-0.943238</td>\n",
       "      <td>0.270639</td>\n",
       "      <td>-1.665967</td>\n",
       "    </tr>\n",
       "    <tr>\n",
       "      <th>10123</th>\n",
       "      <td>-2.025725</td>\n",
       "      <td>1.060178</td>\n",
       "      <td>0.270639</td>\n",
       "      <td>-1.665967</td>\n",
       "    </tr>\n",
       "    <tr>\n",
       "      <th>10124</th>\n",
       "      <td>-0.417964</td>\n",
       "      <td>-0.943238</td>\n",
       "      <td>-3.694951</td>\n",
       "      <td>0.828857</td>\n",
       "    </tr>\n",
       "  </tbody>\n",
       "</table>\n",
       "<p>10125 rows × 4 columns</p>\n",
       "</div>"
      ],
      "text/plain": [
       "       Customer_Age    Gender  Card_Category  Total_Revolving_Bal\n",
       "0         -0.168626  1.060178       0.270639            -0.003582\n",
       "1          0.331428 -0.943238       0.270639             0.076384\n",
       "2          0.582108  1.060178       0.270639            -1.665967\n",
       "3         -0.791055 -0.943238       0.270639             1.113897\n",
       "4         -0.791055  1.060178       0.270639            -1.665967\n",
       "...             ...       ...            ...                  ...\n",
       "10120      0.456715  1.060178       0.270639             0.767046\n",
       "10121     -0.666818  1.060178       0.270639             0.949261\n",
       "10122     -0.293354 -0.943238       0.270639            -1.665967\n",
       "10123     -2.025725  1.060178       0.270639            -1.665967\n",
       "10124     -0.417964 -0.943238      -3.694951             0.828857\n",
       "\n",
       "[10125 rows x 4 columns]"
      ]
     },
     "execution_count": 44,
     "metadata": {},
     "output_type": "execute_result"
    }
   ],
   "source": [
    "data_bc = power_transform(X=data_noout, method='yeo-johnson')\n",
    "data_bc = pd.DataFrame(data_bc, columns=data_noout.columns)\n",
    "data_bc"
   ]
  },
  {
   "cell_type": "markdown",
   "metadata": {},
   "source": [
    "Se visualiza la distribución de la columna 'Customer_Age'"
   ]
  },
  {
   "cell_type": "code",
   "execution_count": 45,
   "metadata": {},
   "outputs": [
    {
     "data": {
      "text/plain": [
       "<Axes: xlabel='Customer_Age', ylabel='Count'>"
      ]
     },
     "execution_count": 45,
     "metadata": {},
     "output_type": "execute_result"
    },
    {
     "data": {
      "image/png": "[encoded data removed]",
      "text/plain": [
       "<Figure size 640x480 with 1 Axes>"
      ]
     },
     "metadata": {},
     "output_type": "display_data"
    }
   ],
   "source": [
    "sns.histplot(data_bc,x= 'Customer_Age')"
   ]
  },
  {
   "cell_type": "markdown",
   "metadata": {},
   "source": [
    "Se visualiza la distribución de la columna 'Gender'"
   ]
  },
  {
   "cell_type": "code",
   "execution_count": 46,
   "metadata": {},
   "outputs": [
    {
     "data": {
      "text/plain": [
       "<Axes: xlabel='Gender', ylabel='Count'>"
      ]
     },
     "execution_count": 46,
     "metadata": {},
     "output_type": "execute_result"
    },
    {
     "data": {
      "image/png": "[encoded data removed]",
      "text/plain": [
       "<Figure size 640x480 with 1 Axes>"
      ]
     },
     "metadata": {},
     "output_type": "display_data"
    }
   ],
   "source": [
    "sns.histplot(data_bc,x= 'Gender')"
   ]
  },
  {
   "cell_type": "markdown",
   "metadata": {},
   "source": [
    "Se visualiza la distribución de la columna 'Card_Category'"
   ]
  },
  {
   "cell_type": "code",
   "execution_count": 47,
   "metadata": {},
   "outputs": [
    {
     "data": {
      "text/plain": [
       "<Axes: xlabel='Card_Category', ylabel='Count'>"
      ]
     },
     "execution_count": 47,
     "metadata": {},
     "output_type": "execute_result"
    },
    {
     "data": {
      "image/png": "[encoded data removed]",
      "text/plain": [
       "<Figure size 640x480 with 1 Axes>"
      ]
     },
     "metadata": {},
     "output_type": "display_data"
    }
   ],
   "source": [
    "sns.histplot(data_bc,x= 'Card_Category')"
   ]
  },
  {
   "cell_type": "markdown",
   "metadata": {},
   "source": [
    "Se visualiza la distribución de la columna 'Total_Revolving_Bal'"
   ]
  },
  {
   "cell_type": "code",
   "execution_count": 48,
   "metadata": {},
   "outputs": [
    {
     "data": {
      "text/plain": [
       "<Axes: xlabel='Total_Revolving_Bal', ylabel='Count'>"
      ]
     },
     "execution_count": 48,
     "metadata": {},
     "output_type": "execute_result"
    },
    {
     "data": {
      "image/png": "[encoded data removed]",
      "text/plain": [
       "<Figure size 640x480 with 1 Axes>"
      ]
     },
     "metadata": {},
     "output_type": "display_data"
    }
   ],
   "source": [
    "sns.histplot(data_bc,x= 'Total_Revolving_Bal')"
   ]
  },
  {
   "cell_type": "markdown",
   "metadata": {},
   "source": [
    "Se extraen los estadísticos generales del dataset para observar el comportamiento del dataset normalizado."
   ]
  },
  {
   "cell_type": "code",
   "execution_count": 49,
   "metadata": {},
   "outputs": [
    {
     "data": {
      "text/html": [
       "<div>\n",
       "<style scoped>\n",
       "    .dataframe tbody tr th:only-of-type {\n",
       "        vertical-align: middle;\n",
       "    }\n",
       "\n",
       "    .dataframe tbody tr th {\n",
       "        vertical-align: top;\n",
       "    }\n",
       "\n",
       "    .dataframe thead th {\n",
       "        text-align: right;\n",
       "    }\n",
       "</style>\n",
       "<table border=\"1\" class=\"dataframe\">\n",
       "  <thead>\n",
       "    <tr style=\"text-align: right;\">\n",
       "      <th></th>\n",
       "      <th>Customer_Age</th>\n",
       "      <th>Gender</th>\n",
       "      <th>Card_Category</th>\n",
       "      <th>Total_Revolving_Bal</th>\n",
       "    </tr>\n",
       "  </thead>\n",
       "  <tbody>\n",
       "    <tr>\n",
       "      <th>count</th>\n",
       "      <td>1.012500e+04</td>\n",
       "      <td>1.012500e+04</td>\n",
       "      <td>1.012500e+04</td>\n",
       "      <td>1.012500e+04</td>\n",
       "    </tr>\n",
       "    <tr>\n",
       "      <th>mean</th>\n",
       "      <td>-2.175489e-16</td>\n",
       "      <td>2.133383e-16</td>\n",
       "      <td>-2.694799e-16</td>\n",
       "      <td>-3.368499e-17</td>\n",
       "    </tr>\n",
       "    <tr>\n",
       "      <th>std</th>\n",
       "      <td>1.000049e+00</td>\n",
       "      <td>1.000049e+00</td>\n",
       "      <td>1.000049e+00</td>\n",
       "      <td>1.000049e+00</td>\n",
       "    </tr>\n",
       "    <tr>\n",
       "      <th>min</th>\n",
       "      <td>-2.515087e+00</td>\n",
       "      <td>-9.432379e-01</td>\n",
       "      <td>-3.694960e+00</td>\n",
       "      <td>-1.665967e+00</td>\n",
       "    </tr>\n",
       "    <tr>\n",
       "      <th>25%</th>\n",
       "      <td>-6.668177e-01</td>\n",
       "      <td>-9.432379e-01</td>\n",
       "      <td>2.706394e-01</td>\n",
       "      <td>-4.930331e-01</td>\n",
       "    </tr>\n",
       "    <tr>\n",
       "      <th>50%</th>\n",
       "      <td>-4.378080e-02</td>\n",
       "      <td>-9.432379e-01</td>\n",
       "      <td>2.706394e-01</td>\n",
       "      <td>4.024785e-01</td>\n",
       "    </tr>\n",
       "    <tr>\n",
       "      <th>75%</th>\n",
       "      <td>7.076039e-01</td>\n",
       "      <td>1.060178e+00</td>\n",
       "      <td>2.706394e-01</td>\n",
       "      <td>7.283419e-01</td>\n",
       "    </tr>\n",
       "    <tr>\n",
       "      <th>max</th>\n",
       "      <td>2.728254e+00</td>\n",
       "      <td>1.060178e+00</td>\n",
       "      <td>2.706394e-01</td>\n",
       "      <td>1.113897e+00</td>\n",
       "    </tr>\n",
       "  </tbody>\n",
       "</table>\n",
       "</div>"
      ],
      "text/plain": [
       "       Customer_Age        Gender  Card_Category  Total_Revolving_Bal\n",
       "count  1.012500e+04  1.012500e+04   1.012500e+04         1.012500e+04\n",
       "mean  -2.175489e-16  2.133383e-16  -2.694799e-16        -3.368499e-17\n",
       "std    1.000049e+00  1.000049e+00   1.000049e+00         1.000049e+00\n",
       "min   -2.515087e+00 -9.432379e-01  -3.694960e+00        -1.665967e+00\n",
       "25%   -6.668177e-01 -9.432379e-01   2.706394e-01        -4.930331e-01\n",
       "50%   -4.378080e-02 -9.432379e-01   2.706394e-01         4.024785e-01\n",
       "75%    7.076039e-01  1.060178e+00   2.706394e-01         7.283419e-01\n",
       "max    2.728254e+00  1.060178e+00   2.706394e-01         1.113897e+00"
      ]
     },
     "execution_count": 49,
     "metadata": {},
     "output_type": "execute_result"
    }
   ],
   "source": [
    "data_bc.describe()"
   ]
  },
  {
   "cell_type": "markdown",
   "metadata": {},
   "source": [
    "Se carga de la librería sklearn.cluster el módulo KMeans"
   ]
  },
  {
   "cell_type": "code",
   "execution_count": 50,
   "metadata": {},
   "outputs": [],
   "source": [
    "from sklearn.cluster import KMeans"
   ]
  },
  {
   "cell_type": "markdown",
   "metadata": {},
   "source": [
    "Se extrae la inercia y el número de clusters del modelo iterado"
   ]
  },
  {
   "cell_type": "code",
   "execution_count": 51,
   "metadata": {},
   "outputs": [
    {
     "name": "stderr",
     "output_type": "stream",
     "text": [
      "c:\\Users\\lgutierrez\\AppData\\Local\\Programs\\Python\\Python311\\Lib\\site-packages\\sklearn\\cluster\\_kmeans.py:1412: FutureWarning: The default value of `n_init` will change from 10 to 'auto' in 1.4. Set the value of `n_init` explicitly to suppress the warning\n",
      "  super()._check_params_vs_input(X, default_n_init=10)\n",
      "c:\\Users\\lgutierrez\\AppData\\Local\\Programs\\Python\\Python311\\Lib\\site-packages\\sklearn\\cluster\\_kmeans.py:1412: FutureWarning: The default value of `n_init` will change from 10 to 'auto' in 1.4. Set the value of `n_init` explicitly to suppress the warning\n",
      "  super()._check_params_vs_input(X, default_n_init=10)\n",
      "c:\\Users\\lgutierrez\\AppData\\Local\\Programs\\Python\\Python311\\Lib\\site-packages\\sklearn\\cluster\\_kmeans.py:1412: FutureWarning: The default value of `n_init` will change from 10 to 'auto' in 1.4. Set the value of `n_init` explicitly to suppress the warning\n",
      "  super()._check_params_vs_input(X, default_n_init=10)\n",
      "c:\\Users\\lgutierrez\\AppData\\Local\\Programs\\Python\\Python311\\Lib\\site-packages\\sklearn\\cluster\\_kmeans.py:1412: FutureWarning: The default value of `n_init` will change from 10 to 'auto' in 1.4. Set the value of `n_init` explicitly to suppress the warning\n",
      "  super()._check_params_vs_input(X, default_n_init=10)\n",
      "c:\\Users\\lgutierrez\\AppData\\Local\\Programs\\Python\\Python311\\Lib\\site-packages\\sklearn\\cluster\\_kmeans.py:1412: FutureWarning: The default value of `n_init` will change from 10 to 'auto' in 1.4. Set the value of `n_init` explicitly to suppress the warning\n",
      "  super()._check_params_vs_input(X, default_n_init=10)\n",
      "c:\\Users\\lgutierrez\\AppData\\Local\\Programs\\Python\\Python311\\Lib\\site-packages\\sklearn\\cluster\\_kmeans.py:1412: FutureWarning: The default value of `n_init` will change from 10 to 'auto' in 1.4. Set the value of `n_init` explicitly to suppress the warning\n",
      "  super()._check_params_vs_input(X, default_n_init=10)\n",
      "c:\\Users\\lgutierrez\\AppData\\Local\\Programs\\Python\\Python311\\Lib\\site-packages\\sklearn\\cluster\\_kmeans.py:1412: FutureWarning: The default value of `n_init` will change from 10 to 'auto' in 1.4. Set the value of `n_init` explicitly to suppress the warning\n",
      "  super()._check_params_vs_input(X, default_n_init=10)\n",
      "c:\\Users\\lgutierrez\\AppData\\Local\\Programs\\Python\\Python311\\Lib\\site-packages\\sklearn\\cluster\\_kmeans.py:1412: FutureWarning: The default value of `n_init` will change from 10 to 'auto' in 1.4. Set the value of `n_init` explicitly to suppress the warning\n",
      "  super()._check_params_vs_input(X, default_n_init=10)\n",
      "c:\\Users\\lgutierrez\\AppData\\Local\\Programs\\Python\\Python311\\Lib\\site-packages\\sklearn\\cluster\\_kmeans.py:1412: FutureWarning: The default value of `n_init` will change from 10 to 'auto' in 1.4. Set the value of `n_init` explicitly to suppress the warning\n",
      "  super()._check_params_vs_input(X, default_n_init=10)\n",
      "c:\\Users\\lgutierrez\\AppData\\Local\\Programs\\Python\\Python311\\Lib\\site-packages\\sklearn\\cluster\\_kmeans.py:1412: FutureWarning: The default value of `n_init` will change from 10 to 'auto' in 1.4. Set the value of `n_init` explicitly to suppress the warning\n",
      "  super()._check_params_vs_input(X, default_n_init=10)\n",
      "c:\\Users\\lgutierrez\\AppData\\Local\\Programs\\Python\\Python311\\Lib\\site-packages\\sklearn\\cluster\\_kmeans.py:1412: FutureWarning: The default value of `n_init` will change from 10 to 'auto' in 1.4. Set the value of `n_init` explicitly to suppress the warning\n",
      "  super()._check_params_vs_input(X, default_n_init=10)\n",
      "c:\\Users\\lgutierrez\\AppData\\Local\\Programs\\Python\\Python311\\Lib\\site-packages\\sklearn\\cluster\\_kmeans.py:1412: FutureWarning: The default value of `n_init` will change from 10 to 'auto' in 1.4. Set the value of `n_init` explicitly to suppress the warning\n",
      "  super()._check_params_vs_input(X, default_n_init=10)\n",
      "c:\\Users\\lgutierrez\\AppData\\Local\\Programs\\Python\\Python311\\Lib\\site-packages\\sklearn\\cluster\\_kmeans.py:1412: FutureWarning: The default value of `n_init` will change from 10 to 'auto' in 1.4. Set the value of `n_init` explicitly to suppress the warning\n",
      "  super()._check_params_vs_input(X, default_n_init=10)\n",
      "c:\\Users\\lgutierrez\\AppData\\Local\\Programs\\Python\\Python311\\Lib\\site-packages\\sklearn\\cluster\\_kmeans.py:1412: FutureWarning: The default value of `n_init` will change from 10 to 'auto' in 1.4. Set the value of `n_init` explicitly to suppress the warning\n",
      "  super()._check_params_vs_input(X, default_n_init=10)\n",
      "c:\\Users\\lgutierrez\\AppData\\Local\\Programs\\Python\\Python311\\Lib\\site-packages\\sklearn\\cluster\\_kmeans.py:1412: FutureWarning: The default value of `n_init` will change from 10 to 'auto' in 1.4. Set the value of `n_init` explicitly to suppress the warning\n",
      "  super()._check_params_vs_input(X, default_n_init=10)\n",
      "c:\\Users\\lgutierrez\\AppData\\Local\\Programs\\Python\\Python311\\Lib\\site-packages\\sklearn\\cluster\\_kmeans.py:1412: FutureWarning: The default value of `n_init` will change from 10 to 'auto' in 1.4. Set the value of `n_init` explicitly to suppress the warning\n",
      "  super()._check_params_vs_input(X, default_n_init=10)\n",
      "c:\\Users\\lgutierrez\\AppData\\Local\\Programs\\Python\\Python311\\Lib\\site-packages\\sklearn\\cluster\\_kmeans.py:1412: FutureWarning: The default value of `n_init` will change from 10 to 'auto' in 1.4. Set the value of `n_init` explicitly to suppress the warning\n",
      "  super()._check_params_vs_input(X, default_n_init=10)\n",
      "c:\\Users\\lgutierrez\\AppData\\Local\\Programs\\Python\\Python311\\Lib\\site-packages\\sklearn\\cluster\\_kmeans.py:1412: FutureWarning: The default value of `n_init` will change from 10 to 'auto' in 1.4. Set the value of `n_init` explicitly to suppress the warning\n",
      "  super()._check_params_vs_input(X, default_n_init=10)\n",
      "c:\\Users\\lgutierrez\\AppData\\Local\\Programs\\Python\\Python311\\Lib\\site-packages\\sklearn\\cluster\\_kmeans.py:1412: FutureWarning: The default value of `n_init` will change from 10 to 'auto' in 1.4. Set the value of `n_init` explicitly to suppress the warning\n",
      "  super()._check_params_vs_input(X, default_n_init=10)\n",
      "c:\\Users\\lgutierrez\\AppData\\Local\\Programs\\Python\\Python311\\Lib\\site-packages\\sklearn\\cluster\\_kmeans.py:1412: FutureWarning: The default value of `n_init` will change from 10 to 'auto' in 1.4. Set the value of `n_init` explicitly to suppress the warning\n",
      "  super()._check_params_vs_input(X, default_n_init=10)\n",
      "c:\\Users\\lgutierrez\\AppData\\Local\\Programs\\Python\\Python311\\Lib\\site-packages\\sklearn\\cluster\\_kmeans.py:1412: FutureWarning: The default value of `n_init` will change from 10 to 'auto' in 1.4. Set the value of `n_init` explicitly to suppress the warning\n",
      "  super()._check_params_vs_input(X, default_n_init=10)\n",
      "c:\\Users\\lgutierrez\\AppData\\Local\\Programs\\Python\\Python311\\Lib\\site-packages\\sklearn\\cluster\\_kmeans.py:1412: FutureWarning: The default value of `n_init` will change from 10 to 'auto' in 1.4. Set the value of `n_init` explicitly to suppress the warning\n",
      "  super()._check_params_vs_input(X, default_n_init=10)\n",
      "c:\\Users\\lgutierrez\\AppData\\Local\\Programs\\Python\\Python311\\Lib\\site-packages\\sklearn\\cluster\\_kmeans.py:1412: FutureWarning: The default value of `n_init` will change from 10 to 'auto' in 1.4. Set the value of `n_init` explicitly to suppress the warning\n",
      "  super()._check_params_vs_input(X, default_n_init=10)\n",
      "c:\\Users\\lgutierrez\\AppData\\Local\\Programs\\Python\\Python311\\Lib\\site-packages\\sklearn\\cluster\\_kmeans.py:1412: FutureWarning: The default value of `n_init` will change from 10 to 'auto' in 1.4. Set the value of `n_init` explicitly to suppress the warning\n",
      "  super()._check_params_vs_input(X, default_n_init=10)\n"
     ]
    }
   ],
   "source": [
    "inercia = []\n",
    "ks = []\n",
    "\n",
    "for k in range(1,25):\n",
    "    modelo_iterado = KMeans(n_clusters = k, random_state = 5)\n",
    "    modelo_iterado.fit(data_bc)\n",
    "    inercia.append(modelo_iterado.inertia_)\n",
    "    ks.append(k)"
   ]
  },
  {
   "cell_type": "markdown",
   "metadata": {},
   "source": [
    "Se crea el diccionario codo con número de inercia y número de clusters."
   ]
  },
  {
   "cell_type": "code",
   "execution_count": 52,
   "metadata": {},
   "outputs": [],
   "source": [
    "codo = {\n",
    "    'inercia': inercia,\n",
    "    'k': ks\n",
    "}\n",
    "\n",
    "codo = pd.DataFrame(codo)\n"
   ]
  },
  {
   "cell_type": "markdown",
   "metadata": {},
   "source": [
    "Se grafica la tabla de cluser vs inercia para poder aplicar el método del codo."
   ]
  },
  {
   "cell_type": "code",
   "execution_count": 53,
   "metadata": {},
   "outputs": [
    {
     "data": {
      "text/plain": [
       "<Axes: xlabel='k', ylabel='inercia'>"
      ]
     },
     "execution_count": 53,
     "metadata": {},
     "output_type": "execute_result"
    },
    {
     "data": {
      "image/png": "[encoded data removed]",
      "text/plain": [
       "<Figure size 640x480 with 1 Axes>"
      ]
     },
     "metadata": {},
     "output_type": "display_data"
    }
   ],
   "source": [
    "sns.scatterplot(data=codo,x='k',y='inercia',markers=True)\n",
    "sns.lineplot(data=codo, x='k', y='inercia',)"
   ]
  },
  {
   "cell_type": "markdown",
   "metadata": {},
   "source": [
    "Se realiza el fit al modelo con n_clusters = 5."
   ]
  },
  {
   "cell_type": "code",
   "execution_count": 54,
   "metadata": {},
   "outputs": [
    {
     "name": "stderr",
     "output_type": "stream",
     "text": [
      "c:\\Users\\lgutierrez\\AppData\\Local\\Programs\\Python\\Python311\\Lib\\site-packages\\sklearn\\cluster\\_kmeans.py:1412: FutureWarning: The default value of `n_init` will change from 10 to 'auto' in 1.4. Set the value of `n_init` explicitly to suppress the warning\n",
      "  super()._check_params_vs_input(X, default_n_init=10)\n"
     ]
    },
    {
     "data": {
      "text/html": [
       "<style>#sk-container-id-1 {color: black;}#sk-container-id-1 pre{padding: 0;}#sk-container-id-1 div.sk-toggleable {background-color: white;}#sk-container-id-1 label.sk-toggleable__label {cursor: pointer;display: block;width: 100%;margin-bottom: 0;padding: 0.3em;box-sizing: border-box;text-align: center;}#sk-container-id-1 label.sk-toggleable__label-arrow:before {content: \"▸\";float: left;margin-right: 0.25em;color: #696969;}#sk-container-id-1 label.sk-toggleable__label-arrow:hover:before {color: black;}#sk-container-id-1 div.sk-estimator:hover label.sk-toggleable__label-arrow:before {color: black;}#sk-container-id-1 div.sk-toggleable__content {max-height: 0;max-width: 0;overflow: hidden;text-align: left;background-color: #f0f8ff;}#sk-container-id-1 div.sk-toggleable__content pre {margin: 0.2em;color: black;border-radius: 0.25em;background-color: #f0f8ff;}#sk-container-id-1 input.sk-toggleable__control:checked~div.sk-toggleable__content {max-height: 200px;max-width: 100%;overflow: auto;}#sk-container-id-1 input.sk-toggleable__control:checked~label.sk-toggleable__label-arrow:before {content: \"▾\";}#sk-container-id-1 div.sk-estimator input.sk-toggleable__control:checked~label.sk-toggleable__label {background-color: #d4ebff;}#sk-container-id-1 div.sk-label input.sk-toggleable__control:checked~label.sk-toggleable__label {background-color: #d4ebff;}#sk-container-id-1 input.sk-hidden--visually {border: 0;clip: rect(1px 1px 1px 1px);clip: rect(1px, 1px, 1px, 1px);height: 1px;margin: -1px;overflow: hidden;padding: 0;position: absolute;width: 1px;}#sk-container-id-1 div.sk-estimator {font-family: monospace;background-color: #f0f8ff;border: 1px dotted black;border-radius: 0.25em;box-sizing: border-box;margin-bottom: 0.5em;}#sk-container-id-1 div.sk-estimator:hover {background-color: #d4ebff;}#sk-container-id-1 div.sk-parallel-item::after {content: \"\";width: 100%;border-bottom: 1px solid gray;flex-grow: 1;}#sk-container-id-1 div.sk-label:hover label.sk-toggleable__label {background-color: #d4ebff;}#sk-container-id-1 div.sk-serial::before {content: \"\";position: absolute;border-left: 1px solid gray;box-sizing: border-box;top: 0;bottom: 0;left: 50%;z-index: 0;}#sk-container-id-1 div.sk-serial {display: flex;flex-direction: column;align-items: center;background-color: white;padding-right: 0.2em;padding-left: 0.2em;position: relative;}#sk-container-id-1 div.sk-item {position: relative;z-index: 1;}#sk-container-id-1 div.sk-parallel {display: flex;align-items: stretch;justify-content: center;background-color: white;position: relative;}#sk-container-id-1 div.sk-item::before, #sk-container-id-1 div.sk-parallel-item::before {content: \"\";position: absolute;border-left: 1px solid gray;box-sizing: border-box;top: 0;bottom: 0;left: 50%;z-index: -1;}#sk-container-id-1 div.sk-parallel-item {display: flex;flex-direction: column;z-index: 1;position: relative;background-color: white;}#sk-container-id-1 div.sk-parallel-item:first-child::after {align-self: flex-end;width: 50%;}#sk-container-id-1 div.sk-parallel-item:last-child::after {align-self: flex-start;width: 50%;}#sk-container-id-1 div.sk-parallel-item:only-child::after {width: 0;}#sk-container-id-1 div.sk-dashed-wrapped {border: 1px dashed gray;margin: 0 0.4em 0.5em 0.4em;box-sizing: border-box;padding-bottom: 0.4em;background-color: white;}#sk-container-id-1 div.sk-label label {font-family: monospace;font-weight: bold;display: inline-block;line-height: 1.2em;}#sk-container-id-1 div.sk-label-container {text-align: center;}#sk-container-id-1 div.sk-container {/* jupyter's `normalize.less` sets `[hidden] { display: none; }` but bootstrap.min.css set `[hidden] { display: none !important; }` so we also need the `!important` here to be able to override the default hidden behavior on the sphinx rendered scikit-learn.org. See: https://github.com/scikit-learn/scikit-learn/issues/21755 */display: inline-block !important;position: relative;}#sk-container-id-1 div.sk-text-repr-fallback {display: none;}</style><div id=\"sk-container-id-1\" class=\"sk-top-container\"><div class=\"sk-text-repr-fallback\"><pre>KMeans(n_clusters=5, random_state=10)</pre><b>In a Jupyter environment, please rerun this cell to show the HTML representation or trust the notebook. <br />On GitHub, the HTML representation is unable to render, please try loading this page with nbviewer.org.</b></div><div class=\"sk-container\" hidden><div class=\"sk-item\"><div class=\"sk-estimator sk-toggleable\"><input class=\"sk-toggleable__control sk-hidden--visually\" id=\"sk-estimator-id-1\" type=\"checkbox\" checked><label for=\"sk-estimator-id-1\" class=\"sk-toggleable__label sk-toggleable__label-arrow\">KMeans</label><div class=\"sk-toggleable__content\"><pre>KMeans(n_clusters=5, random_state=10)</pre></div></div></div></div></div>"
      ],
      "text/plain": [
       "KMeans(n_clusters=5, random_state=10)"
      ]
     },
     "execution_count": 54,
     "metadata": {},
     "output_type": "execute_result"
    }
   ],
   "source": [
    "modelo = KMeans(n_clusters=5,random_state = 10)\n",
    "modelo.fit(data_bc)"
   ]
  },
  {
   "cell_type": "markdown",
   "metadata": {},
   "source": [
    "Se obtiene una tabla con los datos del dataset y la columna cluster"
   ]
  },
  {
   "cell_type": "code",
   "execution_count": 55,
   "metadata": {},
   "outputs": [
    {
     "data": {
      "text/html": [
       "<div>\n",
       "<style scoped>\n",
       "    .dataframe tbody tr th:only-of-type {\n",
       "        vertical-align: middle;\n",
       "    }\n",
       "\n",
       "    .dataframe tbody tr th {\n",
       "        vertical-align: top;\n",
       "    }\n",
       "\n",
       "    .dataframe thead th {\n",
       "        text-align: right;\n",
       "    }\n",
       "</style>\n",
       "<table border=\"1\" class=\"dataframe\">\n",
       "  <thead>\n",
       "    <tr style=\"text-align: right;\">\n",
       "      <th></th>\n",
       "      <th>Customer_Age</th>\n",
       "      <th>Gender</th>\n",
       "      <th>Card_Category</th>\n",
       "      <th>Total_Revolving_Bal</th>\n",
       "      <th>cluster</th>\n",
       "    </tr>\n",
       "  </thead>\n",
       "  <tbody>\n",
       "    <tr>\n",
       "      <th>0</th>\n",
       "      <td>45</td>\n",
       "      <td>1</td>\n",
       "      <td>9436</td>\n",
       "      <td>777</td>\n",
       "      <td>2</td>\n",
       "    </tr>\n",
       "    <tr>\n",
       "      <th>1</th>\n",
       "      <td>49</td>\n",
       "      <td>0</td>\n",
       "      <td>9436</td>\n",
       "      <td>864</td>\n",
       "      <td>4</td>\n",
       "    </tr>\n",
       "    <tr>\n",
       "      <th>2</th>\n",
       "      <td>51</td>\n",
       "      <td>1</td>\n",
       "      <td>9436</td>\n",
       "      <td>0</td>\n",
       "      <td>0</td>\n",
       "    </tr>\n",
       "    <tr>\n",
       "      <th>3</th>\n",
       "      <td>40</td>\n",
       "      <td>0</td>\n",
       "      <td>9436</td>\n",
       "      <td>2517</td>\n",
       "      <td>1</td>\n",
       "    </tr>\n",
       "    <tr>\n",
       "      <th>4</th>\n",
       "      <td>40</td>\n",
       "      <td>1</td>\n",
       "      <td>9436</td>\n",
       "      <td>0</td>\n",
       "      <td>0</td>\n",
       "    </tr>\n",
       "    <tr>\n",
       "      <th>...</th>\n",
       "      <td>...</td>\n",
       "      <td>...</td>\n",
       "      <td>...</td>\n",
       "      <td>...</td>\n",
       "      <td>...</td>\n",
       "    </tr>\n",
       "    <tr>\n",
       "      <th>10122</th>\n",
       "      <td>50</td>\n",
       "      <td>1</td>\n",
       "      <td>9436</td>\n",
       "      <td>1851</td>\n",
       "      <td>2</td>\n",
       "    </tr>\n",
       "    <tr>\n",
       "      <th>10123</th>\n",
       "      <td>41</td>\n",
       "      <td>1</td>\n",
       "      <td>9436</td>\n",
       "      <td>2186</td>\n",
       "      <td>2</td>\n",
       "    </tr>\n",
       "    <tr>\n",
       "      <th>10124</th>\n",
       "      <td>44</td>\n",
       "      <td>0</td>\n",
       "      <td>9436</td>\n",
       "      <td>0</td>\n",
       "      <td>0</td>\n",
       "    </tr>\n",
       "    <tr>\n",
       "      <th>10125</th>\n",
       "      <td>30</td>\n",
       "      <td>1</td>\n",
       "      <td>9436</td>\n",
       "      <td>0</td>\n",
       "      <td>0</td>\n",
       "    </tr>\n",
       "    <tr>\n",
       "      <th>10126</th>\n",
       "      <td>43</td>\n",
       "      <td>0</td>\n",
       "      <td>555</td>\n",
       "      <td>1961</td>\n",
       "      <td>3</td>\n",
       "    </tr>\n",
       "  </tbody>\n",
       "</table>\n",
       "<p>10125 rows × 5 columns</p>\n",
       "</div>"
      ],
      "text/plain": [
       "       Customer_Age  Gender  Card_Category  Total_Revolving_Bal  cluster\n",
       "0                45       1           9436                  777        2\n",
       "1                49       0           9436                  864        4\n",
       "2                51       1           9436                    0        0\n",
       "3                40       0           9436                 2517        1\n",
       "4                40       1           9436                    0        0\n",
       "...             ...     ...            ...                  ...      ...\n",
       "10122            50       1           9436                 1851        2\n",
       "10123            41       1           9436                 2186        2\n",
       "10124            44       0           9436                    0        0\n",
       "10125            30       1           9436                    0        0\n",
       "10126            43       0            555                 1961        3\n",
       "\n",
       "[10125 rows x 5 columns]"
      ]
     },
     "execution_count": 55,
     "metadata": {},
     "output_type": "execute_result"
    }
   ],
   "source": [
    "data_noout['cluster'] = modelo.labels_\n",
    "data_noout"
   ]
  },
  {
   "cell_type": "markdown",
   "metadata": {},
   "source": [
    "Se agrupa el modelo para contar el número de registros que se encuentran por número de clusters."
   ]
  },
  {
   "cell_type": "code",
   "execution_count": 56,
   "metadata": {},
   "outputs": [
    {
     "data": {
      "text/html": [
       "<div>\n",
       "<style scoped>\n",
       "    .dataframe tbody tr th:only-of-type {\n",
       "        vertical-align: middle;\n",
       "    }\n",
       "\n",
       "    .dataframe tbody tr th {\n",
       "        vertical-align: top;\n",
       "    }\n",
       "\n",
       "    .dataframe thead th {\n",
       "        text-align: right;\n",
       "    }\n",
       "</style>\n",
       "<table border=\"1\" class=\"dataframe\">\n",
       "  <thead>\n",
       "    <tr style=\"text-align: right;\">\n",
       "      <th></th>\n",
       "      <th>Customer_Age</th>\n",
       "      <th>Gender</th>\n",
       "      <th>Card_Category</th>\n",
       "      <th>Total_Revolving_Bal</th>\n",
       "    </tr>\n",
       "    <tr>\n",
       "      <th>cluster</th>\n",
       "      <th></th>\n",
       "      <th></th>\n",
       "      <th></th>\n",
       "      <th></th>\n",
       "    </tr>\n",
       "  </thead>\n",
       "  <tbody>\n",
       "    <tr>\n",
       "      <th>0</th>\n",
       "      <td>2335</td>\n",
       "      <td>2335</td>\n",
       "      <td>2335</td>\n",
       "      <td>2335</td>\n",
       "    </tr>\n",
       "    <tr>\n",
       "      <th>1</th>\n",
       "      <td>1867</td>\n",
       "      <td>1867</td>\n",
       "      <td>1867</td>\n",
       "      <td>1867</td>\n",
       "    </tr>\n",
       "    <tr>\n",
       "      <th>2</th>\n",
       "      <td>3324</td>\n",
       "      <td>3324</td>\n",
       "      <td>3324</td>\n",
       "      <td>3324</td>\n",
       "    </tr>\n",
       "    <tr>\n",
       "      <th>3</th>\n",
       "      <td>691</td>\n",
       "      <td>691</td>\n",
       "      <td>691</td>\n",
       "      <td>691</td>\n",
       "    </tr>\n",
       "    <tr>\n",
       "      <th>4</th>\n",
       "      <td>1908</td>\n",
       "      <td>1908</td>\n",
       "      <td>1908</td>\n",
       "      <td>1908</td>\n",
       "    </tr>\n",
       "  </tbody>\n",
       "</table>\n",
       "</div>"
      ],
      "text/plain": [
       "         Customer_Age  Gender  Card_Category  Total_Revolving_Bal\n",
       "cluster                                                          \n",
       "0                2335    2335           2335                 2335\n",
       "1                1867    1867           1867                 1867\n",
       "2                3324    3324           3324                 3324\n",
       "3                 691     691            691                  691\n",
       "4                1908    1908           1908                 1908"
      ]
     },
     "execution_count": 56,
     "metadata": {},
     "output_type": "execute_result"
    }
   ],
   "source": [
    "data_noout.groupby(by='cluster').count()"
   ]
  }
 ],
 "metadata": {
  "kernelspec": {
   "display_name": "milton_latest",
   "language": "python",
   "name": "python3"
  },
  "language_info": {
   "codemirror_mode": {
    "name": "ipython",
    "version": 3
   },
   "file_extension": ".py",
   "mimetype": "text/x-python",
   "name": "python",
   "nbconvert_exporter": "python",
   "pygments_lexer": "ipython3",
   "version": "3.11.2"
  },
  "orig_nbformat": 4
 },
 "nbformat": 4,
 "nbformat_minor": 2
}
