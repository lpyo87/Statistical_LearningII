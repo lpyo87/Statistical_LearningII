{
 "cells": [
  {
   "cell_type": "code",
   "execution_count": 3,
   "metadata": {},
   "outputs": [],
   "source": [
    "#Dependencies\n",
    "import tensorflow as tf\n",
    "import tensorflow.keras as kr\n",
    "from sklearn.model_selection import train_test_split\n",
    "from sklearn.preprocessing import LabelEncoder\n",
    "import pandas as pd"
   ]
  },
  {
   "cell_type": "code",
   "execution_count": 6,
   "metadata": {},
   "outputs": [],
   "source": [
    "# Cargamos el conjunto de Iris\n",
    "url = \"https://archive.ics.uci.edu/ml/machine-learning-databases/iris/iris.data\"\n",
    "names = ['sepal-length', 'sepal-width', 'petal-length', 'petal-width', 'class']\n",
    "dataset = pd.read_csv(url, names=names)"
   ]
  },
  {
   "cell_type": "code",
   "execution_count": 8,
   "metadata": {},
   "outputs": [],
   "source": [
    "# Dividimos las columnas del dataset en variables independientes (x) y dependientes (y)\n",
    "x = dataset.iloc[:, 0:4].values\n",
    "y = dataset.iloc[:, 4].values"
   ]
  },
  {
   "cell_type": "code",
   "execution_count": 9,
   "metadata": {},
   "outputs": [],
   "source": [
    "# Codificamos las clases como números enteros\n",
    "encoder = LabelEncoder()\n",
    "encoder.fit(y)\n",
    "y_encoded = encoder.transform(y)"
   ]
  },
  {
   "cell_type": "code",
   "execution_count": 12,
   "metadata": {},
   "outputs": [],
   "source": [
    "# Convertimos los enteros en variables dummy (one hot encoding)\n",
    "y_dummy = kr.utils.to_categorical(y_encoded)"
   ]
  },
  {
   "cell_type": "code",
   "execution_count": 13,
   "metadata": {},
   "outputs": [],
   "source": [
    "# Dividimos el dataset en conjuntos de entrenamiento y prueba\n",
    "x_train, x_test, y_train, y_test = train_test_split(x, y_dummy, test_size=0.20, random_state=1)"
   ]
  },
  {
   "cell_type": "markdown",
   "metadata": {},
   "source": [
    "# Creación de red neuronal"
   ]
  },
  {
   "cell_type": "code",
   "execution_count": 44,
   "metadata": {},
   "outputs": [],
   "source": [
    "model = kr.models.Sequential()"
   ]
  },
  {
   "cell_type": "code",
   "execution_count": 45,
   "metadata": {},
   "outputs": [],
   "source": [
    "model.add(kr.layers.Dense(8,input_dim=4, activation='relu'))"
   ]
  },
  {
   "cell_type": "code",
   "execution_count": 46,
   "metadata": {},
   "outputs": [],
   "source": [
    "model.add(kr.layers.Dense(3, activation='softmax'))"
   ]
  },
  {
   "cell_type": "code",
   "execution_count": 40,
   "metadata": {},
   "outputs": [],
   "source": [
    "model.compile(loss='categorical_crossentropy', optimizer='adam', metrics=['accuracy'])"
   ]
  },
  {
   "cell_type": "code",
   "execution_count": 23,
   "metadata": {},
   "outputs": [
    {
     "name": "stdout",
     "output_type": "stream",
     "text": [
      "Epoch 1/25\n",
      "12/12 [==============================] - 0s 1ms/step - loss: 1.9422 - accuracy: 0.3250\n",
      "Epoch 2/25\n",
      "12/12 [==============================] - 0s 2ms/step - loss: 1.6160 - accuracy: 0.3250\n",
      "Epoch 3/25\n",
      "12/12 [==============================] - 0s 1ms/step - loss: 1.3496 - accuracy: 0.3833\n",
      "Epoch 4/25\n",
      "12/12 [==============================] - 0s 1ms/step - loss: 1.1313 - accuracy: 0.5250\n",
      "Epoch 5/25\n",
      "12/12 [==============================] - 0s 1ms/step - loss: 0.9707 - accuracy: 0.6083\n",
      "Epoch 6/25\n",
      "12/12 [==============================] - 0s 793us/step - loss: 0.8575 - accuracy: 0.6333\n",
      "Epoch 7/25\n",
      "12/12 [==============================] - 0s 1ms/step - loss: 0.7855 - accuracy: 0.8167\n",
      "Epoch 8/25\n",
      "12/12 [==============================] - 0s 889us/step - loss: 0.7316 - accuracy: 0.9333\n",
      "Epoch 9/25\n",
      "12/12 [==============================] - 0s 1ms/step - loss: 0.6965 - accuracy: 0.9500\n",
      "Epoch 10/25\n",
      "12/12 [==============================] - 0s 1ms/step - loss: 0.6718 - accuracy: 0.9333\n",
      "Epoch 11/25\n",
      "12/12 [==============================] - 0s 987us/step - loss: 0.6529 - accuracy: 0.9333\n",
      "Epoch 12/25\n",
      "12/12 [==============================] - 0s 1ms/step - loss: 0.6363 - accuracy: 0.8917\n",
      "Epoch 13/25\n",
      "12/12 [==============================] - 0s 1ms/step - loss: 0.6202 - accuracy: 0.8917\n",
      "Epoch 14/25\n",
      "12/12 [==============================] - 0s 974us/step - loss: 0.6057 - accuracy: 0.9000\n",
      "Epoch 15/25\n",
      "12/12 [==============================] - 0s 2ms/step - loss: 0.5907 - accuracy: 0.9167\n",
      "Epoch 16/25\n",
      "12/12 [==============================] - 0s 1ms/step - loss: 0.5768 - accuracy: 0.9250\n",
      "Epoch 17/25\n",
      "12/12 [==============================] - 0s 2ms/step - loss: 0.5642 - accuracy: 0.9333\n",
      "Epoch 18/25\n",
      "12/12 [==============================] - 0s 1ms/step - loss: 0.5504 - accuracy: 0.9333\n",
      "Epoch 19/25\n",
      "12/12 [==============================] - 0s 2ms/step - loss: 0.5397 - accuracy: 0.9083\n",
      "Epoch 20/25\n",
      "12/12 [==============================] - 0s 1ms/step - loss: 0.5267 - accuracy: 0.9000\n",
      "Epoch 21/25\n",
      "12/12 [==============================] - 0s 960us/step - loss: 0.5154 - accuracy: 0.9167\n",
      "Epoch 22/25\n",
      "12/12 [==============================] - 0s 1ms/step - loss: 0.5053 - accuracy: 0.9333\n",
      "Epoch 23/25\n",
      "12/12 [==============================] - 0s 906us/step - loss: 0.4960 - accuracy: 0.9333\n",
      "Epoch 24/25\n",
      "12/12 [==============================] - 0s 1ms/step - loss: 0.4848 - accuracy: 0.9417\n",
      "Epoch 25/25\n",
      "12/12 [==============================] - 0s 997us/step - loss: 0.4747 - accuracy: 0.9333\n"
     ]
    },
    {
     "data": {
      "text/plain": [
       "<keras.src.callbacks.History at 0x1dd4daab950>"
      ]
     },
     "execution_count": 23,
     "metadata": {},
     "output_type": "execute_result"
    }
   ],
   "source": [
    "model.fit(x_train,y_train, epochs=25, batch_size=10)"
   ]
  },
  {
   "cell_type": "code",
   "execution_count": 24,
   "metadata": {},
   "outputs": [
    {
     "name": "stdout",
     "output_type": "stream",
     "text": [
      "1/1 [==============================] - 0s 125ms/step - loss: 0.5405 - accuracy: 0.7667\n",
      "loss = 0.540513813495636, accuracy = 0.7666666507720947\n"
     ]
    }
   ],
   "source": [
    "# Imprimimos la precisión del modelo , multiplicada por 100 para obtener porcentaje\n",
    "loss, accuracy = model.evaluate(x_test, y_test)\n",
    "print(f'{loss = }, {accuracy = }')"
   ]
  },
  {
   "cell_type": "code",
   "execution_count": 43,
   "metadata": {},
   "outputs": [
    {
     "name": "stdout",
     "output_type": "stream",
     "text": [
      "Epoch 1/10\n",
      "12/12 [==============================] - 0s 1ms/step - loss: 0.8088 - accuracy: 0.6917\n",
      "Epoch 2/10\n",
      "12/12 [==============================] - 0s 997us/step - loss: 0.7975 - accuracy: 0.6917\n",
      "Epoch 3/10\n",
      "12/12 [==============================] - 0s 906us/step - loss: 0.7895 - accuracy: 0.6917\n",
      "Epoch 4/10\n",
      "12/12 [==============================] - 0s 1ms/step - loss: 0.7801 - accuracy: 0.6917\n",
      "Epoch 5/10\n",
      "12/12 [==============================] - 0s 1ms/step - loss: 0.7725 - accuracy: 0.6917\n",
      "Epoch 6/10\n",
      "12/12 [==============================] - 0s 1ms/step - loss: 0.7632 - accuracy: 0.6917\n",
      "Epoch 7/10\n",
      "12/12 [==============================] - 0s 1ms/step - loss: 0.7539 - accuracy: 0.6917\n",
      "Epoch 8/10\n",
      "12/12 [==============================] - 0s 1ms/step - loss: 0.7458 - accuracy: 0.6917\n",
      "Epoch 9/10\n",
      "12/12 [==============================] - 0s 1ms/step - loss: 0.7382 - accuracy: 0.6917\n",
      "Epoch 10/10\n",
      "12/12 [==============================] - 0s 1ms/step - loss: 0.7289 - accuracy: 0.6917\n",
      "1/1 [==============================] - 0s 18ms/step - loss: 0.7732 - accuracy: 0.5667\n",
      "vueltas = 1, loss = 0.7732487916946411, accuracy = 0.5666666626930237\n",
      "Epoch 1/10\n",
      "12/12 [==============================] - 0s 958us/step - loss: 0.7207 - accuracy: 0.6917\n",
      "Epoch 2/10\n",
      "12/12 [==============================] - 0s 997us/step - loss: 0.7130 - accuracy: 0.6917\n",
      "Epoch 3/10\n",
      "12/12 [==============================] - 0s 1ms/step - loss: 0.7054 - accuracy: 0.6917\n",
      "Epoch 4/10\n",
      "12/12 [==============================] - 0s 2ms/step - loss: 0.6972 - accuracy: 0.6917\n",
      "Epoch 5/10\n",
      "12/12 [==============================] - 0s 1ms/step - loss: 0.6892 - accuracy: 0.6917\n",
      "Epoch 6/10\n",
      "12/12 [==============================] - 0s 1ms/step - loss: 0.6818 - accuracy: 0.6917\n",
      "Epoch 7/10\n",
      "12/12 [==============================] - 0s 1ms/step - loss: 0.6745 - accuracy: 0.6917\n",
      "Epoch 8/10\n",
      "12/12 [==============================] - 0s 1ms/step - loss: 0.6677 - accuracy: 0.6917\n",
      "Epoch 9/10\n",
      "12/12 [==============================] - 0s 2ms/step - loss: 0.6599 - accuracy: 0.6917\n",
      "Epoch 10/10\n",
      "12/12 [==============================] - 0s 1ms/step - loss: 0.6532 - accuracy: 0.6917\n",
      "1/1 [==============================] - 0s 19ms/step - loss: 0.6924 - accuracy: 0.5667\n",
      "vueltas = 2, loss = 0.6923691630363464, accuracy = 0.5666666626930237\n"
     ]
    }
   ],
   "source": [
    "mejora = True\n",
    "epoch_step = 2\n",
    "accuracy_old = -1\n",
    "loss_old = -1\n",
    "vueltas = 1\n",
    "while mejora :\n",
    "    model.fit(x_train,y_train, epochs=epoch_step, batch_size=10)\n",
    "    loss, accuracy = model.evaluate(x_test, y_test)\n",
    "    if loss <= loss_old:\n",
    "        mejora = False\n",
    "    else:\n",
    "        mejora = True\n",
    "        loss_old = loss\n",
    "    print(f'{vueltas = }, {loss = }, {accuracy = }')\n",
    "    vueltas= vueltas+1"
   ]
  }
 ],
 "metadata": {
  "kernelspec": {
   "display_name": "Python 3",
   "language": "python",
   "name": "python3"
  },
  "language_info": {
   "codemirror_mode": {
    "name": "ipython",
    "version": 3
   },
   "file_extension": ".py",
   "mimetype": "text/x-python",
   "name": "python",
   "nbconvert_exporter": "python",
   "pygments_lexer": "ipython3",
   "version": "3.11.2"
  },
  "orig_nbformat": 4
 },
 "nbformat": 4,
 "nbformat_minor": 2
}
