{
 "cells": [
  {
   "cell_type": "markdown",
   "metadata": {},
   "source": [
    "# Hoja de Trabajo 1: Experimentación con Redes Neuronales\n",
    "\n",
    "## Introducción\n",
    "Este ejercicio tiene como objetivo profundizar en la comprensión de las redes neuronales mediante la experimentación. A través de variaciones en la arquitectura y parámetros, se busca entender cómo se comporta y aprende una red neuronal. Utilizaremos el dataset \"Heart Disease\" disponible en el UCI Machine Learning Repository.\n",
    "\n",
    "## Dataset \"Heart Disease\"\n",
    "Puedes descargar el dataset directamente desde el siguiente enlace:\n",
    "http://archive.ics.uci.edu/dataset/45/heart+disease. Recuerda que vamos a estar utilizando CRISP-DM para crear los modelos. El primer paso es comprender los datos. Ese link te proporciona la información necesaria para entender el dataset. Las columnas y el rol que cada columna va a jugar en tu modelo (variables independientes y dependiente). Como menciona la documentación, utiliza solo la base de datos de Cleveland."
   ]
  },
  {
   "cell_type": "markdown",
   "metadata": {},
   "source": [
    "## Sección 1: Preparación de Datos\n",
    "* Descarga y carga el dataset \"Heart Disease\".\n",
    "* Realiza un breve análisis exploratorio: ¿Qué tipo de datos contiene? ¿Cuántos ejemplos hay?. \n",
    "* Procesa el dataset: normaliza o estandariza si es necesario, divide el dataset en conjuntos de entrenamiento y prueba.\n",
    "\n",
    "Nuestro enfoque de hoy no es un mega modelo sino comprender mejor como se comportan las redes neuronales. Realiza lo necesario pero nada muy extravagante."
   ]
  },
  {
   "cell_type": "markdown",
   "metadata": {},
   "source": [
    "### Carga de datos y análisis general"
   ]
  },
  {
   "cell_type": "code",
   "execution_count": 101,
   "metadata": {},
   "outputs": [],
   "source": [
    "import pandas as pd\n",
    "import numpy as np\n",
    "import matplotlib as plt"
   ]
  },
  {
   "cell_type": "code",
   "execution_count": 73,
   "metadata": {},
   "outputs": [
    {
     "name": "stdout",
     "output_type": "stream",
     "text": [
      "Información general del dataset:\n",
      "<class 'pandas.core.frame.DataFrame'>\n",
      "RangeIndex: 303 entries, 0 to 302\n",
      "Data columns (total 14 columns):\n",
      " #   Column    Non-Null Count  Dtype  \n",
      "---  ------    --------------  -----  \n",
      " 0   age       303 non-null    float64\n",
      " 1   sex       303 non-null    float64\n",
      " 2   cp        303 non-null    float64\n",
      " 3   trestbps  303 non-null    float64\n",
      " 4   chol      303 non-null    float64\n",
      " 5   fbs       303 non-null    float64\n",
      " 6   restecg   303 non-null    float64\n",
      " 7   thalach   303 non-null    float64\n",
      " 8   exang     303 non-null    float64\n",
      " 9   oldpeak   303 non-null    float64\n",
      " 10  slope     303 non-null    float64\n",
      " 11  ca        303 non-null    object \n",
      " 12  thal      303 non-null    object \n",
      " 13  num       303 non-null    int64  \n",
      "dtypes: float64(11), int64(1), object(2)\n",
      "memory usage: 33.3+ KB\n",
      "None\n",
      "\n",
      "La matriz tiene una dimensión de: (303, 14)\n",
      "Se tienen los tipos de datos: [dtype('float64'), dtype('O'), dtype('int64')]\n"
     ]
    }
   ],
   "source": [
    "col_names = ['age', 'sex', 'cp', 'trestbps', 'chol', 'fbs', 'restecg', 'thalach', 'exang', 'oldpeak', 'slope', 'ca', 'thal', 'num']\n",
    "data =pd.DataFrame(pd.read_csv(\"processed.cleveland.data\", sep= ',', names=col_names))\n",
    "print(\"Información general del dataset:\")\n",
    "print(data.info())\n",
    "print(\"\")\n",
    "print(f\"La matriz tiene una dimensión de: {data.shape}\")\n",
    "print(f\"Se tienen los tipos de datos: {data.dtypes.unique().tolist()}\")"
   ]
  },
  {
   "cell_type": "markdown",
   "metadata": {},
   "source": [
    "### Distribución y estadísticas generales del dataset"
   ]
  },
  {
   "cell_type": "code",
   "execution_count": 35,
   "metadata": {},
   "outputs": [
    {
     "name": "stdout",
     "output_type": "stream",
     "text": [
      "Distribución y composición del dataset:\n",
      "              age         sex          cp    trestbps        chol         fbs  \\\n",
      "count  303.000000  303.000000  303.000000  303.000000  303.000000  303.000000   \n",
      "mean    54.438944    0.679868    3.158416  131.689769  246.693069    0.148515   \n",
      "std      9.038662    0.467299    0.960126   17.599748   51.776918    0.356198   \n",
      "min     29.000000    0.000000    1.000000   94.000000  126.000000    0.000000   \n",
      "25%     48.000000    0.000000    3.000000  120.000000  211.000000    0.000000   \n",
      "50%     56.000000    1.000000    3.000000  130.000000  241.000000    0.000000   \n",
      "75%     61.000000    1.000000    4.000000  140.000000  275.000000    0.000000   \n",
      "max     77.000000    1.000000    4.000000  200.000000  564.000000    1.000000   \n",
      "\n",
      "          restecg     thalach       exang     oldpeak       slope         num  \n",
      "count  303.000000  303.000000  303.000000  303.000000  303.000000  303.000000  \n",
      "mean     0.990099  149.607261    0.326733    1.039604    1.600660    0.937294  \n",
      "std      0.994971   22.875003    0.469794    1.161075    0.616226    1.228536  \n",
      "min      0.000000   71.000000    0.000000    0.000000    1.000000    0.000000  \n",
      "25%      0.000000  133.500000    0.000000    0.000000    1.000000    0.000000  \n",
      "50%      1.000000  153.000000    0.000000    0.800000    2.000000    0.000000  \n",
      "75%      2.000000  166.000000    1.000000    1.600000    2.000000    2.000000  \n",
      "max      2.000000  202.000000    1.000000    6.200000    3.000000    4.000000  \n"
     ]
    }
   ],
   "source": [
    "print(\"Distribución y composición del dataset:\")\n",
    "print(data.describe())"
   ]
  },
  {
   "cell_type": "code",
   "execution_count": 36,
   "metadata": {},
   "outputs": [
    {
     "name": "stdout",
     "output_type": "stream",
     "text": [
      "Primeras líneas:\n",
      "    age  sex   cp  trestbps   chol  fbs  restecg  thalach  exang  oldpeak  \\\n",
      "0  63.0  1.0  1.0     145.0  233.0  1.0      2.0    150.0    0.0      2.3   \n",
      "1  67.0  1.0  4.0     160.0  286.0  0.0      2.0    108.0    1.0      1.5   \n",
      "2  67.0  1.0  4.0     120.0  229.0  0.0      2.0    129.0    1.0      2.6   \n",
      "3  37.0  1.0  3.0     130.0  250.0  0.0      0.0    187.0    0.0      3.5   \n",
      "4  41.0  0.0  2.0     130.0  204.0  0.0      2.0    172.0    0.0      1.4   \n",
      "\n",
      "   slope   ca thal  num  \n",
      "0    3.0  0.0  6.0    0  \n",
      "1    2.0  3.0  3.0    2  \n",
      "2    2.0  2.0  7.0    1  \n",
      "3    3.0  0.0  3.0    0  \n",
      "4    1.0  0.0  3.0    0  \n"
     ]
    }
   ],
   "source": [
    "print(\"Primeras líneas:\")\n",
    "print(data.head())"
   ]
  },
  {
   "cell_type": "markdown",
   "metadata": {},
   "source": [
    "### Tipo de variables"
   ]
  },
  {
   "cell_type": "code",
   "execution_count": 76,
   "metadata": {},
   "outputs": [],
   "source": [
    "def getDateColTypes (df):\n",
    "    categoricas=[]\n",
    "    continuas=[]\n",
    "    discretas=[]\n",
    "\n",
    "    for colName in df.columns:\n",
    "        if(df[colName].dtype=='object'):\n",
    "            categoricas.append(colName)\n",
    "        else:\n",
    "            if((df[colName].dtype=='int64')or (df[colName].dtype=='float64')or (df[colName].dtype=='uint8')):\n",
    "                if (len(df[colName].unique())<=30):\n",
    "                    discretas.append(colName)\n",
    "                else:\n",
    "                    continuas.append(colName)\n",
    "    return categoricas, continuas, discretas\n",
    "\n",
    "categoricas, continuas, discretas=getDateColTypes(data)\n",
    "\n",
    "tipos_var = {\"Categoricas\":categoricas, \"Contínuas\": continuas, \"Discretas\":discretas}"
   ]
  },
  {
   "cell_type": "code",
   "execution_count": 77,
   "metadata": {},
   "outputs": [
    {
     "data": {
      "text/plain": [
       "{'Categoricas': ['ca', 'thal'],\n",
       " 'Contínuas': ['age', 'trestbps', 'chol', 'thalach', 'oldpeak'],\n",
       " 'Discretas': ['sex', 'cp', 'fbs', 'restecg', 'exang', 'slope', 'num']}"
      ]
     },
     "execution_count": 77,
     "metadata": {},
     "output_type": "execute_result"
    }
   ],
   "source": [
    "tipos_var"
   ]
  },
  {
   "cell_type": "code",
   "execution_count": 72,
   "metadata": {},
   "outputs": [
    {
     "name": "stdout",
     "output_type": "stream",
     "text": [
      "Las variables Categoricas: ca, thal\n",
      "Las variables Contínuas: age, trestbps, chol, thalach, oldpeak\n",
      "Las variables Discretas: sex, cp, fbs, restecg, exang, slope, num\n"
     ]
    }
   ],
   "source": [
    "for i, lista in tipos_var.items():\n",
    "    tipos = \", \".join(map(str, lista)) if lista else \"No hay\"\n",
    "    print(f\"Las variables {i}: {tipos}\")"
   ]
  },
  {
   "cell_type": "markdown",
   "metadata": {},
   "source": [
    "### Validación variables con nulos"
   ]
  },
  {
   "cell_type": "code",
   "execution_count": 78,
   "metadata": {},
   "outputs": [
    {
     "data": {
      "text/plain": [
       "[]"
      ]
     },
     "execution_count": 78,
     "metadata": {},
     "output_type": "execute_result"
    }
   ],
   "source": [
    "cols_Nan=[col for col in data.columns if(data[col].isnull().mean()>0)]\n",
    "cols_Nan"
   ]
  },
  {
   "cell_type": "markdown",
   "metadata": {},
   "source": [
    "Debido a que no se tienen variables con nulos, se procede a realizar análisis de las variables imputadas con el caracter ?"
   ]
  },
  {
   "cell_type": "markdown",
   "metadata": {},
   "source": [
    "Se convierten las variables a numéricos y se determina la cantidad de datos faltantes para determinar su tratamiento"
   ]
  },
  {
   "cell_type": "code",
   "execution_count": 100,
   "metadata": {},
   "outputs": [
    {
     "name": "stdout",
     "output_type": "stream",
     "text": [
      "Para la variable ca_na, se tiene media = 1.32 % valores nulos\n",
      "Para la variable thal_na, se tiene media = 0.66 % valores nulos\n"
     ]
    }
   ],
   "source": [
    "# Se copian las columnas como NaN \n",
    "data[\"ca_na\"]= pd.to_numeric(data['ca'], errors='coerce')\n",
    "data[\"thal_na\"]= pd.to_numeric(data['thal'], errors='coerce')\n",
    "\n",
    "# Se obtiene el porcentaje de datos con NaN\n",
    "media=round(data['ca_na'].isnull().mean()*100,2)\n",
    "print(f'Para la variable ca_na, se tiene {media = } % valores nulos')\n",
    "media=round(data['thal_na'].isnull().mean()*100,2)\n",
    "print(f'Para la variable thal_na, se tiene {media = } % valores nulos')"
   ]
  },
  {
   "cell_type": "code",
   "execution_count": 109,
   "metadata": {},
   "outputs": [
    {
     "name": "stdout",
     "output_type": "stream",
     "text": [
      "            ca_na     thal_na\n",
      "count  299.000000  301.000000\n",
      "mean     0.672241    4.734219\n",
      "std      0.937438    1.939706\n",
      "min      0.000000    3.000000\n",
      "25%      0.000000    3.000000\n",
      "50%      0.000000    3.000000\n",
      "75%      1.000000    7.000000\n",
      "max      3.000000    7.000000\n"
     ]
    }
   ],
   "source": [
    "print(data[['ca_na','thal_na']].describe())\n",
    "media=round(data['ca_na'].mean(),0)\n",
    "mediana=round(data['ca_na'].median(),0)"
   ]
  },
  {
   "cell_type": "code",
   "execution_count": null,
   "metadata": {},
   "outputs": [],
   "source": [
    "# Representación gráfica\n",
    "fig=plt.figure()\n",
    "ax=fig.add_subplot(111)\n",
    "\n",
    "data['ca'].plot.density(color='red',label='Original')\n",
    "data['ca_Mean'].plot.density(color='blue',label='Media')\n",
    "data['ca_Median'].plot.density(color='green',label='Mediana')\n",
    "ax.legend()\n",
    "plt.show()\n"
   ]
  },
  {
   "cell_type": "markdown",
   "metadata": {},
   "source": [
    "## Sección 2: Construcción de la Red Neuronal\n",
    "\n",
    "Construye una red neuronal básica utilizando Keras.\n",
    "\n",
    "* Define la arquitectura: número de capas, neuronas por capa, función de activación.\n",
    "* Compila el modelo especificando la función de pérdida, el optimizador y métricas adicionales.\n",
    "* Realiza una breve descripción escrita de la arquitectura que has definido."
   ]
  },
  {
   "cell_type": "code",
   "execution_count": 17,
   "metadata": {},
   "outputs": [],
   "source": [
    "### Tu código aquí"
   ]
  },
  {
   "cell_type": "code",
   "execution_count": 18,
   "metadata": {},
   "outputs": [],
   "source": [
    "### Tu descripción aquí"
   ]
  },
  {
   "cell_type": "markdown",
   "metadata": {},
   "source": [
    "## Sección 3: Experimentación\n",
    "\n",
    "Utiliza ciclos para las siguientes pruebas. Debes entrenar varios modelos variando el parámetro indicado en cada inciso según el rango y paso proporcionado. Recuerda almacenar tus resultados porque te servirán en la siguiente sección."
   ]
  },
  {
   "cell_type": "markdown",
   "metadata": {},
   "source": [
    "### Variabilidad en Capas Ocultas:\n",
    "\n",
    "Las redes con demasiadas capas pueden tardar mucho tiempo en entrenarse, especialmente si no se dispone de un hardware adecuado.\n",
    "\n",
    "* Rango: Entre 1 y 10 capas.\n",
    "* Paso: 1 capa.\n",
    "* Nota: En muchos problemas, incluso 2-3 capas son suficientes para obtener buenos resultados. Por encima de eso, a veces se necesita una arquitectura especializada o un problema muy complejo para justificar más capas."
   ]
  },
  {
   "cell_type": "code",
   "execution_count": 19,
   "metadata": {},
   "outputs": [],
   "source": [
    "### Tu código aquí"
   ]
  },
  {
   "cell_type": "markdown",
   "metadata": {},
   "source": [
    "### Variabilidad en Neuronas:\n",
    "\n",
    "El número de neuronas por capa influye en la capacidad de la red. Sin embargo, demasiadas neuronas pueden hacer que el entrenamiento sea más lento y puede causar sobreajuste.\n",
    "\n",
    "* Rango: Entre 10 y 1000 neuronas.\n",
    "* Paso: Incremento logarítmico"
   ]
  },
  {
   "cell_type": "code",
   "execution_count": 20,
   "metadata": {},
   "outputs": [],
   "source": [
    "### Tu código aquí"
   ]
  },
  {
   "cell_type": "markdown",
   "metadata": {},
   "source": [
    "### Variabilidad en Épocas:\n",
    "\n",
    "Demasiadas épocas sin una técnica de parada temprana pueden llevar al sobreajuste.\n",
    "\n",
    "* Rango: Entre 10 y 5000 épocas.\n",
    "* Paso: Incremento logarítmico"
   ]
  },
  {
   "cell_type": "code",
   "execution_count": 21,
   "metadata": {},
   "outputs": [],
   "source": [
    "### Tu código aquí"
   ]
  },
  {
   "cell_type": "markdown",
   "metadata": {},
   "source": [
    "## Tamaño de Batch:\n",
    "\n",
    "El tamaño del batch influye en la velocidad de entrenamiento y la estabilidad del modelo. Un batch muy grande puede no caber en la memoria, mientras que uno muy pequeño puede hacer que el entrenamiento sea inestable.\n",
    "\n",
    "* Rango: Entre 1 (Stochastic Gradient Descent) y el tamaño del conjunto de datos (Batch Gradient Descent).\n",
    "* Paso: Incremento logarítmico"
   ]
  },
  {
   "cell_type": "code",
   "execution_count": 22,
   "metadata": {},
   "outputs": [],
   "source": [
    "### Tu código aquí"
   ]
  },
  {
   "cell_type": "markdown",
   "metadata": {},
   "source": [
    "## Sección 4: Análisis y Reflexión\n",
    "\n",
    "Con los datos recopilados de las pruebas anteriores, genera gráficos que permitan comparar y analizar el rendimiento del modelo. Te recomendamos utilizar librerías como matplotlib o seaborn para esta tarea. Luego de cada gráfico debes incluir un conclusión de lo que has aprendido con la experimentación y los gráficos."
   ]
  },
  {
   "cell_type": "markdown",
   "metadata": {},
   "source": [
    "### Variabilidad en Capas Ocultas\n",
    "\n",
    "Realiza 2 gráficos.  Uno con cada una de las variables indicadas para el eje Y.\n",
    "\n",
    "* Eje X: Número de capas ocultas.\n",
    "* Eje Y: Precisión y pérdida."
   ]
  },
  {
   "cell_type": "code",
   "execution_count": 23,
   "metadata": {},
   "outputs": [],
   "source": [
    "### Tu código aquí"
   ]
  },
  {
   "cell_type": "code",
   "execution_count": 24,
   "metadata": {},
   "outputs": [],
   "source": [
    "### Tu conclusión aquí\n",
    "\n",
    "### Como definiste la cantidad de neuronas para tus capas ocultas?"
   ]
  },
  {
   "cell_type": "markdown",
   "metadata": {},
   "source": [
    "### Variabilidad en Neuronas\n",
    "\n",
    "Realiza 2 gráficos.  Uno con cada una de las variables indicadas para el eje Y.\n",
    "\n",
    "* Eje X: Número de neuronas.\n",
    "* Eje Y: Precisión y pérdida."
   ]
  },
  {
   "cell_type": "code",
   "execution_count": 25,
   "metadata": {},
   "outputs": [],
   "source": [
    "### Tu código aquí"
   ]
  },
  {
   "cell_type": "code",
   "execution_count": 26,
   "metadata": {},
   "outputs": [],
   "source": [
    "### Tu conclusión aquí\n",
    "\n",
    "### Cosideras necesario cambiar la cantidad de neuronas para el ejercicio sobre variabilidad en capas ocultas?"
   ]
  },
  {
   "cell_type": "markdown",
   "metadata": {},
   "source": [
    "### Variabilidad en Épocas\n",
    "\n",
    "Realiza 1 gráfico\n",
    "\n",
    "* Eje X: Número de épocas.\n",
    "* Eje Y: Precisión y pérdida."
   ]
  },
  {
   "cell_type": "code",
   "execution_count": 27,
   "metadata": {},
   "outputs": [],
   "source": [
    "### Tu código aquí"
   ]
  },
  {
   "cell_type": "code",
   "execution_count": 28,
   "metadata": {},
   "outputs": [],
   "source": [
    "### Tu conclusión aquí"
   ]
  },
  {
   "cell_type": "markdown",
   "metadata": {},
   "source": [
    "### Tamaño de Batch:\n",
    "\n",
    "Realiza 2 gráficos.  Uno con cada una de las variables indicadas para el eje Y.\n",
    "* Eje X: Tamaño del batch.\n",
    "* Eje Y: Precisión y pérdida."
   ]
  },
  {
   "cell_type": "code",
   "execution_count": 29,
   "metadata": {},
   "outputs": [],
   "source": [
    "### Tu código aquí"
   ]
  },
  {
   "cell_type": "code",
   "execution_count": 30,
   "metadata": {},
   "outputs": [],
   "source": [
    "### Tu conclusión aquí"
   ]
  }
 ],
 "metadata": {
  "kernelspec": {
   "display_name": "milton_latest",
   "language": "python",
   "name": "python3"
  },
  "language_info": {
   "codemirror_mode": {
    "name": "ipython",
    "version": 3
   },
   "file_extension": ".py",
   "mimetype": "text/x-python",
   "name": "python",
   "nbconvert_exporter": "python",
   "pygments_lexer": "ipython3",
   "version": "3.11.2"
  },
  "orig_nbformat": 4
 },
 "nbformat": 4,
 "nbformat_minor": 2
}
